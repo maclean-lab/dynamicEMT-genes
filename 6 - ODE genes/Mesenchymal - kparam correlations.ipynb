{
 "cells": [
  {
   "cell_type": "markdown",
   "id": "57aed5ff-ff9a-4b36-91d2-47dbeaa360fd",
   "metadata": {},
   "source": [
    "## Mesenchymal State DE Genes, Correlated with ODE Parameters"
   ]
  },
  {
   "cell_type": "code",
   "execution_count": 1,
   "id": "f2b19402-b654-4374-b8a2-014c24ebf9c4",
   "metadata": {},
   "outputs": [],
   "source": [
    "import os\n",
    "import csv\n",
    "import glob\n",
    "import numpy as np\n",
    "import pandas as pd\n",
    "import matplotlib.pyplot as plt\n",
    "import openpyxl\n",
    "import shutil"
   ]
  },
  {
   "cell_type": "code",
   "execution_count": 2,
   "id": "fe3e347c-b84b-4ba7-8d40-aab0b62078d7",
   "metadata": {},
   "outputs": [],
   "source": [
    "currStateDir = os.getcwd()"
   ]
  },
  {
   "cell_type": "code",
   "execution_count": 3,
   "id": "1744d23e-3d3c-46b5-947b-4e6516ab442b",
   "metadata": {},
   "outputs": [
    {
     "data": {
      "text/plain": [
       "'/Users/meilumcd/Desktop/EMT-in-cancer/Cross-Dataset Comparisons/Mesenchymal State Genes'"
      ]
     },
     "execution_count": 3,
     "metadata": {},
     "output_type": "execute_result"
    }
   ],
   "source": [
    "currStateDir"
   ]
  },
  {
   "cell_type": "code",
   "execution_count": 24,
   "id": "1746257a-9ab5-4c19-a5dd-9599ab56aaf8",
   "metadata": {},
   "outputs": [],
   "source": [
    "# File & folder names\n",
    "\n",
    "currState = \"Mesenchymal\"\n",
    "\n",
    "dataFolder = currStateDir+\"/Data - Log2FC from Conditions & Genes\"\n",
    "outputFolder = currStateDir+\"/\"+currState+\" State Log2FC Analysis, Genes output\"\n",
    "outputHistogramFolder = outputFolder+\"/_Log2FC Gene Histograms Across All Conditions, Upregulated\"\n",
    "outputGeneExpressionFolder = outputFolder+\"/Output - Upregulated \"+currState+\" State Genes, Log Gene Expression\"\n",
    "outputGenesVsParamsFolder = currStateDir+\"/\"+currState+\" State Log2FC Analysis, Genes v kparams output\"\n",
    "\n",
    "allConditions_fileName = \"_Mesenchymal State Marker Genes, All Conditions.csv\"\n",
    "\n",
    "# EMT Marker directory\n",
    "emtMarkerDir = os.path.dirname(currStateDir)+\"/Markers\"\n",
    "\n",
    "# Percent of cells with gene expression directory\n",
    "nCellsFolder = os.path.dirname(currStateDir)+\"/nCells\"\n",
    "\n",
    "# KParam correlation folders\n",
    "k2Pos_Folder = outputGenesVsParamsFolder+\"/_k2 vs Log2FC Gene, Positively Correlated\"\n",
    "k2Neg_Folder = outputGenesVsParamsFolder+\"/_k2 vs Log2FC Gene, Negatively Correlated\"\n",
    "k2Pos_ParamCorr_Folder = k2Pos_Folder+\"/_Gene Correlation Graphs, k2 Pos\"\n",
    "k2Neg_ParamCorr_Folder = k2Neg_Folder+\"/_Gene Correlation Graphs, k2 Neg\"\n",
    "\n",
    "k2Pos_File = \"Output - k2 Upregulated, I to M, Genes Speeding Transition Time.xlsx\"\n",
    "k2Neg_File = \"Output - k2 Downregulated, I to M, Genes Slowing Transition Time.xlsx\""
   ]
  },
  {
   "cell_type": "markdown",
   "id": "7a307e84-67bd-49d0-8a24-77ececc21103",
   "metadata": {},
   "source": [
    "## Import DE Gene Names"
   ]
  },
  {
   "cell_type": "code",
   "execution_count": 25,
   "id": "fc0dc1cf-fd16-4bab-93eb-d22ce91d2924",
   "metadata": {},
   "outputs": [],
   "source": [
    "# Import data\n",
    "\n",
    "os.chdir(dataFolder)\n",
    "DE_genes = pd.read_csv(open(allConditions_fileName,'r'))"
   ]
  },
  {
   "cell_type": "code",
   "execution_count": 26,
   "id": "cc0f0682-fc89-470e-9612-2cdccfc02d78",
   "metadata": {},
   "outputs": [
    {
     "data": {
      "text/html": [
       "<div>\n",
       "<style scoped>\n",
       "    .dataframe tbody tr th:only-of-type {\n",
       "        vertical-align: middle;\n",
       "    }\n",
       "\n",
       "    .dataframe tbody tr th {\n",
       "        vertical-align: top;\n",
       "    }\n",
       "\n",
       "    .dataframe thead th {\n",
       "        text-align: right;\n",
       "    }\n",
       "</style>\n",
       "<table border=\"1\" class=\"dataframe\">\n",
       "  <thead>\n",
       "    <tr style=\"text-align: right;\">\n",
       "      <th></th>\n",
       "      <th>1-Pastushenko_Pastushenko, M</th>\n",
       "      <th>2-vanDijk_TGFb-day8_rep1, M</th>\n",
       "      <th>2-vanDijk_TGFb-day8_rep2, M</th>\n",
       "      <th>2-vanDijk_TGFb-day10_rep1, M</th>\n",
       "      <th>2-vanDijk_TGFb-day10_rep2, M</th>\n",
       "      <th>2-vanDijk_Zeb1_rep1, M</th>\n",
       "      <th>2-vanDijk_Zeb1_rep2, M</th>\n",
       "      <th>3-Cook_A549-TGFB1, M</th>\n",
       "      <th>3-Cook_DU145-TGFB1, M</th>\n",
       "      <th>3-Cook_OVCA420-EGF, M</th>\n",
       "      <th>3-Cook_OVCA420-TGFB1, M</th>\n",
       "      <th>3-Cook_OVCA420-TNF, M</th>\n",
       "    </tr>\n",
       "  </thead>\n",
       "  <tbody>\n",
       "    <tr>\n",
       "      <th>0</th>\n",
       "      <td>YAP1</td>\n",
       "      <td>COL1A1</td>\n",
       "      <td>COL1A1</td>\n",
       "      <td>VIM</td>\n",
       "      <td>COL1A1</td>\n",
       "      <td>COL1A1</td>\n",
       "      <td>COL1A1</td>\n",
       "      <td>TGFBI</td>\n",
       "      <td>UBC</td>\n",
       "      <td>LAMC2</td>\n",
       "      <td>LAMC2</td>\n",
       "      <td>TSPAN8</td>\n",
       "    </tr>\n",
       "    <tr>\n",
       "      <th>1</th>\n",
       "      <td>ANKRD1</td>\n",
       "      <td>VIM</td>\n",
       "      <td>FBN1</td>\n",
       "      <td>COL1A1</td>\n",
       "      <td>VIM</td>\n",
       "      <td>IGFBP4</td>\n",
       "      <td>IGFBP4</td>\n",
       "      <td>CCDC80</td>\n",
       "      <td>MDH1</td>\n",
       "      <td>TGM2</td>\n",
       "      <td>MT2A</td>\n",
       "      <td>ANXA4</td>\n",
       "    </tr>\n",
       "    <tr>\n",
       "      <th>2</th>\n",
       "      <td>9230110C19RIK</td>\n",
       "      <td>SERPINE1</td>\n",
       "      <td>FN1</td>\n",
       "      <td>COL4A1</td>\n",
       "      <td>COL4A1</td>\n",
       "      <td>VIM</td>\n",
       "      <td>VIM</td>\n",
       "      <td>NPC2</td>\n",
       "      <td>CCT5</td>\n",
       "      <td>TFPI2</td>\n",
       "      <td>TGM2</td>\n",
       "      <td>LCN2</td>\n",
       "    </tr>\n",
       "    <tr>\n",
       "      <th>3</th>\n",
       "      <td>BIRC2</td>\n",
       "      <td>SPARC</td>\n",
       "      <td>VIM</td>\n",
       "      <td>CDH2</td>\n",
       "      <td>SERPINE1</td>\n",
       "      <td>FN1</td>\n",
       "      <td>FN1</td>\n",
       "      <td>TPM1</td>\n",
       "      <td>HSP90B1</td>\n",
       "      <td>OCIAD2</td>\n",
       "      <td>GADD45A</td>\n",
       "      <td>MPC2</td>\n",
       "    </tr>\n",
       "    <tr>\n",
       "      <th>4</th>\n",
       "      <td>TMEM123</td>\n",
       "      <td>THBS1</td>\n",
       "      <td>S100A6</td>\n",
       "      <td>FBN1</td>\n",
       "      <td>SPARC</td>\n",
       "      <td>S100A6</td>\n",
       "      <td>CTSB</td>\n",
       "      <td>IGFBP7</td>\n",
       "      <td>HSPA5</td>\n",
       "      <td>LAMB3</td>\n",
       "      <td>OCIAD2</td>\n",
       "      <td>FTL</td>\n",
       "    </tr>\n",
       "  </tbody>\n",
       "</table>\n",
       "</div>"
      ],
      "text/plain": [
       "  1-Pastushenko_Pastushenko, M 2-vanDijk_TGFb-day8_rep1, M  \\\n",
       "0                         YAP1                      COL1A1   \n",
       "1                       ANKRD1                         VIM   \n",
       "2                9230110C19RIK                    SERPINE1   \n",
       "3                        BIRC2                       SPARC   \n",
       "4                      TMEM123                       THBS1   \n",
       "\n",
       "  2-vanDijk_TGFb-day8_rep2, M 2-vanDijk_TGFb-day10_rep1, M  \\\n",
       "0                      COL1A1                          VIM   \n",
       "1                        FBN1                       COL1A1   \n",
       "2                         FN1                       COL4A1   \n",
       "3                         VIM                         CDH2   \n",
       "4                      S100A6                         FBN1   \n",
       "\n",
       "  2-vanDijk_TGFb-day10_rep2, M 2-vanDijk_Zeb1_rep1, M 2-vanDijk_Zeb1_rep2, M  \\\n",
       "0                       COL1A1                 COL1A1                 COL1A1   \n",
       "1                          VIM                 IGFBP4                 IGFBP4   \n",
       "2                       COL4A1                    VIM                    VIM   \n",
       "3                     SERPINE1                    FN1                    FN1   \n",
       "4                        SPARC                 S100A6                   CTSB   \n",
       "\n",
       "  3-Cook_A549-TGFB1, M 3-Cook_DU145-TGFB1, M 3-Cook_OVCA420-EGF, M  \\\n",
       "0                TGFBI                   UBC                 LAMC2   \n",
       "1               CCDC80                  MDH1                  TGM2   \n",
       "2                 NPC2                  CCT5                 TFPI2   \n",
       "3                 TPM1               HSP90B1                OCIAD2   \n",
       "4               IGFBP7                 HSPA5                 LAMB3   \n",
       "\n",
       "  3-Cook_OVCA420-TGFB1, M 3-Cook_OVCA420-TNF, M  \n",
       "0                   LAMC2                TSPAN8  \n",
       "1                    MT2A                 ANXA4  \n",
       "2                    TGM2                  LCN2  \n",
       "3                 GADD45A                  MPC2  \n",
       "4                  OCIAD2                   FTL  "
      ]
     },
     "execution_count": 26,
     "metadata": {},
     "output_type": "execute_result"
    }
   ],
   "source": [
    "# Each expt/condition with its list of DE genes\n",
    "\n",
    "DE_genes.head(5)\n",
    "# NaNs here are because there are not the same number of DE genes in each condition\n",
    "# (using an adj-p-val cutoff, from DE genes calculation, cutting off at maximum # genes)"
   ]
  },
  {
   "cell_type": "code",
   "execution_count": 27,
   "id": "732323e5-f872-4757-a408-87f070d8ba09",
   "metadata": {},
   "outputs": [
    {
     "data": {
      "text/plain": [
       "TIMP1       11\n",
       "TGFBI       10\n",
       "THBS1        9\n",
       "MSN          9\n",
       "CYR61        9\n",
       "SERPINE1     9\n",
       "CD59         9\n",
       "SERPINE2     9\n",
       "B2M          8\n",
       "MYL6         8\n",
       "dtype: int64"
      ]
     },
     "execution_count": 27,
     "metadata": {},
     "output_type": "execute_result"
    }
   ],
   "source": [
    "# Genes most frequently found in state\n",
    "\n",
    "flattened_DE_genes = pd.Series(DE_genes.to_numpy().flatten())\n",
    "DE_genes_union = set(flattened_DE_genes.dropna().unique())\n",
    "\n",
    "DE_genes_frequency_counts = flattened_DE_genes.value_counts()\n",
    "DE_genes_frequency_counts.head(10)"
   ]
  },
  {
   "cell_type": "code",
   "execution_count": 28,
   "id": "53cf4869-5756-4d45-878b-c4143bf10872",
   "metadata": {},
   "outputs": [],
   "source": [
    "# # For a certain gene, check which conditions it is in\n",
    "# currGene = DE_genes_frequency_counts.index[0]\n",
    "# DE_genes_log2FC.isin([currGene]).any(0)"
   ]
  },
  {
   "cell_type": "markdown",
   "id": "e4c42bec-9995-44dc-a963-d7c7c587d3ce",
   "metadata": {},
   "source": [
    "## Import DE Gene Log2FCs"
   ]
  },
  {
   "cell_type": "code",
   "execution_count": 29,
   "id": "6d4159b2-0d5a-4b8a-9a92-f1fa111abcaf",
   "metadata": {
    "tags": []
   },
   "outputs": [],
   "source": [
    "# Import data\n",
    "# For every single gene, have the Log2FC of information from each expt/condition\n",
    "# Using Log2FC(I state / all other states), within same experiment, to compare between experiments\n",
    "\n",
    "os.chdir(dataFolder)\n",
    "all_genes_log2FC = pd.DataFrame([]) # Create df\n",
    "\n",
    "# Fill df with gene Log2FC values from each condition\n",
    "# (These values are already output from processing datasets)\n",
    "inputFiles = sorted(glob.glob(currState+\" State Marker Genes - *.csv\"))\n",
    "for inputFile in inputFiles:\n",
    "    currCondition = pd.read_csv(inputFile, header=None, index_col=0)\n",
    "    currCondition.index = currCondition.index.rename(\"Gene\") # Index must have same name aross all expt conditions\n",
    "    currCondition = currCondition.rename(columns={1: inputFile[33:-4]}) # Column name is expt condition\n",
    "    # Merge the new column with imported conditions\n",
    "    all_genes_log2FC = all_genes_log2FC.join(currCondition, how='outer')"
   ]
  },
  {
   "cell_type": "code",
   "execution_count": 30,
   "id": "95e00f49-99c4-4b30-9bbe-b8a004d96a65",
   "metadata": {},
   "outputs": [],
   "source": [
    "# Change order of dataframe to be same as dataset order\n",
    "all_genes_log2FC = all_genes_log2FC[['1-Pastushenko_Pastushenko, M',\n",
    "                                     '2-vanDijk_TGFb-day8_rep1, M',\n",
    "                                     '2-vanDijk_TGFb-day8_rep2, M',\n",
    "                                     '2-vanDijk_TGFb-day10_rep1, M',\n",
    "                                     '2-vanDijk_TGFb-day10_rep2, M',\n",
    "                                     '2-vanDijk_Zeb1_rep1, M',\n",
    "                                     '2-vanDijk_Zeb1_rep2, M',\n",
    "                                     '3-Cook_A549-TGFB1, M',\n",
    "                                     '3-Cook_DU145-TGFB1, M',\n",
    "                                     '3-Cook_OVCA420-EGF, M',\n",
    "                                     '3-Cook_OVCA420-TGFB1, M',\n",
    "                                     '3-Cook_OVCA420-TNF, M']]"
   ]
  },
  {
   "cell_type": "code",
   "execution_count": 31,
   "id": "3875f7e7-6be3-4054-aede-9b78e0f869c1",
   "metadata": {
    "scrolled": true,
    "tags": []
   },
   "outputs": [],
   "source": [
    "DE_genes_log2FC = all_genes_log2FC.loc[list(DE_genes_union)]"
   ]
  },
  {
   "cell_type": "markdown",
   "id": "98cb7f4e-48cd-4fb1-a17d-9f1950bca57f",
   "metadata": {},
   "source": [
    "## Import % of Cells with Gene Expression"
   ]
  },
  {
   "cell_type": "code",
   "execution_count": 33,
   "id": "10dbfaba-d9b0-4df8-a994-164f0820c8b5",
   "metadata": {},
   "outputs": [],
   "source": [
    "# Import data\n",
    "# For every single gene, have the %cells information from each expt/condition\n",
    "os.chdir(nCellsFolder)\n",
    "all_genes_nCells = pd.DataFrame([]) # Create df\n",
    "\n",
    "# Fill df with &cells value from each condition\n",
    "# (These values are already output from processing datasets\n",
    "inputFiles = sorted(glob.glob(\"*- percent of cells with gene expression.csv\"))\n",
    "for inputFile in inputFiles:\n",
    "    currCondition = pd.read_csv(inputFile, header=None, index_col=0)\n",
    "    currCondition.index = currCondition.index.rename(\"Gene\") # Index must have same name aross all expt conditions\n",
    "    currCondition = currCondition.rename(columns={1: inputFile[1:-44]}) # Column name is expt condition\n",
    "    # Merge the new column with imported conditions\n",
    "    all_genes_nCells = all_genes_nCells.join(currCondition, how='outer')\n",
    "all_genes_nCells = all_genes_nCells[all_genes_nCells.index.notnull()]\n",
    "all_genes_nCells = all_genes_nCells.apply(pd.to_numeric)\n",
    "\n",
    "# Change order of dataframe to be same as dataset order\n",
    "all_genes_nCells = all_genes_nCells[['1-Pastushenko_Pastushenko',\n",
    "                                     '2-vanDijk_TGFb-day8_rep1',\n",
    "                                     '2-vanDijk_TGFb-day8_rep2',\n",
    "                                     '2-vanDijk_TGFb-day10_rep1',\n",
    "                                     '2-vanDijk_TGFb-day10_rep2',\n",
    "                                     '2-vanDijk_Zeb1_rep1',\n",
    "                                     '2-vanDijk_Zeb1_rep2',\n",
    "                                     '3-Cook_A549-TGFB1',\n",
    "                                     '3-Cook_DU145-TGFB1',\n",
    "                                     '3-Cook_OVCA420-EGF',\n",
    "                                     '3-Cook_OVCA420-TGFB1',\n",
    "                                     '3-Cook_OVCA420-TNF']]\n",
    "\n",
    "# Same column names as DE_genes_log2FC\n",
    "all_genes_nCells = all_genes_nCells.add_suffix(', M')\n",
    "\n",
    "all_genes_nCells.drop(columns={'1-Pastushenko_Pastushenko, M'}, inplace=True)"
   ]
  },
  {
   "cell_type": "markdown",
   "id": "4469e1bf-277b-4758-835a-ad541e032d3d",
   "metadata": {
    "tags": []
   },
   "source": [
    "## Filter DE Gene Log2FCs"
   ]
  },
  {
   "cell_type": "code",
   "execution_count": 34,
   "id": "97e7caea-ca53-4809-8b3c-735c7d511fc9",
   "metadata": {},
   "outputs": [],
   "source": [
    "# Only conditions with 1 int state (11 total)\n",
    "oneIstate_DE_genes_log2FC_filtered = DE_genes_log2FC.drop(columns=DE_genes_log2FC.columns[0], axis=1)\n",
    "oneIstate_DE_genes_log2FC_filtered = oneIstate_DE_genes_log2FC_filtered.copy().round(3)\n",
    "\n",
    "# Filter - remove genes with too many 0 log2FC\n",
    "\n",
    "# Per gene: # samples with non-zero and non-NaN counts\n",
    "num_conditions = oneIstate_DE_genes_log2FC_filtered.shape[1]\n",
    "numZeroes_per_gene = num_conditions - oneIstate_DE_genes_log2FC_filtered.apply(np.count_nonzero, axis=1)\n",
    "numNAN_per_gene = oneIstate_DE_genes_log2FC_filtered.apply(np.isnan).apply(np.count_nonzero, axis=1)\n",
    "numGoodSamples_per_gene = num_conditions - numZeroes_per_gene - numNAN_per_gene\n",
    "\n",
    "minGoodSamples_per_gene = 7\n",
    "testGoodSamples = numGoodSamples_per_gene >= minGoodSamples_per_gene\n",
    "\n",
    "filtered_DE_genes_log2FC = oneIstate_DE_genes_log2FC_filtered.loc[testGoodSamples].copy()"
   ]
  },
  {
   "cell_type": "code",
   "execution_count": 35,
   "id": "6fa40331-6fa8-48be-af0f-1a922b4dd4a2",
   "metadata": {},
   "outputs": [
    {
     "data": {
      "text/plain": [
       "909"
      ]
     },
     "execution_count": 35,
     "metadata": {},
     "output_type": "execute_result"
    }
   ],
   "source": [
    "# Filter condition 1\n",
    "# Only keep genes that are *highly* upregulated in multiple Mesenchymal conditions\n",
    "n_upregulated_conditions_1 = 1\n",
    "upregulation_cutoff_1 = 0.58 # log2FC of 1.5\n",
    "gene_filtering_criteria_1 = filtered_DE_genes_log2FC.apply(lambda s, n: s.nlargest(n)[-1] > upregulation_cutoff_1, axis=1, n=n_upregulated_conditions_1).copy()\n",
    "# code inspo: https://stackoverflow.com/questions/34518634/finding-highest-values-in-each-row-in-a-data-frame-for-python\n",
    "filtered_DE_genes_log2FC = filtered_DE_genes_log2FC.loc[gene_filtering_criteria_1].copy()\n",
    "\n",
    "\n",
    "\n",
    "# Filter condition 2\n",
    "# Only keep genes that have above-mentioned upregulation + expression in more than 5% of cells in those datasets\n",
    "\n",
    "# Perc cell expression for current list of filtered DE genes\n",
    "filtered_DE_genes_nCells = all_genes_nCells.filter(filtered_DE_genes_log2FC.index, axis=0)\n",
    "# Two conditions: log2FC of 0.58 and percent cell gene expression of 5%\n",
    "condition_log2FC = filtered_DE_genes_log2FC.applymap(lambda x: 5 if x > 0.58 else 0)\n",
    "condition_nCells = filtered_DE_genes_nCells.applymap(lambda x: 1 if x > 0.05 else 0)\n",
    "gene_filtering_criteria_2_df = condition_log2FC + condition_nCells\n",
    "\n",
    "def all_high_log2FC_above_5percent_expression(currRow):\n",
    "    n_log2FC_high = currRow[currRow >= 5.0].count()\n",
    "    return currRow.nlargest(n_log2FC_high)[-1] == 6.0\n",
    "\n",
    "gene_filtering_criteria_2 = gene_filtering_criteria_2_df.apply(lambda x: all_high_log2FC_above_5percent_expression(x), axis=1).copy()\n",
    "# code inspo: https://stackoverflow.com/questions/34518634/finding-highest-values-in-each-row-in-a-data-frame-for-python\n",
    "filtered_DE_genes_log2FC = filtered_DE_genes_log2FC.loc[gene_filtering_criteria_2].copy()\n",
    "\n",
    "\n",
    "\n",
    "# Filter condition 3\n",
    "# Only keep genes that are *moderately* upregulated in multiple conditions\n",
    "n_upregulated_conditions_5 = 3\n",
    "upregulation_cutoff_5 = 0.32 # log2FC of 1.25\n",
    "gene_filtering_criteria_3 = filtered_DE_genes_log2FC.apply(lambda s, n: s.nlargest(n)[-1] > upregulation_cutoff_5, axis=1, n=n_upregulated_conditions_5).copy()\n",
    "filtered_DE_genes_log2FC = filtered_DE_genes_log2FC.loc[gene_filtering_criteria_3].copy()\n",
    "\n",
    "\n",
    "# Number of genes\n",
    "len(filtered_DE_genes_log2FC.index)"
   ]
  },
  {
   "cell_type": "markdown",
   "id": "d03d52c0-71c8-4ffa-b0ac-e87dbcac32e3",
   "metadata": {
    "tags": []
   },
   "source": [
    "## Import KParams; Correlate w Gene Log2FCs"
   ]
  },
  {
   "cell_type": "code",
   "execution_count": 36,
   "id": "55335e99-c839-4a27-9cd9-2ffc75c6dcb4",
   "metadata": {},
   "outputs": [],
   "source": [
    "# Folders which contain k parameters\n",
    "\n",
    "currFolder = \"ODE Model/Param Fits\""
   ]
  },
  {
   "cell_type": "markdown",
   "id": "7c8d85ff-801a-43fa-8a82-eae4c25e69e9",
   "metadata": {},
   "source": [
    "Import k1 and k2 parameters from each condition"
   ]
  },
  {
   "cell_type": "code",
   "execution_count": 37,
   "id": "5e634292-3d63-4ec8-86da-2bdbf260e947",
   "metadata": {},
   "outputs": [],
   "source": [
    "# File names for conditions with 1 int state\n",
    "\n",
    "# Dataset strings\n",
    "dataset_strings = [\"2-vanDijk\", \"3-Cook\"]\n",
    "# Condition strings\n",
    "vanDijk_conditions = [\"TGFb-day8_rep1\", \"TGFb-day8_rep2\",\n",
    "                      \"TGFb-day10_rep1\", \"TGFb-day10_rep2\",\n",
    "                      \"Zeb1_rep1\", \"Zeb1_rep2\"]\n",
    "cook_conditions = [\"A549-TGFB1\",\n",
    "                   \"DU145-TGFB1\",\n",
    "                   \"OVCA420-EGF\", \"OVCA420-TGFB1\", \"OVCA420-TNF\"]\n",
    "\n",
    "# File strings\n",
    "param_str = \", param results.csv\"\n",
    "\n",
    "vanDijk_files = []\n",
    "for currCondition in vanDijk_conditions:\n",
    "    vanDijk_files.append(dataset_strings[0]+\" - \"+currCondition+param_str)\n",
    "\n",
    "cook_files_pseudotime = []\n",
    "for currCondition in cook_conditions:\n",
    "    cook_files_pseudotime.append(dataset_strings[1]+\" - \"+currCondition+param_str)\n",
    "    \n",
    "oneIstate_kparam_files = vanDijk_files + cook_files_pseudotime"
   ]
  },
  {
   "cell_type": "code",
   "execution_count": 38,
   "id": "80447bfc-52fd-40ff-a4c6-96f773bd0823",
   "metadata": {},
   "outputs": [],
   "source": [
    "# Import k params from files\n",
    "\n",
    "oneIstate_k1_array = []\n",
    "oneIstate_k2_array = []\n",
    "\n",
    "os.chdir(currFolder)\n",
    "for inputFile in oneIstate_kparam_files:\n",
    "    currFile = pd.read_csv(inputFile)\n",
    "    oneIstate_k1_array.append(currFile[\"k1\"])\n",
    "    oneIstate_k2_array.append(currFile[\"k2\"])"
   ]
  },
  {
   "cell_type": "code",
   "execution_count": 41,
   "id": "3cee2339-0c19-4f37-a4b7-2af80fdef979",
   "metadata": {},
   "outputs": [],
   "source": [
    "from scipy.stats import gaussian_kde"
   ]
  },
  {
   "cell_type": "code",
   "execution_count": 42,
   "id": "b90a8c52-4199-4b2e-8e4d-1f6916f5e280",
   "metadata": {},
   "outputs": [],
   "source": [
    "def get_MAP(data):\n",
    "    kde = gaussian_kde(data)\n",
    "    # Define a grid of points where the density will be evaluated\n",
    "    x_grid = np.linspace(min(data) - 1, max(data) + 1, 1000)\n",
    "    # Evaluate the KDE on the grid\n",
    "    kde_values = kde(x_grid)\n",
    "    # Find the index of the maximum density (MAP value)\n",
    "    map_index = np.argmax(kde_values)\n",
    "    map_value = x_grid[map_index]\n",
    "    return map_value"
   ]
  },
  {
   "cell_type": "code",
   "execution_count": 43,
   "id": "6064297f-9c46-41dd-83c5-9ca90509d034",
   "metadata": {},
   "outputs": [
    {
     "data": {
      "text/html": [
       "<div>\n",
       "<style scoped>\n",
       "    .dataframe tbody tr th:only-of-type {\n",
       "        vertical-align: middle;\n",
       "    }\n",
       "\n",
       "    .dataframe tbody tr th {\n",
       "        vertical-align: top;\n",
       "    }\n",
       "\n",
       "    .dataframe thead th {\n",
       "        text-align: right;\n",
       "    }\n",
       "</style>\n",
       "<table border=\"1\" class=\"dataframe\">\n",
       "  <thead>\n",
       "    <tr style=\"text-align: right;\">\n",
       "      <th></th>\n",
       "      <th>2-vanDijk_TGFb-day8_rep1, M</th>\n",
       "      <th>2-vanDijk_TGFb-day8_rep2, M</th>\n",
       "      <th>2-vanDijk_TGFb-day10_rep1, M</th>\n",
       "      <th>2-vanDijk_TGFb-day10_rep2, M</th>\n",
       "      <th>2-vanDijk_Zeb1_rep1, M</th>\n",
       "      <th>2-vanDijk_Zeb1_rep2, M</th>\n",
       "      <th>3-Cook_A549-TGFB1, M</th>\n",
       "      <th>3-Cook_DU145-TGFB1, M</th>\n",
       "      <th>3-Cook_OVCA420-EGF, M</th>\n",
       "      <th>3-Cook_OVCA420-TGFB1, M</th>\n",
       "      <th>3-Cook_OVCA420-TNF, M</th>\n",
       "    </tr>\n",
       "  </thead>\n",
       "  <tbody>\n",
       "    <tr>\n",
       "      <th>k1</th>\n",
       "      <td>4.769408</td>\n",
       "      <td>6.448965</td>\n",
       "      <td>6.524424</td>\n",
       "      <td>2.312731</td>\n",
       "      <td>2.364699</td>\n",
       "      <td>2.597743</td>\n",
       "      <td>2.383154</td>\n",
       "      <td>1.504473</td>\n",
       "      <td>3.645603</td>\n",
       "      <td>5.057298</td>\n",
       "      <td>2.066455</td>\n",
       "    </tr>\n",
       "    <tr>\n",
       "      <th>k2</th>\n",
       "      <td>1.111760</td>\n",
       "      <td>1.402725</td>\n",
       "      <td>1.608853</td>\n",
       "      <td>1.874108</td>\n",
       "      <td>5.063793</td>\n",
       "      <td>6.400208</td>\n",
       "      <td>3.157336</td>\n",
       "      <td>1.569689</td>\n",
       "      <td>1.934629</td>\n",
       "      <td>1.859993</td>\n",
       "      <td>1.678451</td>\n",
       "    </tr>\n",
       "  </tbody>\n",
       "</table>\n",
       "</div>"
      ],
      "text/plain": [
       "    2-vanDijk_TGFb-day8_rep1, M  2-vanDijk_TGFb-day8_rep2, M  \\\n",
       "k1                     4.769408                     6.448965   \n",
       "k2                     1.111760                     1.402725   \n",
       "\n",
       "    2-vanDijk_TGFb-day10_rep1, M  2-vanDijk_TGFb-day10_rep2, M  \\\n",
       "k1                      6.524424                      2.312731   \n",
       "k2                      1.608853                      1.874108   \n",
       "\n",
       "    2-vanDijk_Zeb1_rep1, M  2-vanDijk_Zeb1_rep2, M  3-Cook_A549-TGFB1, M  \\\n",
       "k1                2.364699                2.597743              2.383154   \n",
       "k2                5.063793                6.400208              3.157336   \n",
       "\n",
       "    3-Cook_DU145-TGFB1, M  3-Cook_OVCA420-EGF, M  3-Cook_OVCA420-TGFB1, M  \\\n",
       "k1               1.504473               3.645603                 5.057298   \n",
       "k2               1.569689               1.934629                 1.859993   \n",
       "\n",
       "    3-Cook_OVCA420-TNF, M  \n",
       "k1               2.066455  \n",
       "k2               1.678451  "
      ]
     },
     "execution_count": 43,
     "metadata": {},
     "output_type": "execute_result"
    }
   ],
   "source": [
    "# maximum a posteriori values of kparams per condition\n",
    "\n",
    "oneIstate_kparam_MAPs = pd.DataFrame([], columns=filtered_DE_genes_log2FC.columns)\n",
    "\n",
    "for idx, currColumn in enumerate(oneIstate_kparam_MAPs.columns):\n",
    "    curr_k1_MAP = get_MAP(oneIstate_k1_array[idx])\n",
    "    curr_k2_MAP = get_MAP(oneIstate_k2_array[idx])\n",
    "    oneIstate_kparam_MAPs[currColumn] = [curr_k1_MAP, curr_k2_MAP]\n",
    "    \n",
    "oneIstate_kparam_MAPs.index = pd.Index([\"k1\",\"k2\"])\n",
    "oneIstate_kparam_MAPs"
   ]
  },
  {
   "cell_type": "markdown",
   "id": "47668538-9d8c-47e2-ba51-a6c5659c5654",
   "metadata": {},
   "source": [
    "Calculate correlations with each gene's Log2FC"
   ]
  },
  {
   "cell_type": "code",
   "execution_count": 45,
   "id": "b93c478e-283e-47a9-931b-3c740d788607",
   "metadata": {
    "scrolled": true,
    "tags": []
   },
   "outputs": [
    {
     "name": "stdout",
     "output_type": "stream",
     "text": [
      "             corr      pval\n",
      "Gene                       \n",
      "FKBP10   0.909091  0.000106\n",
      "RYBP     0.890909  0.000233\n",
      "AAED1    0.872727  0.000455\n",
      "WDR54    0.854545  0.000807\n",
      "EIF2AK4  0.845455  0.001045\n",
      "...           ...       ...\n",
      "TPM2     0.609091  0.046696\n",
      "FAM65A   0.609091  0.046696\n",
      "HDAC5    0.609091  0.046696\n",
      "EMP3     0.609091  0.046696\n",
      "PEA15    0.609091  0.046696\n",
      "\n",
      "[111 rows x 2 columns]\n"
     ]
    }
   ],
   "source": [
    "# Calculate Spearman's correlation and keep pval < .05\n",
    "\n",
    "from scipy.stats import spearmanr\n",
    "\n",
    "spearmanr_k1_raw = filtered_DE_genes_log2FC.apply(lambda x: spearmanr(x, oneIstate_kparam_medians.iloc[0], nan_policy='omit'), axis=1)\n",
    "spearmanr_k2_raw = filtered_DE_genes_log2FC.apply(lambda x: spearmanr(x, oneIstate_kparam_medians.iloc[1], nan_policy='omit'), axis=1)\n",
    "\n",
    "spearman_k1 = pd.DataFrame.from_records(spearmanr_k1_raw, columns =['corr', 'pval'], index=spearmanr_k1_raw.index)\n",
    "spearman_k2 = pd.DataFrame.from_records(spearmanr_k2_raw, columns =['corr', 'pval'], index=spearmanr_k2_raw.index)\n",
    "\n",
    "print(spearman_k1[spearman_k1['pval'] < .05].sort_values('pval'))\n",
    "\n",
    "oneIstate_corr_k1 = spearman_k1[spearman_k1['pval'] < .05]['corr']\n",
    "oneIstate_corr_k2 = spearman_k2[spearman_k2['pval'] < .05]['corr']"
   ]
  },
  {
   "cell_type": "code",
   "execution_count": 46,
   "id": "a7b15a34-2bf8-4ad4-a0a3-670ec65f0093",
   "metadata": {},
   "outputs": [],
   "source": [
    "# Calculate R^2 from correlation coefficient between kparam and gene log2FC\n",
    "oneIstate_rSquared_k1 = np.square(oneIstate_corr_k1)\n",
    "oneIstate_rSquared_k2 = np.square(oneIstate_corr_k2)"
   ]
  },
  {
   "cell_type": "code",
   "execution_count": 43,
   "id": "10234b69-60a6-4857-8a6a-7da48eb0ea16",
   "metadata": {},
   "outputs": [],
   "source": [
    "# Testing other cutoffs\n",
    "cutoff_value = 0.0"
   ]
  },
  {
   "cell_type": "markdown",
   "id": "28050d3b-bbd6-4cf9-82a6-79f517d4275e",
   "metadata": {},
   "source": [
    "### [3] 1 int state - k2 vs Log2FC - positive"
   ]
  },
  {
   "cell_type": "code",
   "execution_count": 50,
   "id": "e3b70f03-dfbc-42c9-bd83-d6b48e213486",
   "metadata": {},
   "outputs": [
    {
     "data": {
      "text/plain": [
       "25"
      ]
     },
     "execution_count": 50,
     "metadata": {},
     "output_type": "execute_result"
    }
   ],
   "source": [
    "# Only keep correlation values beyond cutoff\n",
    "oneIstate_corr_k2_positiveCorr = oneIstate_corr_k2[oneIstate_corr_k2 > cutoff_value].sort_values(ascending=False)\n",
    "len(oneIstate_corr_k2_positiveCorr)"
   ]
  },
  {
   "cell_type": "markdown",
   "id": "f69d6681-42d1-466c-8c18-48ca88f054a3",
   "metadata": {},
   "source": [
    "### [4] 1 int state - k2 vs Log2FC - negative"
   ]
  },
  {
   "cell_type": "code",
   "execution_count": 51,
   "id": "ca8c46ee-a50f-4260-82df-83e68d6b2258",
   "metadata": {},
   "outputs": [
    {
     "data": {
      "text/plain": [
       "18"
      ]
     },
     "execution_count": 51,
     "metadata": {},
     "output_type": "execute_result"
    }
   ],
   "source": [
    "# Only keep correlation values beyond cutoff\n",
    "oneIstate_corr_k2_negativeCorr = oneIstate_corr_k2[oneIstate_corr_k2 < -cutoff_value].sort_values(ascending=True)\n",
    "len(oneIstate_corr_k2_negativeCorr)"
   ]
  },
  {
   "cell_type": "markdown",
   "id": "c50240f4-cad0-49c2-aeab-8bffac71868c",
   "metadata": {},
   "source": [
    "## Output Highlighted Lists of Genes"
   ]
  },
  {
   "cell_type": "markdown",
   "id": "1e029384-f785-4f11-a4a6-05791303cd3c",
   "metadata": {},
   "source": [
    "Import markers"
   ]
  },
  {
   "cell_type": "code",
   "execution_count": 43,
   "id": "e622b740-e08a-4f72-b556-8804aafd7b32",
   "metadata": {},
   "outputs": [],
   "source": [
    "# Specific markers\n",
    "msigdbMarkersCsv = \"Markers - MSigDB.csv\"\n",
    "empCookMarkersCsv = \"Markers - EMP Cook 2021.csv\"\n",
    "panglaoMarkersCsv = \"Markers - PanglaoDB, Epithelial.csv\"\n",
    "\n",
    "# Import MSigDB genes, EMP Cook genes, and PanglaoDB E genes\n",
    "os.chdir(emtMarkerDir)\n",
    "oneIstate_DE_genes = filtered_DE_genes_log2FC.index.to_list()\n",
    "\n",
    "msigdbGenes = []\n",
    "with open(msigdbMarkersCsv) as inputFile:\n",
    "    reader = csv.reader(inputFile)\n",
    "    # no header\n",
    "    for row in reader:\n",
    "        if row[0] in oneIstate_DE_genes:\n",
    "            msigdbGenes.append(row[0])\n",
    "\n",
    "empCookGenes = []\n",
    "with open(empCookMarkersCsv) as inputFile:\n",
    "    reader = csv.reader(inputFile)\n",
    "    # no header\n",
    "    for row in reader:\n",
    "        if row[0] in oneIstate_DE_genes:\n",
    "            empCookGenes.append(row[0])\n",
    "\n",
    "panglaoGenes = []\n",
    "with open(panglaoMarkersCsv) as inputFile:\n",
    "    reader = csv.reader(inputFile)\n",
    "    # no header\n",
    "    for row in reader:\n",
    "        if row[0] in oneIstate_DE_genes:\n",
    "            panglaoGenes.append(row[0])"
   ]
  },
  {
   "cell_type": "code",
   "execution_count": 44,
   "id": "3f90a98a-b3d6-4376-b6f6-cc48ab22d1c2",
   "metadata": {},
   "outputs": [],
   "source": [
    "# Def to export gene lists colored by database\n",
    "\n",
    "def export_gene_list(currGeneList, fileStringName):\n",
    "\n",
    "    currGeneDataframe = pd.DataFrame(index=currGeneList)\n",
    "    currGeneDataframe[\"EMT Hallmark from MSigDB\"] = [currGene in msigdbGenes for currGene in currGeneList]\n",
    "    currGeneDataframe[\"EMPlasticity Genes from Cook\"] = [currGene in empCookGenes for currGene in currGeneList]\n",
    "    currGeneDataframe[\"Mesenchymal Genes from Panglao\"] = [currGene in panglaoGenes for currGene in currGeneList]\n",
    "    currGeneDataframe = currGeneDataframe.replace({True: 'yes', False: 'no'})\n",
    "    \n",
    "    # if \"E to I\" in fileStringName:\n",
    "    #     currGeneDataframe[\"R from k1\"] = [round(oneIstate_corr_k1[currGene],4) for currGene in currGeneList]\n",
    "    #     currGeneDataframe[\"R^2 from k1\"] = [round(oneIstate_rSquared_k1[currGene],4) for currGene in currGeneList]\n",
    "    if \"I to M\" in fileStringName:\n",
    "        currGeneDataframe[\"R from k2\"] = [round(oneIstate_corr_k2[currGene],4) for currGene in currGeneList]\n",
    "        currGeneDataframe[\"R^2 from k2\"] = [round(oneIstate_rSquared_k2[currGene],4) for currGene in currGeneList]\n",
    "    currGeneDataframe = currGeneDataframe.sort_values(currGeneDataframe.columns[-1], ascending=False)\n",
    "\n",
    "    os.chdir(outputGenesVsParamsFolder)\n",
    "    currGeneDataframe.to_csv(\"Output - Temporary File, del.csv\")\n",
    "    \n",
    "    # Use openpyxl to color the cells according to database\n",
    "    wb = openpyxl.Workbook()\n",
    "    ws = wb.active\n",
    "    with open(\"Output - Temporary File, del.csv\") as f:\n",
    "        reader = csv.reader(f)\n",
    "        for row in reader:\n",
    "            ws.append(row)\n",
    "\n",
    "    # Highlight E genes (red) and M genes (blue / purple)\n",
    "    for row in ws.iter_rows(min_col=1, min_row=2, max_col=2):\n",
    "        for cell in row:\n",
    "            if cell.value in msigdbGenes: # MSigDB = light blue\n",
    "                cell.fill = openpyxl.styles.PatternFill(\"solid\", fgColor=\"ABC9DE\")\n",
    "            elif cell.value in panglaoGenes: # PanglaoDB = light red\n",
    "                cell.fill = openpyxl.styles.PatternFill(\"solid\", fgColor=\"D98686\")\n",
    "            elif cell.value in empCookGenes: # EMP Cook = light purple\n",
    "                cell.fill = openpyxl.styles.PatternFill(\"solid\", fgColor=\"DABEED\")\n",
    "\n",
    "    wb.save(fileStringName)\n",
    "    wb.close()\n",
    "    \n",
    "    os.remove(\"Output - Temporary File, del.csv\")"
   ]
  },
  {
   "cell_type": "code",
   "execution_count": 45,
   "id": "b188c1a0-f89d-4bf0-8fb0-45bcc5237b38",
   "metadata": {},
   "outputs": [],
   "source": [
    "# Output highlighted lists of genes\n",
    "kparamCorr_geneLists = [#oneIstate_corr_k1_positiveCorr.index.to_list(),\n",
    "                        # oneIstate_corr_k1_negativeCorr.index.to_list()],\n",
    "                        oneIstate_corr_k2_positiveCorr.index.to_list(),\n",
    "                        oneIstate_corr_k2_negativeCorr.index.to_list()]\n",
    "kparamCorr_fileNames = [#k1Pos_File, k1Neg_File,\n",
    "                        k2Pos_File, k2Neg_File]\n",
    "\n",
    "for idx, currGeneList in enumerate(kparamCorr_geneLists):\n",
    "    export_gene_list(currGeneList, kparamCorr_fileNames[idx])"
   ]
  },
  {
   "cell_type": "code",
   "execution_count": null,
   "id": "9c21f7d3-bebd-40ab-96fc-00de86266530",
   "metadata": {},
   "outputs": [],
   "source": []
  }
 ],
 "metadata": {
  "kernelspec": {
   "display_name": "Python 3 (ipykernel)",
   "language": "python",
   "name": "python3"
  },
  "language_info": {
   "codemirror_mode": {
    "name": "ipython",
    "version": 3
   },
   "file_extension": ".py",
   "mimetype": "text/x-python",
   "name": "python",
   "nbconvert_exporter": "python",
   "pygments_lexer": "ipython3",
   "version": "3.9.13"
  }
 },
 "nbformat": 4,
 "nbformat_minor": 5
}
