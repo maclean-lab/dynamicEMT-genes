{
 "cells": [
  {
   "cell_type": "markdown",
   "id": "149f93ae-774d-4fd4-bbc8-a525c115092f",
   "metadata": {},
   "source": [
    "### Panchy et al. 2022"
   ]
  },
  {
   "cell_type": "code",
   "execution_count": null,
   "id": "47a2f5e7-e5da-484f-93be-d8d42905a543",
   "metadata": {
    "scrolled": true
   },
   "outputs": [],
   "source": [
    "import os\n",
    "import csv\n",
    "import numpy as np\n",
    "import pandas as pd\n",
    "\n",
    "import openpyxl\n",
    "import phate\n",
    "from scipy.sparse import csr_matrix, csc_matrix # tocsr command import\n",
    "from scipy import io\n",
    "\n",
    "%matplotlib inline\n",
    "\n",
    "import matplotlib.pyplot as plt\n",
    "from matplotlib import rcParams\n",
    "from matplotlib import colors\n",
    "import scanpy as sc\n",
    "\n",
    "# Scanpy params\n",
    "sc.settings.verbosity = 0\n",
    "sc.settings.set_figure_params(dpi=80, figsize=[5,5])\n",
    "plt.rcParams['figure.figsize']=(5,5)\n",
    "plt.ioff();"
   ]
  },
  {
   "cell_type": "code",
   "execution_count": null,
   "id": "079a7f51-505f-4b34-8bb3-1e33ddec9c9a",
   "metadata": {},
   "outputs": [],
   "source": [
    "currDir = os.getcwd()"
   ]
  },
  {
   "cell_type": "code",
   "execution_count": null,
   "id": "dc60076a-1338-44b3-9209-c8af0468d726",
   "metadata": {},
   "outputs": [],
   "source": [
    "currDir"
   ]
  },
  {
   "cell_type": "markdown",
   "id": "30fc9027-ab8c-4d28-b472-21fd762e5609",
   "metadata": {},
   "source": [
    "directory paths & file names"
   ]
  },
  {
   "cell_type": "code",
   "execution_count": null,
   "id": "f0838ed2-3477-4d3e-a2ca-83c1961ce413",
   "metadata": {},
   "outputs": [],
   "source": [
    "### DIRECTORY PATHS ###\n",
    "# Start in \"EMT-in-cancer/6-Panchy/Code\" folder\n",
    "\n",
    "# Main dataset directory\n",
    "mainDir = os.path.dirname(os.path.dirname(currDir))\n",
    "\n",
    "# Data directories\n",
    "dataDir = os.path.dirname(mainDir)+\"/EMT-in-cancer-datafiles/6-Panchy/_h5ad/\"\n",
    "rawDir = os.path.dirname(mainDir)+\"/EMT-in-cancer-datafiles/6-Panchy/_rawData/\"\n",
    "\n",
    "# Figure directory\n",
    "figDir = os.path.dirname(currDir)+\"/Figures/\"\n",
    "sc.settings.figdir = figDir\n",
    "\n",
    "# Data summaries/output directory\n",
    "dataSumDir = os.path.dirname(currDir)+\"/DataSummaries/\"\n",
    "\n",
    "# EMT marker directory\n",
    "emtMarkerDir = mainDir+\"/Cross-Dataset Comparisons/Markers/\""
   ]
  },
  {
   "cell_type": "code",
   "execution_count": null,
   "id": "f1d1b770-1e4d-463f-946f-ef5715a8d3da",
   "metadata": {},
   "outputs": [],
   "source": [
    "### FILE PATHS ###\n",
    "\n",
    "# Files: Raw data names from GEO\n",
    "raw_data = \"GSM6593509_matrix.mtx\"\n",
    "raw_genes = \"GSM6593509_genes.tsv\"\n",
    "raw_cells = \"GSM6593509_barcodes.tsv.gz\"\n",
    "raw_metadata = \"GSM6593509_Concentration_GBC_annotation_Samples.csv.gz\"\n",
    "\n",
    "# Files: cell cycle markers\n",
    "cellCycle_g1S_csv = \"Cell Cycle Markers - G1,S Genes.csv\"\n",
    "cellCycle_g2M_csv = \"Cell Cycle Markers - G2,M Genes.csv\"\n",
    "\n",
    "# Files: EMT markers\n",
    "msigdbMarkersCsv = \"Markers - MSigDB.csv\"\n",
    "panglaoMarkersCsv = \"Markers - PanglaoDB, Epithelial.csv\"\n",
    "empCookMarkersCsv = \"Markers - EMP Cook 2021.csv\""
   ]
  },
  {
   "cell_type": "markdown",
   "id": "18513383-96e0-448a-aa7c-be525385b246",
   "metadata": {},
   "source": [
    "### Part 1: IMPORT DATA, FILTERING, AND NORMALIZATION"
   ]
  },
  {
   "cell_type": "code",
   "execution_count": null,
   "id": "78c1265b-90fc-4919-991d-8f88f46e2870",
   "metadata": {},
   "outputs": [],
   "source": [
    "# Import genes, cells, metadata\n",
    "\n",
    "genes = pd.read_csv(rawDir+raw_genes, header=None)\n",
    "# Crop the Ensembl gene IDs from the gene name\n",
    "genes = genes[0].str.split('\\t').str[1].to_list()\n",
    "\n",
    "cells = pd.read_csv(rawDir+raw_cells, header=None)[0].to_list()\n",
    "metadata = pd.read_csv(rawDir+raw_metadata, index_col=0)"
   ]
  },
  {
   "cell_type": "code",
   "execution_count": null,
   "id": "3b6ae090-588f-4668-9588-3b5c1325804d",
   "metadata": {},
   "outputs": [],
   "source": [
    "# Import data files\n",
    "\n",
    "# Importing from mtx takes a while; re-saved it as h5ad\n",
    "# adata_raw = sc.read_mtx(rawDir+raw_data).T\n",
    "# adata_raw.write(dataDir+\"0-rawMtx.h5ad\")\n",
    "adata = sc.read_h5ad(dataDir+\"0-rawMtx.h5ad\")\n",
    "adata.var.index = genes\n",
    "adata.var_names_make_unique()\n",
    "adata.var_names = adata.var_names.str.upper() # Gene names as all uppercase\n",
    "adata.obs.index = cells\n",
    "# adata.X = adata.X.tocsr() # Is this necessary? type() already says csr matrix"
   ]
  },
  {
   "cell_type": "code",
   "execution_count": null,
   "id": "e40fb526-e10d-424a-9a12-449cfdec03d0",
   "metadata": {},
   "outputs": [],
   "source": [
    "# Filter for only cells that have barcodes\n",
    "# NOTE: these are cells that are filtered by the orig authors!\n",
    "adata = adata[adata.obs.index.isin(metadata.index)].copy()\n",
    "\n",
    "# Add the barcodes\n",
    "adata.obs['Dose Barcode'] = metadata['Values']\n",
    "# Annotate dosage info\n",
    "labelDict = {1: 0,\n",
    "             2: 12.5,\n",
    "             3: 25,\n",
    "             4: 50,\n",
    "             8: 100,\n",
    "             9: 200,\n",
    "             12: 400,\n",
    "             13: 800}\n",
    "adata.obs[\"Dose ug\"] = adata.obs[\"Dose Barcode\"].replace(to_replace=labelDict)"
   ]
  },
  {
   "cell_type": "code",
   "execution_count": null,
   "id": "0a28d738-98c6-4759-bdd7-dbac989260a9",
   "metadata": {},
   "outputs": [],
   "source": [
    "# Remove Dose 0 cells\n",
    "adata = adata[adata.obs[\"Dose ug\"] != 0]"
   ]
  },
  {
   "cell_type": "markdown",
   "id": "c8a8cb6b-3c36-47d2-962f-8abc6384a5dc",
   "metadata": {},
   "source": [
    "FILTERING"
   ]
  },
  {
   "cell_type": "code",
   "execution_count": null,
   "id": "194ccd96-d59e-4bc9-a47f-7d137ebac5da",
   "metadata": {},
   "outputs": [],
   "source": [
    "# Remove ERCC genes\n",
    "ercc_genes = adata.var_names.str.startswith('ERCC')\n",
    "adata = adata[:, ercc_genes==False].copy()\n",
    "\n",
    "# Filter for minimum cells and genes\n",
    "sc.pp.filter_cells(adata, min_genes=200)\n",
    "sc.pp.filter_genes(adata, min_cells=3)"
   ]
  },
  {
   "cell_type": "code",
   "execution_count": null,
   "id": "b577827d-795a-435a-b5b1-a33235c13979",
   "metadata": {
    "scrolled": true,
    "tags": []
   },
   "outputs": [],
   "source": [
    "# Identify mitochondrial genes\n",
    "adata.var['mito_gene'] = adata.var.index.str.startswith(('MT-', 'MTRNR'))\n",
    "\n",
    "# Run QC metrics\n",
    "sc.pp.calculate_qc_metrics(adata, qc_vars=['mito_gene'], log1p=False, inplace=True)\n",
    "\n",
    "# Basic metrics\n",
    "sc.pl.violin(adata, ['n_genes', 'total_counts', 'pct_counts_mito_gene'], multi_panel=True, jitter=0.4, save=\" - n_genes, n_counts, perc_mito.png\")\n",
    "\n",
    "# Top N genes constituting what fraction of total counts, per cell\n",
    "sc.pl.violin(adata, ['pct_counts_in_top_50_genes', 'pct_counts_in_top_100_genes', 'pct_counts_in_top_200_genes', 'pct_counts_in_top_500_genes'],\n",
    "             rotation=90, ylabel='Percent Counts of a Cell\\nfrom Top N Genes\\n', xlabel='\\nTop N Genes In a Cell',\n",
    "             save=\" - pct_counts_in_top_n_genes.png\")\n",
    "# Deleting this obs to remove clutter\n",
    "del adata.obs['pct_counts_in_top_50_genes'], adata.obs['pct_counts_in_top_100_genes'], adata.obs['pct_counts_in_top_200_genes'], adata.obs['pct_counts_in_top_500_genes']"
   ]
  },
  {
   "cell_type": "code",
   "execution_count": null,
   "id": "7c16188f-d8f5-4cac-a9be-c7a2943815e6",
   "metadata": {
    "scrolled": true,
    "tags": []
   },
   "outputs": [],
   "source": [
    "# Identify ribosomal genes\n",
    "ribo_genes = adata.var.index.str.startswith(('RPL','RPS'))\n",
    "adata.obs[\"pct_counts_ribo_gene\"] = 100*np.sum(adata[:, ribo_genes].X, axis=1) / np.sum(adata.X, axis=1)\n",
    "sc.pl.violin(adata, [\"pct_counts_ribo_gene\"], save=\" - pct_counts_ribo_gene.png\")\n",
    "\n",
    "# Gene metric scatterplots\n",
    "sc.pl.scatter(adata, x='total_counts', y='n_genes')\n",
    "sc.pl.scatter(adata, x='total_counts', y='pct_counts_mito_gene')\n",
    "sc.pl.scatter(adata, x='total_counts', y='pct_counts_ribo_gene')\n",
    "sc.pl.scatter(adata, x='pct_counts_ribo_gene', y='pct_counts_mito_gene')\n",
    "sc.pl.scatter(adata, x='total_counts', y='n_genes', color='pct_counts_mito_gene', save=\" - n_genes vs total_counts.png\")\n",
    "sc.pl.scatter(adata, x='total_counts', y='n_genes', color='pct_counts_ribo_gene')"
   ]
  },
  {
   "cell_type": "code",
   "execution_count": null,
   "id": "827e6757-184c-41b5-86cc-f35637b0dc96",
   "metadata": {},
   "outputs": [],
   "source": [
    "# FILTERING\n",
    "\n",
    "# Remove total_count outliers\n",
    "adata = adata[adata.obs[\"total_counts\"] < 35000,:].copy()\n",
    "\n",
    "# Remove mito genes\n",
    "adata = adata[:, adata.var.mito_gene==False].copy() # Remove mito genes\n",
    "# Remove high mito cells\n",
    "adata = adata[adata.obs.pct_counts_mito_gene < 7, :].copy()"
   ]
  },
  {
   "cell_type": "code",
   "execution_count": null,
   "id": "62c0684d-7479-4dfc-b4f2-e99af71cbaa3",
   "metadata": {
    "scrolled": true,
    "tags": []
   },
   "outputs": [],
   "source": [
    "# Genes with largest proportions, after filtering\n",
    "sc.pl.highest_expr_genes(adata, n_top=20, save=\" - genes w highest expression.png\")\n",
    "\n",
    "# Save filtered genes\n",
    "adata.write(dataDir+\"1-Filtered_and_Normalized_allGenes.h5ad\")"
   ]
  },
  {
   "cell_type": "code",
   "execution_count": null,
   "id": "b032104c-845a-4313-92eb-79271f280ac3",
   "metadata": {},
   "outputs": [],
   "source": [
    "# Run scrublet on the author-filtered data just in case\n",
    "sc.external.pp.scrublet(adata)"
   ]
  },
  {
   "cell_type": "code",
   "execution_count": null,
   "id": "a017cad9-5437-47dd-83db-aaed66c6b586",
   "metadata": {},
   "outputs": [],
   "source": [
    "# Import cell cycle genes\n",
    "\n",
    "# G1/S Genes\n",
    "cellCycle_g1S_genes = []\n",
    "with open(emtMarkerDir+cellCycle_g1S_csv) as inputFile:\n",
    "    reader = csv.reader(inputFile)\n",
    "    # no header\n",
    "    for row in reader:\n",
    "        if row[0] in adata.var_names:\n",
    "            cellCycle_g1S_genes.append(row[0])\n",
    "\n",
    "# G2/M Genes\n",
    "cellCycle_g2M_genes = []\n",
    "with open(emtMarkerDir+cellCycle_g2M_csv) as inputFile:\n",
    "    reader = csv.reader(inputFile)\n",
    "    # no header\n",
    "    for row in reader:\n",
    "        if row[0] in adata.var_names:\n",
    "            cellCycle_g2M_genes.append(row[0])"
   ]
  },
  {
   "cell_type": "markdown",
   "id": "d837243c-0a8d-4216-977f-7e5fa70b8e8c",
   "metadata": {},
   "source": [
    "NORMALIZATION"
   ]
  },
  {
   "cell_type": "code",
   "execution_count": null,
   "id": "d7e12c2e-54d9-4f20-a03d-196a43bbd325",
   "metadata": {
    "scrolled": true,
    "tags": []
   },
   "outputs": [],
   "source": [
    "# Total-count normalize to 10,000 counts per cell\n",
    "sc.pp.normalize_total(adata, target_sum=1e4)\n",
    "adata.raw = adata\n",
    "# Save normalized data\n",
    "adata.write(dataDir+\"1-Filtered_and_Normalized_allGenes.h5ad\")\n",
    "\n",
    "# Log of genes\n",
    "sc.pp.log1p(adata)\n",
    "# Set raw - later scanpy analysis uses this\n",
    "adata.raw = adata\n",
    "# Add cell cycle score\n",
    "adata.X = adata.X.astype('<f8')\n",
    "sc.tl.score_genes_cell_cycle(adata, s_genes=cellCycle_g1S_genes, g2m_genes=cellCycle_g2M_genes, use_raw=False)\n",
    "adata.X = adata.X.astype('<f4')\n"
   ]
  },
  {
   "cell_type": "code",
   "execution_count": null,
   "id": "3b3613ab-6302-449c-a55e-d5c1bed1e9fd",
   "metadata": {},
   "outputs": [],
   "source": [
    "# Highly variable genes (note: expects log data)\n",
    "sc.pp.highly_variable_genes(adata)\n",
    "adataHiVar = adata[:, adata.var.highly_variable].copy()\n",
    "\n",
    "# Regress out effects of total counts per cell and percent mito and cell cycle\n",
    "sc.pp.regress_out(adataHiVar, ['total_counts', 'pct_counts_mito_gene', 'G2M_score','S_score'])\n",
    "\n",
    "# Scale to unit variance\n",
    "sc.pp.scale(adataHiVar, max_value=10)\n",
    "\n",
    "# Save filtered and normalized data\n",
    "adata.write(dataDir+\"/1-Filtered_and_Normalized_hiVarGenes.h5ad\")"
   ]
  },
  {
   "cell_type": "markdown",
   "id": "2a8384e4-9060-421a-b765-06c2a7355bca",
   "metadata": {},
   "source": [
    "### Part 2: CLUSTERING AND DE GENES"
   ]
  },
  {
   "cell_type": "code",
   "execution_count": null,
   "id": "c33d3b7b-3ab7-40d7-8efc-5044716db172",
   "metadata": {},
   "outputs": [],
   "source": [
    "%matplotlib inline\n",
    "sc.settings.set_figure_params(dpi=80, figsize=[5,5])\n",
    "plt.rcParams['figure.figsize']=(5,5)"
   ]
  },
  {
   "cell_type": "code",
   "execution_count": null,
   "id": "b1bf3c9e-a803-4e52-854e-88601ad469ea",
   "metadata": {
    "scrolled": true
   },
   "outputs": [],
   "source": [
    "# PCA\n",
    "sc.tl.pca(adataHiVar, svd_solver='arpack')\n",
    "sc.pl.pca(adataHiVar, color=[\"total_counts\", \"n_genes\", \"pct_counts_mito_gene\", \"pct_counts_ribo_gene\", \"Dose Barcode\", \"Dose ug\", \"phase\"], save=\" - dataset info.png\")\n",
    "sc.pl.pca_variance_ratio(adataHiVar, log=True)"
   ]
  },
  {
   "cell_type": "code",
   "execution_count": null,
   "id": "08d785fc-a9f2-4f13-86cd-fdb289dbbc53",
   "metadata": {},
   "outputs": [],
   "source": [
    "# UMAP\n",
    "sc.pp.neighbors(adataHiVar)\n",
    "sc.tl.umap(adataHiVar)"
   ]
  },
  {
   "cell_type": "code",
   "execution_count": null,
   "id": "0bb1b727-3113-4235-ae7d-5b684b84571d",
   "metadata": {},
   "outputs": [],
   "source": [
    "sc.pl.umap(adataHiVar, color=[\"KRT15\"])"
   ]
  },
  {
   "cell_type": "code",
   "execution_count": null,
   "id": "8099cc8b-483e-48d2-a15e-8cfa4ed4e555",
   "metadata": {},
   "outputs": [],
   "source": [
    "# PHATE\n",
    "sc.external.tl.phate(adataHiVar)"
   ]
  },
  {
   "cell_type": "code",
   "execution_count": null,
   "id": "cd734f01-d5c8-4178-a0bc-831bd7d6c53b",
   "metadata": {},
   "outputs": [],
   "source": [
    "sc.external.pl.phate(adataHiVar, color=[\"KRT15\", \"KRT5\"])"
   ]
  },
  {
   "cell_type": "code",
   "execution_count": null,
   "id": "b76503d0-f79c-4f69-98ad-f73b2c7c19ba",
   "metadata": {},
   "outputs": [],
   "source": [
    "adataHiVar.obs['KRT15_expression'] = (adataHiVar[:, 'KRT15'].X > 3.5).astype(int)\n",
    "sc.pl.umap(adataHiVar, color=[\"KRT15\", \"KRT15_expression\"])"
   ]
  },
  {
   "cell_type": "code",
   "execution_count": null,
   "id": "99e16dce-6f01-4fef-9fe7-a10eb03a4eac",
   "metadata": {},
   "outputs": [],
   "source": [
    "os.chdir(currDir)\n",
    "pd.Series(adataHiVar[adataHiVar.obs['KRT15_expression'] == 1].obs_names).to_csv(\"KRT15_expressionHigh_cells.csv\", header=False, index=False)"
   ]
  },
  {
   "cell_type": "code",
   "execution_count": null,
   "id": "b746d3da-3c32-46fb-8e3f-24dea746fdb3",
   "metadata": {},
   "outputs": [],
   "source": []
  }
 ],
 "metadata": {
  "kernelspec": {
   "display_name": "Python 3 (ipykernel)",
   "language": "python",
   "name": "python3"
  },
  "language_info": {
   "codemirror_mode": {
    "name": "ipython",
    "version": 3
   },
   "file_extension": ".py",
   "mimetype": "text/x-python",
   "name": "python",
   "nbconvert_exporter": "python",
   "pygments_lexer": "ipython3",
   "version": "3.9.13"
  }
 },
 "nbformat": 4,
 "nbformat_minor": 5
}
