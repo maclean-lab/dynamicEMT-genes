{
 "cells": [
  {
   "cell_type": "markdown",
   "metadata": {},
   "source": [
    "## scRNAseq: Epithelial-Mesenchymal Transition in Cancer\n",
    "Dataset 3 from: [Cook and Vanderhyden 2020](https://www.nature.com/articles/s41467-020-16066-2)"
   ]
  },
  {
   "cell_type": "code",
   "execution_count": null,
   "metadata": {},
   "outputs": [],
   "source": [
    "import os\n",
    "currDir = os.getcwd()"
   ]
  },
  {
   "cell_type": "code",
   "execution_count": null,
   "metadata": {},
   "outputs": [],
   "source": [
    "# Cook conditions\n",
    "all_runs = [\"A549-TGFB1\",\n",
    "            \"DU145-TGFB1\",\n",
    "            \"OVCA420-EGF\", \"OVCA420-TGFB1\", \"OVCA420-TNF\"]\n",
    "\n",
    "run_name = all_runs[4]\n",
    "dataset_name = \"3-Cook\""
   ]
  },
  {
   "cell_type": "code",
   "execution_count": null,
   "metadata": {},
   "outputs": [],
   "source": [
    "file_name = run_name\n",
    "run_name"
   ]
  },
  {
   "cell_type": "markdown",
   "metadata": {},
   "source": [
    "## Run Settings"
   ]
  },
  {
   "cell_type": "markdown",
   "metadata": {},
   "source": [
    "Import Cook functions"
   ]
  },
  {
   "cell_type": "code",
   "execution_count": null,
   "metadata": {},
   "outputs": [],
   "source": [
    "os.chdir(currDir)\n",
    "%run Cook_functions.ipynb\n",
    "setDirectories(dataset_name, run_name)"
   ]
  },
  {
   "cell_type": "code",
   "execution_count": null,
   "metadata": {},
   "outputs": [],
   "source": [
    "sc.settings.set_figure_params(dpi=150, figsize=[5,5])\n",
    "plt.rcParams['figure.figsize']=(5,5)"
   ]
  },
  {
   "cell_type": "markdown",
   "metadata": {},
   "source": [
    "Import settings for current run"
   ]
  },
  {
   "cell_type": "code",
   "execution_count": null,
   "metadata": {},
   "outputs": [],
   "source": [
    "run_settings = importSettings(run_name)\n",
    "\n",
    "total_counts_cutoff = run_settings[\"total_counts_cutoff\"]\n",
    "mito_cutoff = run_settings[\"mito_cutoff\"]\n",
    "ribo_cutoff = run_settings[\"ribo_cutoff\"]\n",
    "leiden_resolution = run_settings[\"leiden_resolution\"]\n",
    "EMT_clusters_in_order = run_settings[\"EMT_clusters_in_order\"].split(\",\")\n",
    "EMT_clusters_in_order = [int(i) for i in EMT_clusters_in_order]\n",
    "pseudotime_DC = run_settings[\"pseudotime_DC\"]\n",
    "pseudotime_DC_rootNodes = run_settings[\"pseudotime_DC_rootNodes\"]\n",
    "\n",
    "# Add markers for visualization, if wanted\n",
    "run_E_markers = run_settings[\"run_E_markers\"].split(\", \") if str(run_settings[\"run_E_markers\"]) != \"nan\" else \"\"\n",
    "run_M_markers = run_settings[\"run_M_markers\"].split(\", \") if str(run_settings[\"run_M_markers\"]) != \"nan\" else \"\""
   ]
  },
  {
   "cell_type": "markdown",
   "metadata": {},
   "source": [
    "## Part 1: IMPORT DATA, FILTERING, AND NORMALIZATION"
   ]
  },
  {
   "cell_type": "code",
   "execution_count": null,
   "metadata": {
    "scrolled": true
   },
   "outputs": [],
   "source": [
    "adata = importData(dataset_name, run_name)\n",
    "adata = filterData(adata)\n",
    "adata = find_Mito(adata)\n",
    "adata = filter_MitoRibo(adata, total_counts_cutoff, mito_cutoff, ribo_cutoff, run_name, dataset_name)\n",
    "saveFilteredData(adata, run_name)\n",
    "adataHiVar = normalize_and_hiVar_Data(adata, run_name)"
   ]
  },
  {
   "cell_type": "code",
   "execution_count": null,
   "metadata": {
    "scrolled": true,
    "tags": []
   },
   "outputs": [],
   "source": [
    "check_cell_cycle(run_name)"
   ]
  },
  {
   "cell_type": "markdown",
   "metadata": {
    "tags": []
   },
   "source": [
    "## Part 2: EMTSCORE AND CLUSTERING"
   ]
  },
  {
   "cell_type": "code",
   "execution_count": null,
   "metadata": {
    "scrolled": true,
    "tags": []
   },
   "outputs": [],
   "source": [
    "adataHiVar, df_normalized = importProcessedData(dataset_name, run_name)\n",
    "adataHiVar = Cook_unique_filter(adataHiVar, run_name)\n",
    "adataHiVar = PCA(adataHiVar)\n",
    "adataHiVar = UMAP(adataHiVar)"
   ]
  },
  {
   "cell_type": "code",
   "execution_count": null,
   "metadata": {
    "scrolled": true,
    "tags": []
   },
   "outputs": [],
   "source": [
    "adataHiVar = leiden(adataHiVar, leiden_resolution, EMT_clusters_in_order, run_name)\n",
    "adataHiVar = leiden_marker_genes(adataHiVar, dataset_name, run_name)\n",
    "leiden_marker_genes_highlight(run_name, df_normalized)"
   ]
  },
  {
   "cell_type": "code",
   "execution_count": null,
   "metadata": {},
   "outputs": [],
   "source": [
    "# Export DE genes and log2FC for each cluster\n",
    "for currCluster in adataHiVar.obs[\"leiden_label\"].unique():\n",
    "    cluster_DE_genes_export(adataHiVar, dataset_name, run_name, EMT_clusters_in_order, currCluster)"
   ]
  },
  {
   "cell_type": "code",
   "execution_count": null,
   "metadata": {
    "scrolled": true,
    "tags": []
   },
   "outputs": [],
   "source": [
    "# EMTscore from UCell\n",
    "adataHiVar = UCell_export_import(adataHiVar, run_name)\n",
    "sc.pl.violin(adataHiVar, keys=[\"UCell_EMTscore\"])"
   ]
  },
  {
   "cell_type": "code",
   "execution_count": null,
   "metadata": {},
   "outputs": [],
   "source": [
    "saveClusteredData(adataHiVar, run_name)"
   ]
  },
  {
   "cell_type": "markdown",
   "metadata": {},
   "source": [
    "## Part 3: PSEUDOTIME"
   ]
  },
  {
   "cell_type": "code",
   "execution_count": null,
   "metadata": {
    "scrolled": true,
    "tags": []
   },
   "outputs": [],
   "source": [
    "adataHiVar = importClusteredData(dataset_name, run_name)\n",
    "adataHiVar = diffmap(adataHiVar)\n",
    "root_nodes = pseudotime_rootNodes(adataHiVar, pseudotime_DC, pseudotime_DC_rootNodes, run_name)\n",
    "adataHiVar, df_pseudotime = pseudotime_mean(adataHiVar, root_nodes)\n",
    "savePseudotimeData(adataHiVar, run_name)"
   ]
  },
  {
   "cell_type": "code",
   "execution_count": null,
   "metadata": {
    "scrolled": true
   },
   "outputs": [],
   "source": [
    "pseudotime_per_cluster(adataHiVar, EMT_clusters_in_order, run_name, df_pseudotime)"
   ]
  },
  {
   "cell_type": "code",
   "execution_count": null,
   "metadata": {},
   "outputs": [],
   "source": []
  }
 ],
 "metadata": {
  "kernelspec": {
   "display_name": "Python 3 (ipykernel)",
   "language": "python",
   "name": "python3"
  },
  "language_info": {
   "codemirror_mode": {
    "name": "ipython",
    "version": 3
   },
   "file_extension": ".py",
   "mimetype": "text/x-python",
   "name": "python",
   "nbconvert_exporter": "python",
   "pygments_lexer": "ipython3",
   "version": "3.9.13"
  }
 },
 "nbformat": 4,
 "nbformat_minor": 4
}
