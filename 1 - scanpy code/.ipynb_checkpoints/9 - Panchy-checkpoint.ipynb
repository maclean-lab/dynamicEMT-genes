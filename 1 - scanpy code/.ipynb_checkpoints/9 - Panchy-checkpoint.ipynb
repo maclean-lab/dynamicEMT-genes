{
 "cells": [
  {
   "cell_type": "markdown",
   "id": "149f93ae-774d-4fd4-bbc8-a525c115092f",
   "metadata": {},
   "source": [
    "### Panchy et al. 2022"
   ]
  },
  {
   "cell_type": "code",
   "execution_count": null,
   "id": "47a2f5e7-e5da-484f-93be-d8d42905a543",
   "metadata": {
    "scrolled": true
   },
   "outputs": [],
   "source": [
    "import os\n",
    "import csv\n",
    "import numpy as np\n",
    "import pandas as pd\n",
    "\n",
    "import openpyxl\n",
    "import phate\n",
    "from scipy.sparse import csr_matrix, csc_matrix # tocsr command import\n",
    "from scipy import io\n",
    "\n",
    "%matplotlib inline\n",
    "\n",
    "import matplotlib.pyplot as plt\n",
    "from matplotlib import rcParams\n",
    "from matplotlib import colors\n",
    "import scanpy as sc\n",
    "\n",
    "# Scanpy params\n",
    "sc.settings.verbosity = 0\n",
    "sc.settings.set_figure_params(dpi=80, figsize=[5,5])\n",
    "plt.rcParams['figure.figsize']=(5,5)\n",
    "plt.ioff();"
   ]
  },
  {
   "cell_type": "code",
   "execution_count": null,
   "id": "079a7f51-505f-4b34-8bb3-1e33ddec9c9a",
   "metadata": {},
   "outputs": [],
   "source": [
    "currDir = os.getcwd()"
   ]
  },
  {
   "cell_type": "code",
   "execution_count": null,
   "id": "dc60076a-1338-44b3-9209-c8af0468d726",
   "metadata": {},
   "outputs": [],
   "source": [
    "currDir"
   ]
  },
  {
   "cell_type": "markdown",
   "id": "30fc9027-ab8c-4d28-b472-21fd762e5609",
   "metadata": {},
   "source": [
    "directory paths & file names"
   ]
  },
  {
   "cell_type": "code",
   "execution_count": null,
   "id": "f0838ed2-3477-4d3e-a2ca-83c1961ce413",
   "metadata": {},
   "outputs": [],
   "source": [
    "### DIRECTORY PATHS ###\n",
    "# Start in \"EMT-in-cancer/6-Panchy/Code\" folder\n",
    "\n",
    "# Main dataset directory\n",
    "mainDir = os.path.dirname(os.path.dirname(currDir))\n",
    "\n",
    "# Data directories\n",
    "dataDir = os.path.dirname(mainDir)+\"/EMT-in-cancer-datafiles/6-Panchy/_h5ad/\"\n",
    "rawDir = os.path.dirname(mainDir)+\"/EMT-in-cancer-datafiles/6-Panchy/_rawData/\"\n",
    "\n",
    "# Figure directory\n",
    "figDir = os.path.dirname(currDir)+\"/Figures/\"\n",
    "sc.settings.figdir = figDir\n",
    "\n",
    "# Data summaries/output directory\n",
    "dataSumDir = os.path.dirname(currDir)+\"/DataSummaries/\"\n",
    "\n",
    "# EMT marker directory\n",
    "emtMarkerDir = mainDir+\"/Cross-Dataset Comparisons/Markers/\""
   ]
  },
  {
   "cell_type": "code",
   "execution_count": null,
   "id": "f1d1b770-1e4d-463f-946f-ef5715a8d3da",
   "metadata": {},
   "outputs": [],
   "source": [
    "### FILE PATHS ###\n",
    "\n",
    "# Files: Raw data names from GEO\n",
    "raw_data = \"GSM6593509_matrix.mtx\"\n",
    "raw_genes = \"GSM6593509_genes.tsv\"\n",
    "raw_cells = \"GSM6593509_barcodes.tsv.gz\"\n",
    "raw_metadata = \"GSM6593509_Concentration_GBC_annotation_Samples.csv.gz\"\n",
    "\n",
    "# Files: cell cycle markers\n",
    "cellCycle_g1S_csv = \"Cell Cycle Markers - G1,S Genes.csv\"\n",
    "cellCycle_g2M_csv = \"Cell Cycle Markers - G2,M Genes.csv\"\n",
    "\n",
    "# Files: EMT markers\n",
    "msigdbMarkersCsv = \"Markers - MSigDB.csv\"\n",
    "panglaoMarkersCsv = \"Markers - PanglaoDB, Epithelial.csv\"\n",
    "empCookMarkersCsv = \"Markers - EMP Cook 2021.csv\""
   ]
  },
  {
   "cell_type": "markdown",
   "id": "18513383-96e0-448a-aa7c-be525385b246",
   "metadata": {},
   "source": [
    "### Part 1: IMPORT DATA, FILTERING, AND NORMALIZATION"
   ]
  },
  {
   "cell_type": "code",
   "execution_count": null,
   "id": "78c1265b-90fc-4919-991d-8f88f46e2870",
   "metadata": {},
   "outputs": [],
   "source": [
    "# Import genes, cells, metadata\n",
    "\n",
    "genes = pd.read_csv(rawDir+raw_genes, header=None)\n",
    "# Crop the Ensembl gene IDs from the gene name\n",
    "genes = genes[0].str.split('\\t').str[1].to_list()\n",
    "\n",
    "cells = pd.read_csv(rawDir+raw_cells, header=None)[0].to_list()\n",
    "metadata = pd.read_csv(rawDir+raw_metadata, index_col=0)"
   ]
  },
  {
   "cell_type": "code",
   "execution_count": null,
   "id": "3b6ae090-588f-4668-9588-3b5c1325804d",
   "metadata": {},
   "outputs": [],
   "source": [
    "# Import data files\n",
    "\n",
    "# Importing from mtx takes a while; re-saved it as h5ad\n",
    "# adata_raw = sc.read_mtx(rawDir+raw_data).T\n",
    "# adata_raw.write(dataDir+\"0-rawMtx.h5ad\")\n",
    "adata = sc.read_h5ad(dataDir+\"0-rawMtx.h5ad\")\n",
    "adata.var.index = genes\n",
    "adata.var_names_make_unique()\n",
    "adata.var_names = adata.var_names.str.upper() # Gene names as all uppercase\n",
    "adata.obs.index = cells\n",
    "# adata.X = adata.X.tocsr() # Is this necessary? type() already says csr matrix"
   ]
  },
  {
   "cell_type": "code",
   "execution_count": null,
   "id": "e40fb526-e10d-424a-9a12-449cfdec03d0",
   "metadata": {},
   "outputs": [],
   "source": [
    "# Filter for only cells that have barcodes\n",
    "# NOTE: these are cells that are filtered by the orig authors!\n",
    "adata = adata[adata.obs.index.isin(metadata.index)].copy()\n",
    "\n",
    "# Add the barcodes\n",
    "adata.obs['Dose Barcode'] = metadata['Values']\n",
    "# Annotate dosage info\n",
    "labelDict = {1: 0,\n",
    "             2: 12.5,\n",
    "             3: 25,\n",
    "             4: 50,\n",
    "             8: 100,\n",
    "             9: 200,\n",
    "             12: 400,\n",
    "             13: 800}\n",
    "adata.obs[\"Dose pM\"] = adata.obs[\"Dose Barcode\"].replace(to_replace=labelDict)"
   ]
  },
  {
   "cell_type": "code",
   "execution_count": null,
   "id": "0a28d738-98c6-4759-bdd7-dbac989260a9",
   "metadata": {},
   "outputs": [],
   "source": [
    "# Remove Dose 0 cells\n",
    "adata = adata[adata.obs[\"Dose pM\"] != 0]"
   ]
  },
  {
   "cell_type": "markdown",
   "id": "580aba1d-4bf0-43fd-bb76-2def29383930",
   "metadata": {},
   "source": [
    "KRT15 cells"
   ]
  },
  {
   "cell_type": "code",
   "execution_count": null,
   "id": "d6868994-4ffb-4977-bbd2-b143fdc18c73",
   "metadata": {},
   "outputs": [],
   "source": [
    "# Remove high KRT15 cells; they are high also in Dose 0, cluster together, maybe misbarcoded Dose 0\n",
    "sc.pl.violin(adata, [\"KRT15\"])"
   ]
  },
  {
   "cell_type": "code",
   "execution_count": null,
   "id": "0765852c-3efa-4a36-b4bf-af2860ba0ee1",
   "metadata": {
    "scrolled": true,
    "tags": []
   },
   "outputs": [],
   "source": [
    "# From analysis of all cells\n",
    "KRT15_high_cells = pd.read_csv(\"KRT15_expressionHigh_cells.csv\", header=None)[0].to_list()\n",
    "adata = adata[~adata.obs_names.isin(KRT15_high_cells)].copy()\n",
    "KRT15_low_cells = (~(adata[:, 'KRT15'].X > 20).toarray().flatten()).tolist()\n",
    "adata = adata[KRT15_low_cells].copy()"
   ]
  },
  {
   "cell_type": "code",
   "execution_count": null,
   "id": "fda04cdf-f8ae-4052-93e6-253b99341978",
   "metadata": {},
   "outputs": [],
   "source": [
    "# View KRT15 distribution\n",
    "sc.pl.violin(adata, [\"KRT15\"])"
   ]
  },
  {
   "cell_type": "markdown",
   "id": "c8a8cb6b-3c36-47d2-962f-8abc6384a5dc",
   "metadata": {},
   "source": [
    "FILTERING"
   ]
  },
  {
   "cell_type": "code",
   "execution_count": null,
   "id": "194ccd96-d59e-4bc9-a47f-7d137ebac5da",
   "metadata": {},
   "outputs": [],
   "source": [
    "# Remove ERCC genes\n",
    "ercc_genes = adata.var_names.str.startswith('ERCC')\n",
    "adata = adata[:, ercc_genes==False].copy()\n",
    "\n",
    "# Filter for minimum cells and genes\n",
    "sc.pp.filter_cells(adata, min_genes=200)\n",
    "sc.pp.filter_genes(adata, min_cells=3)"
   ]
  },
  {
   "cell_type": "code",
   "execution_count": null,
   "id": "b577827d-795a-435a-b5b1-a33235c13979",
   "metadata": {
    "scrolled": true,
    "tags": []
   },
   "outputs": [],
   "source": [
    "# Identify mitochondrial genes\n",
    "adata.var['mito_gene'] = adata.var.index.str.startswith(('MT-', 'MTRNR'))\n",
    "\n",
    "# Run QC metrics\n",
    "sc.pp.calculate_qc_metrics(adata, qc_vars=['mito_gene'], log1p=False, inplace=True)\n",
    "\n",
    "# Basic metrics\n",
    "sc.pl.violin(adata, ['n_genes', 'total_counts', 'pct_counts_mito_gene'], multi_panel=True, jitter=0.4, save=\" - n_genes, n_counts, perc_mito.png\")\n",
    "\n",
    "# Top N genes constituting what fraction of total counts, per cell\n",
    "sc.pl.violin(adata, ['pct_counts_in_top_50_genes', 'pct_counts_in_top_100_genes', 'pct_counts_in_top_200_genes', 'pct_counts_in_top_500_genes'],\n",
    "             rotation=90, ylabel='Percent Counts of a Cell\\nfrom Top N Genes\\n', xlabel='\\nTop N Genes In a Cell',\n",
    "             save=\" - pct_counts_in_top_n_genes.png\")\n",
    "# Deleting this obs to remove clutter\n",
    "del adata.obs['pct_counts_in_top_50_genes'], adata.obs['pct_counts_in_top_100_genes'], adata.obs['pct_counts_in_top_200_genes'], adata.obs['pct_counts_in_top_500_genes']"
   ]
  },
  {
   "cell_type": "code",
   "execution_count": null,
   "id": "7c16188f-d8f5-4cac-a9be-c7a2943815e6",
   "metadata": {
    "scrolled": true,
    "tags": []
   },
   "outputs": [],
   "source": [
    "# Identify ribosomal genes\n",
    "ribo_genes = adata.var.index.str.startswith(('RPL','RPS'))\n",
    "adata.obs[\"pct_counts_ribo_gene\"] = 100*np.sum(adata[:, ribo_genes].X, axis=1) / np.sum(adata.X, axis=1)\n",
    "sc.pl.violin(adata, [\"pct_counts_ribo_gene\"], save=\" - pct_counts_ribo_gene.png\")\n",
    "\n",
    "# Gene metric scatterplots\n",
    "sc.pl.scatter(adata, x='total_counts', y='n_genes')\n",
    "sc.pl.scatter(adata, x='total_counts', y='pct_counts_mito_gene')\n",
    "sc.pl.scatter(adata, x='total_counts', y='pct_counts_ribo_gene')\n",
    "sc.pl.scatter(adata, x='pct_counts_ribo_gene', y='pct_counts_mito_gene')\n",
    "sc.pl.scatter(adata, x='total_counts', y='n_genes', color='pct_counts_mito_gene', save=\" - n_genes vs total_counts.png\")\n",
    "sc.pl.scatter(adata, x='total_counts', y='n_genes', color='pct_counts_ribo_gene')"
   ]
  },
  {
   "cell_type": "code",
   "execution_count": null,
   "id": "827e6757-184c-41b5-86cc-f35637b0dc96",
   "metadata": {},
   "outputs": [],
   "source": [
    "# FILTERING\n",
    "\n",
    "# Remove total_count outliers\n",
    "adata = adata[adata.obs[\"total_counts\"] < 35000,:].copy()\n",
    "\n",
    "# Remove mito genes\n",
    "adata = adata[:, adata.var.mito_gene==False].copy() # Remove mito genes\n",
    "# Remove high mito cells\n",
    "adata = adata[adata.obs.pct_counts_mito_gene < 7, :].copy()"
   ]
  },
  {
   "cell_type": "code",
   "execution_count": null,
   "id": "62c0684d-7479-4dfc-b4f2-e99af71cbaa3",
   "metadata": {
    "scrolled": true,
    "tags": []
   },
   "outputs": [],
   "source": [
    "# Genes with largest proportions, after filtering\n",
    "sc.pl.highest_expr_genes(adata, n_top=20, save=\" - genes w highest expression.png\")\n",
    "\n",
    "# Save filtered genes\n",
    "adata.write(dataDir+\"1-Filtered_and_Normalized_allGenes.h5ad\")"
   ]
  },
  {
   "cell_type": "code",
   "execution_count": null,
   "id": "a017cad9-5437-47dd-83db-aaed66c6b586",
   "metadata": {},
   "outputs": [],
   "source": [
    "# Import cell cycle genes\n",
    "\n",
    "# G1/S Genes\n",
    "cellCycle_g1S_genes = []\n",
    "with open(emtMarkerDir+cellCycle_g1S_csv) as inputFile:\n",
    "    reader = csv.reader(inputFile)\n",
    "    # no header\n",
    "    for row in reader:\n",
    "        if row[0] in adata.var_names:\n",
    "            cellCycle_g1S_genes.append(row[0])\n",
    "\n",
    "# G2/M Genes\n",
    "cellCycle_g2M_genes = []\n",
    "with open(emtMarkerDir+cellCycle_g2M_csv) as inputFile:\n",
    "    reader = csv.reader(inputFile)\n",
    "    # no header\n",
    "    for row in reader:\n",
    "        if row[0] in adata.var_names:\n",
    "            cellCycle_g2M_genes.append(row[0])"
   ]
  },
  {
   "cell_type": "markdown",
   "id": "d837243c-0a8d-4216-977f-7e5fa70b8e8c",
   "metadata": {},
   "source": [
    "NORMALIZATION"
   ]
  },
  {
   "cell_type": "code",
   "execution_count": null,
   "id": "d7e12c2e-54d9-4f20-a03d-196a43bbd325",
   "metadata": {
    "scrolled": true,
    "tags": []
   },
   "outputs": [],
   "source": [
    "# Total-count normalize to 10,000 counts per cell\n",
    "sc.pp.normalize_total(adata, target_sum=1e4)\n",
    "adata.raw = adata\n",
    "# Save normalized data\n",
    "adata.write(dataDir+\"1-Filtered_and_Normalized_allGenes.h5ad\")\n",
    "\n",
    "# Log of genes\n",
    "sc.pp.log1p(adata)\n",
    "# Set raw - later scanpy analysis uses this\n",
    "adata.raw = adata\n",
    "# Add cell cycle score\n",
    "adata.X = adata.X.astype('<f8')\n",
    "sc.tl.score_genes_cell_cycle(adata, s_genes=cellCycle_g1S_genes, g2m_genes=cellCycle_g2M_genes, use_raw=False)\n",
    "adata.X = adata.X.astype('<f4')\n"
   ]
  },
  {
   "cell_type": "code",
   "execution_count": null,
   "id": "3b3613ab-6302-449c-a55e-d5c1bed1e9fd",
   "metadata": {},
   "outputs": [],
   "source": [
    "# Highly variable genes (note: expects log data)\n",
    "sc.pp.highly_variable_genes(adata)\n",
    "adataHiVar = adata[:, adata.var.highly_variable].copy()\n",
    "\n",
    "# Regress out effects of total counts per cell and percent mito and cell cycle\n",
    "sc.pp.regress_out(adataHiVar, ['total_counts', 'pct_counts_mito_gene', 'G2M_score','S_score'])\n",
    "\n",
    "# Scale to unit variance\n",
    "sc.pp.scale(adataHiVar, max_value=10)\n",
    "\n",
    "# Save filtered and normalized data\n",
    "adata.write(dataDir+\"/1-Filtered_and_Normalized_hiVarGenes.h5ad\")"
   ]
  },
  {
   "cell_type": "markdown",
   "id": "2a8384e4-9060-421a-b765-06c2a7355bca",
   "metadata": {},
   "source": [
    "### Part 2: CLUSTERING AND DE GENES"
   ]
  },
  {
   "cell_type": "code",
   "execution_count": null,
   "id": "c33d3b7b-3ab7-40d7-8efc-5044716db172",
   "metadata": {},
   "outputs": [],
   "source": [
    "%matplotlib inline\n",
    "sc.settings.set_figure_params(dpi=80, figsize=[5,5])\n",
    "plt.rcParams['figure.figsize']=(5,5)"
   ]
  },
  {
   "cell_type": "code",
   "execution_count": null,
   "id": "b1bf3c9e-a803-4e52-854e-88601ad469ea",
   "metadata": {
    "scrolled": true
   },
   "outputs": [],
   "source": [
    "# PCA\n",
    "sc.tl.pca(adataHiVar, svd_solver='arpack')\n",
    "sc.pl.pca(adataHiVar, color=[\"total_counts\", \"n_genes\", \"pct_counts_mito_gene\", \"pct_counts_ribo_gene\", \"Dose Barcode\", \"Dose pM\", \"phase\"], save=\" - dataset info.png\")\n",
    "sc.pl.pca_variance_ratio(adataHiVar, log=True)"
   ]
  },
  {
   "cell_type": "code",
   "execution_count": null,
   "id": "08d785fc-a9f2-4f13-86cd-fdb289dbbc53",
   "metadata": {},
   "outputs": [],
   "source": [
    "# UMAP\n",
    "sc.pp.neighbors(adataHiVar)\n",
    "sc.tl.umap(adataHiVar)"
   ]
  },
  {
   "cell_type": "code",
   "execution_count": null,
   "id": "9a5f0121-0d78-4414-a173-b29acd849dbc",
   "metadata": {},
   "outputs": [],
   "source": [
    "sc.pl.umap(adataHiVar, color=[\"total_counts\", \"n_genes\", \"pct_counts_mito_gene\", \"pct_counts_ribo_gene\", \"Dose Barcode\", \"Dose pM\", \"phase\"], save=\" - dataset info.png\")\n",
    "sc.pl.umap(adataHiVar, color=[\"KRT15\"])"
   ]
  },
  {
   "cell_type": "code",
   "execution_count": null,
   "id": "eb6b5f0c-d663-47df-8b06-fead96c5cefd",
   "metadata": {},
   "outputs": [],
   "source": [
    "# PHATE\n",
    "sc.external.tl.phate(adataHiVar)"
   ]
  },
  {
   "cell_type": "code",
   "execution_count": null,
   "id": "095b4028-4aca-4a18-96d2-e6f889ba82a1",
   "metadata": {},
   "outputs": [],
   "source": [
    "sc.external.pl.phate(adataHiVar, color=[\"total_counts\", \"n_genes\", \"pct_counts_mito_gene\", \"pct_counts_ribo_gene\", \"Dose Barcode\", \"Dose pM\", \"phase\"], save=\" - dataset info.png\")"
   ]
  },
  {
   "cell_type": "code",
   "execution_count": null,
   "id": "678300ce-b3c7-46c2-b7ca-bdc696c62ce9",
   "metadata": {},
   "outputs": [],
   "source": [
    "EMT_red = '#d62728'\n",
    "EMT_yellow = '#ff7f0e'\n",
    "EMT_blue = '#1f77b4'\n",
    "colors_EMT = [EMT_yellow, EMT_blue, EMT_red]\n",
    "\n",
    "adataHiVar.uns[\"leiden_colors\"] = colors_EMT"
   ]
  },
  {
   "cell_type": "code",
   "execution_count": null,
   "id": "7137f719-8aab-45dc-a001-9da3302c44e1",
   "metadata": {},
   "outputs": [],
   "source": [
    "# Clustering\n",
    "\n",
    "sc.tl.leiden(adataHiVar, resolution=0.2, key_added='leiden')\n",
    "\n",
    "sc.pl.pca(adataHiVar, color=[\"leiden\", \"Dose pM\"])\n",
    "sc.pl.umap(adataHiVar, color=[\"leiden\", \"Dose pM\"])\n",
    "sc.external.pl.phate(adataHiVar, color=[\"leiden\", \"Dose pM\"])"
   ]
  },
  {
   "cell_type": "code",
   "execution_count": null,
   "id": "80570568-4196-4870-b9ce-698b5ca8a1e6",
   "metadata": {},
   "outputs": [],
   "source": [
    "sc.tl.rank_genes_groups(adataHiVar, 'leiden', method='wilcoxon')\n",
    "pd.DataFrame(adataHiVar.uns['rank_genes_groups']['names']).head(50).to_csv(dataSumDir+\"Cluster Marker Genes.csv\")\n",
    "pd.DataFrame(adataHiVar.uns['rank_genes_groups']['names']).head(20)"
   ]
  },
  {
   "cell_type": "code",
   "execution_count": null,
   "id": "e21242ee-f2fb-40f8-aabe-8178a5184c9c",
   "metadata": {},
   "outputs": [],
   "source": [
    "# Import MSigDB genes, EMP Cook genes, and PanglaoDB E genes\n",
    "\n",
    "df_normalized_genes = adata.var_names.to_list()\n",
    "os.chdir(emtMarkerDir)\n",
    "\n",
    "msigdbGenes = []\n",
    "with open(msigdbMarkersCsv) as inputFile:\n",
    "    reader = csv.reader(inputFile)\n",
    "    # no header\n",
    "    for row in reader:\n",
    "        if row[0] in df_normalized_genes:\n",
    "            msigdbGenes.append(row[0])\n",
    "\n",
    "empCookGenes = []\n",
    "with open(empCookMarkersCsv) as inputFile:\n",
    "    reader = csv.reader(inputFile)\n",
    "    # no header\n",
    "    for row in reader:\n",
    "        if row[0] in df_normalized_genes:\n",
    "            empCookGenes.append(row[0])\n",
    "\n",
    "panglaoGenes = []\n",
    "with open(panglaoMarkersCsv) as inputFile:\n",
    "    reader = csv.reader(inputFile)\n",
    "    # no header\n",
    "    for row in reader:\n",
    "        if row[0] in df_normalized_genes:\n",
    "            panglaoGenes.append(row[0])"
   ]
  },
  {
   "cell_type": "code",
   "execution_count": null,
   "id": "a57a6e11-a0c3-41f1-8234-345b325af277",
   "metadata": {},
   "outputs": [],
   "source": [
    "os.chdir(emtMarkerDir)\n",
    "\n",
    "intermediateDEGenes_csv = \"Markers - 24.04 EMT intermediate, DE.csv\"\n",
    "intermediateAllGenes_csv = \"Markers - 24.04 EMT intermediate focus, all analysis.csv\"\n",
    "\n",
    "intermediateDEGenes = []\n",
    "with open(intermediateDEGenes_csv) as inputFile:\n",
    "    reader = csv.reader(inputFile)\n",
    "    # no header\n",
    "    for row in reader:\n",
    "        if row[0] in df_normalized_genes:\n",
    "            intermediateDEGenes.append(row[0])\n",
    "            \n",
    "intermediateAllGenes = []\n",
    "with open(intermediateAllGenes_csv) as inputFile:\n",
    "    reader = csv.reader(inputFile)\n",
    "    # no header\n",
    "    for row in reader:\n",
    "        if row[0] in df_normalized_genes:\n",
    "            intermediateAllGenes.append(row[0])"
   ]
  },
  {
   "cell_type": "code",
   "execution_count": null,
   "id": "7de5009d-f4e2-4998-bce1-c13597f2b50c",
   "metadata": {},
   "outputs": [],
   "source": [
    "os.chdir(dataSumDir)\n",
    "\n",
    "wb = openpyxl.Workbook()\n",
    "ws = wb.active\n",
    "with open(\"Cluster Marker Genes.csv\") as f:\n",
    "    reader = csv.reader(f)\n",
    "    for row in reader:\n",
    "        ws.append(row)\n",
    "\n",
    "# Highlight E genes (red) and M genes (blue / purple)\n",
    "for row in ws.iter_rows(min_col=2, min_row=2):\n",
    "    for cell in row:\n",
    "        \n",
    "        if cell.value in intermediateAllGenes:\n",
    "            cell.fill = openpyxl.styles.PatternFill(\"solid\", fgColor=\"FFD700\")\n",
    "        elif cell.value in intermediateDEGenes:\n",
    "            cell.fill = openpyxl.styles.PatternFill(\"solid\", fgColor=\"FFFF99\")\n",
    "        \n",
    "        elif cell.value in panglaoGenes: # PanglaoDB = light red\n",
    "            cell.fill = openpyxl.styles.PatternFill(\"solid\", fgColor=\"D98686\")\n",
    "        elif cell.value in msigdbGenes: # MSigDB = light blue\n",
    "            cell.fill = openpyxl.styles.PatternFill(\"solid\", fgColor=\"ABC9DE\")\n",
    "        elif cell.value in empCookGenes: # EMP Cook = light purple\n",
    "            cell.fill = openpyxl.styles.PatternFill(\"solid\", fgColor=\"DABEED\")\n",
    "\n",
    "wb.save(\"Cluster Marker Genes - EMT colored.xlsx\")\n",
    "wb.close()"
   ]
  },
  {
   "cell_type": "markdown",
   "id": "284a3b96-9ed1-41ec-abba-d3a73d85a7ab",
   "metadata": {},
   "source": [
    "Stacked barplots of dose and phase, separated by cluster"
   ]
  },
  {
   "cell_type": "code",
   "execution_count": null,
   "id": "c3cba80a-ddfa-46e4-b4e5-ff618130817e",
   "metadata": {
    "scrolled": true,
    "tags": []
   },
   "outputs": [],
   "source": [
    "sc.pl.pca(adataHiVar, color=[\"FN1\"])\n",
    "sc.external.pl.phate(adataHiVar, color=[\"FN1\"])"
   ]
  },
  {
   "cell_type": "code",
   "execution_count": null,
   "id": "591a5834-b78b-4029-b58e-97ef3374ae6a",
   "metadata": {},
   "outputs": [],
   "source": [
    "# Diffmap\n",
    "sc.tl.diffmap(adataHiVar)"
   ]
  },
  {
   "cell_type": "code",
   "execution_count": null,
   "id": "b8a86192-1509-4319-893d-4005ab5efa4e",
   "metadata": {},
   "outputs": [],
   "source": [
    "sc.pl.diffmap(adataHiVar, color=[\"leiden\", \"Dose pM\", \"phase\", \"FN1\"], components=[\"2,3\"])"
   ]
  },
  {
   "cell_type": "markdown",
   "id": "aed315ce-ff14-46fb-b270-1b96751cf786",
   "metadata": {},
   "source": [
    "Pseudotime"
   ]
  },
  {
   "cell_type": "code",
   "execution_count": null,
   "id": "b3ec7a66-3fbd-4658-b7c8-54d168ba45d5",
   "metadata": {},
   "outputs": [],
   "source": [
    "diffmap_dim = np.asarray([cell_dim[1] for cell_dim in adataHiVar.obsm['X_diffmap']])\n",
    "root_nodes = diffmap_dim.argsort()[:5] # lowest values\n",
    "# root_nodes = diffmap_dim.argsort()[-5:] # highest values\n",
    "\n",
    "df_pseudotime = pd.DataFrame()\n",
    "for curr_node in root_nodes:\n",
    "    adataHiVar.uns['iroot'] = curr_node # root cell assigned\n",
    "    sc.tl.dpt(adataHiVar) # calculate pseudotime using this root\n",
    "    df_pseudotime[\"Root Node \"+str(curr_node)] = adataHiVar.obs['dpt_pseudotime'].copy()\n",
    "\n",
    "# Calculate mean per cell\n",
    "df_pseudotime[\"Mean\"] = df_pseudotime.mean(axis=1)\n",
    "df_pseudotime[\"Cluster\"] = adataHiVar.obs['leiden'].copy()\n",
    "adataHiVar.obs['dpt_pseudotime_mean'] = df_pseudotime[\"Mean\"].copy()"
   ]
  },
  {
   "cell_type": "code",
   "execution_count": null,
   "id": "7f4b50fa-15ca-4928-953a-db8822ecc17b",
   "metadata": {
    "scrolled": true,
    "tags": []
   },
   "outputs": [],
   "source": [
    "sc.pl.diffmap(adataHiVar, color=['dpt_pseudotime_mean'], components=('2,3'))\n",
    "sc.pl.umap(adataHiVar, color=['dpt_pseudotime_mean'])\n",
    "sc.pl.pca(adataHiVar, color=['dpt_pseudotime_mean'])\n",
    "sc.external.pl.phate(adataHiVar, color=['dpt_pseudotime_mean'])"
   ]
  },
  {
   "cell_type": "code",
   "execution_count": null,
   "id": "ebfd4dec-f945-4d3c-8b3e-4382af35dbd8",
   "metadata": {},
   "outputs": [],
   "source": [
    "replacements = {'2': 'E', '0': 'I', '1': 'M'}\n",
    "df_pseudotime['Cluster'] = df_pseudotime['Cluster'].replace(replacements)\n",
    "\n",
    "EMT_clusters_in_order = [2,0,1]\n",
    "run_name = \"\"\n",
    "numBins=15\n",
    "    \n",
    "increments = np.linspace(0,1,numBins+1)\n",
    "\n",
    "# Clusters with pseudotime cell numbers\n",
    "root_nodes_list = df_pseudotime.columns[:-2].tolist()\n",
    "numIntervals_list = list(range(0,numBins))\n",
    "if len(EMT_clusters_in_order) == 3:\n",
    "    df_pseudotimeClusters_mean = pd.DataFrame(columns=['E','I', 'M','Pseudotime Interval'])\n",
    "    df_pseudotimeClusters_E = pd.DataFrame(index=numIntervals_list, columns=root_nodes_list)\n",
    "    df_pseudotimeClusters_I = pd.DataFrame(index=numIntervals_list, columns=root_nodes_list)\n",
    "    df_pseudotimeClusters_M = pd.DataFrame(index=numIntervals_list, columns=root_nodes_list)\n",
    "\n",
    "if len(EMT_clusters_in_order) == 3:\n",
    "    # Mean matrix\n",
    "    for i in range(1,len(increments)):\n",
    "        df_currInterval = df_pseudotime[(df_pseudotime['Mean'] <= increments[i]) & (df_pseudotime['Mean'] > increments[i-1])]\n",
    "        counts_E = np.sum(df_currInterval[\"Cluster\"] == \"E\")\n",
    "        counts_I = np.sum(df_currInterval[\"Cluster\"] == \"I\")\n",
    "        counts_M = np.sum(df_currInterval[\"Cluster\"] == \"M\")\n",
    "        df_pseudotimeClusters_mean = pd.concat([df_pseudotimeClusters_mean,\n",
    "                                                pd.DataFrame(data={'E': [counts_E],\n",
    "                                                                   'I': [counts_I],\n",
    "                                                                   'M': [counts_M],\n",
    "                                                                   'Pseudotime Interval': [round(increments[i],3)]})],\n",
    "                                               ignore_index=True)\n",
    "    # Root node E, I, M matrices\n",
    "    for idx, currRootNode in enumerate(df_pseudotime.columns[:-2].tolist()):\n",
    "        for i in range(1,len(increments)):\n",
    "            df_currInterval = df_pseudotime[(df_pseudotime[currRootNode] <= increments[i]) & (df_pseudotime[currRootNode] > increments[i-1])]\n",
    "            counts_E = np.sum(df_currInterval[\"Cluster\"] == \"E\")\n",
    "            counts_I = np.sum(df_currInterval[\"Cluster\"] == \"I\")\n",
    "            counts_M = np.sum(df_currInterval[\"Cluster\"] == \"M\")\n",
    "            df_pseudotimeClusters_E.iat[i-1, idx] = counts_E\n",
    "            df_pseudotimeClusters_I.iat[i-1, idx] = counts_I\n",
    "            df_pseudotimeClusters_M.iat[i-1, idx] = counts_M\n",
    "    # Root node E, I1, I2, M matrices; standard deviation of # cells in each pseudotime interval\n",
    "    df_pseudotimeClusters_stdev = pd.DataFrame()\n",
    "    df_pseudotimeClusters_stdev[\"E\"] = df_pseudotimeClusters_E.std(axis=1)\n",
    "    df_pseudotimeClusters_stdev[\"I\"] = df_pseudotimeClusters_I.std(axis=1)\n",
    "    df_pseudotimeClusters_stdev[\"M\"] = df_pseudotimeClusters_M.std(axis=1)\n",
    "\n",
    "\n",
    "# Plot figure with cell numbers\n",
    "if len(EMT_clusters_in_order) == 4:\n",
    "    colors_EMT_rainbow = ['#d62728', '#ff7f0e', '#279e68', '#1f77b4'] #ROGB\n",
    "    y_plot = [\"E\",\"I1\",\"I2\",\"M\"]\n",
    "elif len(EMT_clusters_in_order) == 3:\n",
    "    colors_EMT_rainbow = ['#d62728', '#ff7f0e', '#1f77b4'] #ROB\n",
    "    y_plot = [\"E\",\"I\",\"M\"]\n",
    "\n",
    "\n",
    "df_pseudotimeClusters_mean.reset_index().plot(x=\"Pseudotime Interval\", y=y_plot,\n",
    "                                              yerr=[df_pseudotimeClusters_stdev[col] for col in df_pseudotimeClusters_stdev],\n",
    "                                              kind=\"bar\", width=0.9, figsize=(8,6),\n",
    "                                              color=colors_EMT_rainbow)\n",
    "plt.ylim(bottom=0)\n",
    "plt.title(\"Pseudotime Intervals with Cluster Counts\");\n",
    "plt.ylabel(\"# Cells\");\n",
    "plt.savefig(figDir+\"Pseudotime Intervals by Cluster - \"+str(numBins)+\" bins.png\")\n",
    "plt.show()"
   ]
  },
  {
   "cell_type": "code",
   "execution_count": null,
   "id": "e3b0a2ef-498e-49a0-899c-5008b264447e",
   "metadata": {},
   "outputs": [],
   "source": [
    "# Calculate by proportions per interval instead of numbers\n",
    "df_pseudotimeClusters_proportions = df_pseudotimeClusters_mean.iloc[:,:-1].copy()\n",
    "numCells_per_interval = df_pseudotimeClusters_proportions.sum(axis=1)\n",
    "\n",
    "# df_pseudotimeClusters_proportions = df_pseudotimeClusters_proportions.div(numCells_per_interval, axis=0)\n",
    "df_pseudotimeClusters_proportions = df_pseudotimeClusters_proportions.div(numCells_per_interval.replace(0.0,1.0), axis=0)\n",
    "df_pseudotimeClusters_proportions[\"Pseudotime Interval\"] = df_pseudotimeClusters_mean[\"Pseudotime Interval\"].copy()\n",
    "\n",
    "# Trim, starting from last bin with 100% E cells\n",
    "# model_start_bin = max(0, pd.Series(df_pseudotimeClusters_proportions[df_pseudotimeClusters_proportions.columns[0]].astype(float) < 1.0).argmax() - 1)\n",
    "model_start_bin = max(0, df_pseudotimeClusters_proportions.iloc[:,0][df_pseudotimeClusters_proportions.iloc[:,0] == 1.0].index[-1])\n",
    "df_pseudotimeClusters_proportions = df_pseudotimeClusters_proportions[model_start_bin:]\n",
    "\n",
    "# Convert standard deviation # cells into proportions\n",
    "df_pseudotimeClusters_stdev_proportions = pd.DataFrame()\n",
    "df_pseudotimeClusters_stdev_proportions[\"E\"] = (df_pseudotimeClusters_stdev[\"E\"] / numCells_per_interval).fillna(0)[model_start_bin:]\n",
    "df_pseudotimeClusters_stdev_proportions[\"I\"] = (df_pseudotimeClusters_stdev[\"I\"] / numCells_per_interval).fillna(0)[model_start_bin:]\n",
    "df_pseudotimeClusters_stdev_proportions[\"M\"] = (df_pseudotimeClusters_stdev[\"M\"] / numCells_per_interval).fillna(0)[model_start_bin:]\n",
    "\n",
    "plt.clf()\n",
    "plt.figure(figsize=(8, 5), dpi=150)\n",
    "plt.errorbar(df_pseudotimeClusters_proportions[\"Pseudotime Interval\"], df_pseudotimeClusters_proportions[\"E\"],\n",
    "             yerr = df_pseudotimeClusters_stdev_proportions[\"E\"], fmt='-o', color=\"C3\", lw=2)\n",
    "plt.errorbar(df_pseudotimeClusters_proportions[\"Pseudotime Interval\"], df_pseudotimeClusters_proportions[\"I\"],\n",
    "             yerr = df_pseudotimeClusters_stdev_proportions[\"I\"], fmt='-o', color=\"C1\", lw=2)\n",
    "plt.errorbar(df_pseudotimeClusters_proportions[\"Pseudotime Interval\"], df_pseudotimeClusters_proportions[\"M\"],\n",
    "             yerr = df_pseudotimeClusters_stdev_proportions[\"M\"], fmt='-o', color=\"C0\", lw=2)\n",
    "plt.legend([\"E\", \"I\", \"M\"], loc=\"center left\")\n",
    "plt.xlabel(\"Pseudotime\")\n",
    "plt.ylabel(\"Cell Population Proportion\")\n",
    "plt.title(\"Cell Population across Pseudotime\")\n",
    "plt.ylim(0,1);\n",
    "plt.savefig(figDir+\"Pseudotime Intervals by Cluster - \"+str(numBins)+\" bins, Cell Proportions.png\")\n",
    "plt.show()"
   ]
  },
  {
   "cell_type": "code",
   "execution_count": null,
   "id": "70deed59-c4ff-4ba0-95db-30ae13efaae1",
   "metadata": {},
   "outputs": [],
   "source": [
    "odeDir = mainDir+\"/ODE Model/Data/6-Panchy/\"\n",
    "run_name = \"Panchy\""
   ]
  },
  {
   "cell_type": "code",
   "execution_count": null,
   "id": "87f1db1a-d1a7-4ccf-83e0-6eea2c3b6cb3",
   "metadata": {},
   "outputs": [],
   "source": [
    "# Save ODE data\n",
    "del df_pseudotimeClusters_proportions[\"Pseudotime Interval\"]\n",
    "os.chdir(odeDir)\n",
    "df_pseudotimeClusters_proportions.to_csv(run_name+\" - Pseudotime - \"+str(numBins)+\" bins, cropped.csv\")\n",
    "df_pseudotimeClusters_stdev_proportions.to_csv(run_name+\" - Pseudotime - \"+str(numBins)+\" bins, cropped, stdev.csv\")"
   ]
  },
  {
   "cell_type": "code",
   "execution_count": null,
   "id": "4eac1a19-5545-4baf-a335-8ad5bbfb3417",
   "metadata": {},
   "outputs": [],
   "source": []
  }
 ],
 "metadata": {
  "kernelspec": {
   "display_name": "Python 3 (ipykernel)",
   "language": "python",
   "name": "python3"
  },
  "language_info": {
   "codemirror_mode": {
    "name": "ipython",
    "version": 3
   },
   "file_extension": ".py",
   "mimetype": "text/x-python",
   "name": "python",
   "nbconvert_exporter": "python",
   "pygments_lexer": "ipython3",
   "version": "3.9.13"
  }
 },
 "nbformat": 4,
 "nbformat_minor": 5
}
