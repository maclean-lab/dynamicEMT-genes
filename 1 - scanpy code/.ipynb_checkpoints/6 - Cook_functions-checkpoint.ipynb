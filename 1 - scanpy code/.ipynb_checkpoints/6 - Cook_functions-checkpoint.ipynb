{
 "cells": [
  {
   "cell_type": "code",
   "execution_count": null,
   "metadata": {},
   "outputs": [],
   "source": [
    "import os\n",
    "currDir = os.getcwd()"
   ]
  },
  {
   "cell_type": "code",
   "execution_count": null,
   "metadata": {},
   "outputs": [],
   "source": [
    "# Import universal dataset functions\n",
    "os.chdir(os.path.dirname(os.path.dirname(currDir))+\"/0-MultipleRuns/\")\n",
    "%run universal_dataset_functions.ipynb\n",
    "os.chdir(currDir)"
   ]
  },
  {
   "cell_type": "markdown",
   "metadata": {},
   "source": [
    "### Part 1: IMPORT DATA, FILTERING, AND NORMALIZATION"
   ]
  },
  {
   "cell_type": "markdown",
   "metadata": {},
   "source": [
    "importData (overwrite)"
   ]
  },
  {
   "cell_type": "code",
   "execution_count": null,
   "metadata": {},
   "outputs": [],
   "source": [
    "def importData(dataset_name, run_name):\n",
    "    # Import data\n",
    "    adata = sc.read_csv(dataDir+\"/_rawData/\"+run_name+\".csv\")\n",
    "    adata.var_names_make_unique()\n",
    "    \n",
    "    \n",
    "    ### COOK UNIQUE ###\n",
    "    \n",
    "    # Add metadata: timepoint and original pseudotime\n",
    "    df_metadata = pd.read_csv(dataDir+\"/_rawData/\"+run_name+\"_metadata.csv\")\n",
    "\n",
    "    # Annotate timepoint labels\n",
    "    labelDict = {'0d': '0) 0d',\n",
    "                 '8h': '1) 8h',\n",
    "                 '1d': '2) 1d',\n",
    "                 '3d': '3) 3d',\n",
    "                 '7d': '4) 7d',\n",
    "                 '8h_rm': '5) 8h no stim',\n",
    "                 '1d_rm': '6) 1d no stim',\n",
    "                 '3d_rm': '7) 3d no stim'}\n",
    "    df_metadata[\"Time_edited\"] = df_metadata[\"Time\"].replace(to_replace=labelDict)\n",
    "\n",
    "    # Add labels to adata\n",
    "    adata.obs[\"Timepoint\"] = df_metadata[\"Time_edited\"].tolist()\n",
    "    adata.obs[\"Authors_Pseudotime\"] = df_metadata[\"Pseudotime\"].tolist()\n",
    "    adata.obs[\"Batch\"] = df_metadata[\"Mix\"].tolist()\n",
    "    \n",
    "    # Only keep forward timepoints\n",
    "    adata = adata[[x in ['0) 0d','1) 8h','2) 1d','3) 3d','4) 7d'] for x in adata.obs[\"Timepoint\"]]].copy()\n",
    "    \n",
    "    ### /COOK UNIQUE ###\n",
    "    \n",
    "    \n",
    "    return adata"
   ]
  },
  {
   "cell_type": "markdown",
   "metadata": {},
   "source": [
    "filter_MitoRibo (overwrite)"
   ]
  },
  {
   "cell_type": "code",
   "execution_count": null,
   "metadata": {},
   "outputs": [],
   "source": [
    "def filter_MitoRibo(adata, total_counts_cutoff, mito_cutoff, ribo_cutoff, run_name, dataset_name=\"\"):\n",
    "    \n",
    "    ### GENE METRICS ###\n",
    "    \n",
    "    # ScanPy pct_counts_mito_gene is from  0-100 not 0-1\n",
    "    mito_cutoff = mito_cutoff*100\n",
    "    \n",
    "    # Gene metrics\n",
    "    sc.pp.calculate_qc_metrics(adata, qc_vars=[\"mito_gene\"], percent_top=None, log1p=False, inplace=True)\n",
    "    adata.obs[\"n_genes\"] = adata.obs[\"n_genes_by_counts\"].copy() # Rename \"n_genes_by_counts\" to \"n_genes\"\n",
    "    del adata.obs[\"n_genes_by_counts\"]\n",
    "    sc.pl.violin(adata, ['n_genes', 'total_counts', 'pct_counts_mito_gene'], jitter=0.4, multi_panel=True, save=\" - n_genes, n_counts, perc_mito.png\")\n",
    "    \n",
    "    # Ribosomal genes\n",
    "    ribo_genes = adata.var_names.str.startswith(('RPL','RPS'))\n",
    "    adata.obs[\"pct_counts_ribo_gene\"] = np.sum(adata[:, ribo_genes].X, axis=1) / np.sum(adata.X, axis=1)\n",
    "    sc.pl.scatter(adata, x='total_counts', y='pct_counts_ribo_gene', save=\" - pct_counts_ribo_gene vs n_counts.png\")\n",
    "    \n",
    "    # Gene metric scatterplots\n",
    "    sc.pl.scatter(adata, x='total_counts', y='n_genes', save=\" - n_genes vs total_counts.png\")\n",
    "    sc.pl.scatter(adata, x='total_counts', y='pct_counts_mito_gene', save=\" - pct_counts_mito_gene vs total_counts.png\")\n",
    "    sc.pl.scatter(adata, x='pct_counts_ribo_gene', y='pct_counts_mito_gene', save=\" - pct_counts_mito_gene vs pct_counts_ribo_gene.png\")\n",
    "    \n",
    "    \n",
    "    ### FILTERING ###\n",
    "    \n",
    "    # Remove total_count outliers\n",
    "    adata = adata[adata.obs[\"total_counts\"] < total_counts_cutoff,:].copy()\n",
    "    \n",
    "    ### COOK UNIQUE\n",
    "    \n",
    "    if run_name == \"MCF7-TNF\":\n",
    "        sc.pp.filter_cells(adata, min_genes=1000)\n",
    "        \n",
    "    ### /COOK UNIQUE\n",
    "    \n",
    "    # Remove mito genes, remove high mito cells\n",
    "    adata = adata[:, adata.var.mito_gene==False].copy() # Mt genes\n",
    "    del adata.var[\"mito_gene\"]\n",
    "    adata = adata[adata.obs.pct_counts_mito_gene < mito_cutoff, :].copy() # MT cells\n",
    "    \n",
    "    # Remove ribo genes, remove high ribo cells\n",
    "    ribo_genes = adata.var_names.str.startswith(('RPL','RPS'))\n",
    "    adata = adata[:, ribo_genes==False].copy()\n",
    "    adata = adata[adata.obs.pct_counts_ribo_gene < ribo_cutoff, :].copy()\n",
    "    \n",
    "    ### Figures after filtering\n",
    "    \n",
    "    # Gene metric scatterplot after filtering\n",
    "    sc.pl.scatter(adata, x='total_counts', y='n_genes', color='pct_counts_mito_gene', save=\" - n_genes vs total_counts filtered.png\")\n",
    "    if mito_cutoff < 100:\n",
    "        sc.pl.scatter(adata, x='total_counts', y='pct_counts_mito_gene', save=\" - pct_counts_mito_gene vs total_counts filtered.png\")\n",
    "    if ribo_cutoff < 1:\n",
    "        sc.pl.scatter(adata, x='total_counts', y='pct_counts_ribo_gene', save=\" - pct_counts_ribo_gene vs n_counts filtered.png\")\n",
    "        sc.pl.scatter(adata, x='pct_counts_mito_gene', y='pct_counts_ribo_gene', save=\" - pct_counts_mito_gene vs pct_counts_ribo_gene filtered.png\")\n",
    "    # Genes with largest proportions, after filtering\n",
    "    sc.pl.highest_expr_genes(adata, n_top=20, save=\" - genes w highest expression.png\")\n",
    "    \n",
    "    \n",
    "    # Export percent cells expressed per gene\n",
    "    adata.var[\"perc_cells_expressed\"] = adata.var[\"n_cells\"] / adata.n_obs\n",
    "    adata.var[\"perc_cells_expressed\"].to_csv(nCellsDir + nCellsCsv)\n",
    "    \n",
    "    return adata"
   ]
  },
  {
   "cell_type": "markdown",
   "metadata": {},
   "source": [
    "normalize_and_hiVar_Data (overwrite)"
   ]
  },
  {
   "cell_type": "code",
   "execution_count": null,
   "metadata": {},
   "outputs": [],
   "source": [
    "def normalize_and_hiVar_Data(adata, run_name):\n",
    "    \n",
    "    # Total-count normalize to 10,000 counts per cell, natural log\n",
    "    sc.pp.normalize_total(adata, target_sum=1e4)\n",
    "    # Set raw\n",
    "    adata.raw = adata\n",
    "    adata.write(dataDir+\"_h5ad/\"+run_name+\"/1-Filtered_and_Normalized_allGenes.h5ad\")\n",
    "    \n",
    "    # Log and scale data\n",
    "    sc.pp.log1p(adata)\n",
    "    adata.raw = adata\n",
    "    # Add cell cycle score\n",
    "    cellCycle_g1S_genes, cellCycle_g2M_genes = cell_cycle_genes(adata)\n",
    "    adata.X = adata.X.astype('<f8')\n",
    "    sc.tl.score_genes_cell_cycle(adata, s_genes=cellCycle_g1S_genes, g2m_genes=cellCycle_g2M_genes, use_raw=False)\n",
    "    adata.X = adata.X.astype('<f4')\n",
    "    \n",
    "    ### COOK UNIQUE\n",
    "    # Regress out batch effects with Combat\n",
    "    sc.pp.combat(adata, key=\"Batch\")\n",
    "    ### /COOK UNIQUE\n",
    "\n",
    "    adata.write(dataDir+\"_h5ad/\"+run_name+\"/1-Filtered_and_Normalized_allGenes_cellCycleScore.h5ad\")\n",
    "\n",
    "    # Highly variable genes (note: expects log data)\n",
    "    sc.pp.highly_variable_genes(adata)\n",
    "    adataHiVar = adata[:, adata.var.highly_variable].copy()\n",
    "    \n",
    "    # Regress out effects of total counts per cell and percent mito AND cell cycle\n",
    "    sc.pp.regress_out(adataHiVar, ['total_counts','pct_counts_mito_gene', 'S_score', 'G2M_score'])\n",
    "    sc.pp.scale(adataHiVar, max_value=10)\n",
    "    adataHiVar.write(dataDir+\"_h5ad/\"+run_name+\"/1-Filtered_and_Normalized_hiVarGenes.h5ad\")\n",
    "    \n",
    "    return adataHiVar"
   ]
  },
  {
   "cell_type": "markdown",
   "metadata": {},
   "source": [
    "### Part 2: EMTSCORE AND CLUSTERING"
   ]
  },
  {
   "cell_type": "markdown",
   "metadata": {},
   "source": [
    "Cook_unique_filter (overwrite)"
   ]
  },
  {
   "cell_type": "code",
   "execution_count": null,
   "metadata": {},
   "outputs": [],
   "source": [
    "def Cook_unique_filter(adataHiVar, run_name):\n",
    "    \n",
    "    if run_name == \"A549-TGFB1\":\n",
    "        # Calculate diffmap\n",
    "        sc.pp.neighbors(adataHiVar)\n",
    "        sc.tl.diffmap(adataHiVar)\n",
    "        sc.pp.neighbors(adataHiVar, n_neighbors=10, use_rep='X_diffmap')\n",
    "        \n",
    "        # Pick lowest 9 cells from DC1\n",
    "        diffmap_dim1 = np.asarray([cell_dim[1] for cell_dim in adataHiVar.obsm['X_diffmap']])\n",
    "        remove_nodes = diffmap_dim1.argsort()[:5]\n",
    "        remove_nodes_list = [\"0\"]*len(adataHiVar.obs)\n",
    "        for currNode in remove_nodes:\n",
    "            remove_nodes_list[currNode] = \"1\"\n",
    "        adataHiVar.obs[\"diffmap_filter\"] = remove_nodes_list.copy()\n",
    "        sc.pl.diffmap(adataHiVar, color=[\"diffmap_filter\",\"Timepoint\"], components=['1,2','1,3','2,3'])\n",
    "\n",
    "        # Remove filtered cells\n",
    "        adataHiVar = adataHiVar[adataHiVar.obs[\"diffmap_filter\"]==\"0\"].copy()\n",
    "    \n",
    "    if run_name == \"OVCA420-TGFB1\":\n",
    "        # Calculate diffmap\n",
    "        sc.pp.neighbors(adataHiVar)\n",
    "        sc.tl.diffmap(adataHiVar)\n",
    "        sc.pp.neighbors(adataHiVar, n_neighbors=10, use_rep='X_diffmap')\n",
    "\n",
    "        # Pick lowest 13 lowest cells from DC2\n",
    "        diffmap_dim = np.asarray([cell_dim[2] for cell_dim in adataHiVar.obsm['X_diffmap']])\n",
    "        remove_nodes = diffmap_dim.argsort()[:13]\n",
    "        remove_nodes_list = [\"0\"]*len(adataHiVar.obs)\n",
    "        print(remove_nodes)\n",
    "        print(type(remove_nodes))\n",
    "        print(len(remove_nodes))\n",
    "        for currNode in remove_nodes:\n",
    "            remove_nodes_list[currNode] = \"1\"\n",
    "        adataHiVar.obs[\"diffmap_filter\"] = remove_nodes_list.copy()\n",
    "        sc.pl.diffmap(adataHiVar, color=[\"diffmap_filter\",\"Timepoint\"], components=['1,3'])\n",
    "        \n",
    "        # Remove filtered cells\n",
    "        adataHiVar = adataHiVar[adataHiVar.obs[\"diffmap_filter\"]==\"0\"].copy()\n",
    "    return adataHiVar"
   ]
  },
  {
   "cell_type": "markdown",
   "metadata": {},
   "source": [
    "UMAP (overwrite)"
   ]
  },
  {
   "cell_type": "code",
   "execution_count": null,
   "metadata": {
    "tags": []
   },
   "outputs": [],
   "source": [
    "def UMAP(adataHiVar):\n",
    "    sc.pp.neighbors(adataHiVar)\n",
    "    sc.tl.umap(adataHiVar)\n",
    "    sc.pl.umap(adataHiVar, color=[\"pct_counts_mito_gene\",\"pct_counts_ribo_gene\",\"phase\"], save=\" - perc_mito, perc_ribo, cell cycle.png\")\n",
    "    sc.pl.umap(adataHiVar, color=[\"phase\"], save=\" - cell cycle.png\")\n",
    "\n",
    "    # Selected markers\n",
    "    if run_E_markers:\n",
    "        sc.pl.umap(adataHiVar, color=run_E_markers, save=\" - selected E markers.png\")\n",
    "        sc.pl.umap(adataHiVar, color=run_E_markers[0], save=\" - selected E marker.png\")\n",
    "    if run_M_markers:\n",
    "        sc.pl.umap(adataHiVar, color=run_M_markers, save=\" - selected M markers.png\")\n",
    "        sc.pl.umap(adataHiVar, color=run_M_markers[0], save=\" - selected M marker.png\")\n",
    "\n",
    "        \n",
    "    ### COOK UNIQUE ###\n",
    "    \n",
    "    # Batch\n",
    "    sc.pl.umap(adataHiVar, color=[\"Batch\"], save=\" - batch.png\")\n",
    "        \n",
    "    # Timepoints\n",
    "    sc.pl.umap(adataHiVar, color=[\"Timepoint\",\"Authors_Pseudotime\"], palette=\"coolwarm_r\", save=\" - Timepoint and Authors_Pseudotime.png\")\n",
    "    sc.pl.umap(adataHiVar, color=[\"Timepoint\"], palette=\"coolwarm_r\", save=\" - Timepoint.png\")\n",
    "    \n",
    "    ### /COOK UNIQUE ###\n",
    "    \n",
    "    \n",
    "    return adataHiVar"
   ]
  },
  {
   "cell_type": "markdown",
   "metadata": {},
   "source": [
    "leiden (overwrite)"
   ]
  },
  {
   "cell_type": "code",
   "execution_count": null,
   "metadata": {},
   "outputs": [],
   "source": [
    "def leiden(adataHiVar, leiden_resolution, EMT_clusters_in_order, run_name):\n",
    "    sc.tl.leiden(adataHiVar, resolution=leiden_resolution, key_added='leiden')\n",
    "    sc.pl.umap(adataHiVar, color=[\"leiden\"]) # initializes uns['leiden_colors']\n",
    "    \n",
    "    # Annotate the labels of the clusters\n",
    "    if len(adataHiVar.obs['leiden'].unique()) <= len(EMT_clusters_in_order):\n",
    "        \n",
    "        # 4 clusters\n",
    "        if len(EMT_clusters_in_order) == 4:\n",
    "            leiden_labels = {str(EMT_clusters_in_order[0]): 'E',\n",
    "                             str(EMT_clusters_in_order[1]): 'I1',\n",
    "                             str(EMT_clusters_in_order[2]): 'I2',\n",
    "                             str(EMT_clusters_in_order[3]): 'M'}\n",
    "            adataHiVar.obs['leiden_label'] = adataHiVar.obs['leiden'].replace(to_replace=leiden_labels)\n",
    "            # category reordering from https://scanpy.discourse.group/t/how-to-order-legend-in-sc-pl-umap/411\n",
    "            adataHiVar.obs['leiden'].cat.reorder_categories(['0','1','2','3'], inplace=True)\n",
    "            adataHiVar.obs['leiden_label'].cat.reorder_categories(['E','I1','I2','M'], inplace=True)\n",
    "            # Colors of clusters\n",
    "            colors_EMT = ['#d62728', '#ff7f0e', '#279e68', '#1f77b4']\n",
    "            adataHiVar.uns['leiden_colors'] = colors_EMT\n",
    "            adataHiVar.uns['leiden_label_colors'] = colors_EMT\n",
    "        \n",
    "        # 3 clusters\n",
    "        elif len(EMT_clusters_in_order) == 3:\n",
    "            leiden_labels = {str(EMT_clusters_in_order[0]): 'E',\n",
    "                             str(EMT_clusters_in_order[1]): 'I',\n",
    "                             str(EMT_clusters_in_order[2]): 'M'}\n",
    "            adataHiVar.obs['leiden_label'] = adataHiVar.obs['leiden'].replace(to_replace=leiden_labels)\n",
    "            adataHiVar.obs['leiden'].cat.reorder_categories(['0','1','2'], inplace=True)\n",
    "            adataHiVar.obs['leiden_label'].cat.reorder_categories(['E','I','M'], inplace=True)\n",
    "            # Colors of clusters\n",
    "            colors_EMT = ['#d62728', '#ff7f0e', '#1f77b4']\n",
    "            adataHiVar.uns['leiden_colors'] = colors_EMT\n",
    "            adataHiVar.uns['leiden_label_colors'] = colors_EMT\n",
    "            \n",
    "    sc.pl.umap(adataHiVar, color=[\"leiden_label\"], save=\" - clusters.png\")\n",
    "    return adataHiVar"
   ]
  },
  {
   "cell_type": "markdown",
   "metadata": {},
   "source": [
    "### Part 3: PSEUDOTIME"
   ]
  },
  {
   "cell_type": "markdown",
   "metadata": {},
   "source": [
    "pseudotime_rootNodes (overwrite)"
   ]
  },
  {
   "cell_type": "code",
   "execution_count": null,
   "metadata": {},
   "outputs": [],
   "source": [
    "def pseudotime_rootNodes(adataHiVar, pseudotime_DC, pseudotime_DC_rootNodes, run_name, numRoots=5):\n",
    "    # Find best root nodes: highest values of diffmap DC\n",
    "    \n",
    "    # THESE INDEXES ARE CURRENTLY BUGGED IN 1.9.1 (but not 1.8.2) - (usually) indexes should start at 0 (bug) curr start at 1\n",
    "    # DC dimension \n",
    "    if pseudotime_DC == \"DC1\":\n",
    "        diffmap_dim = np.asarray([cell_dim[1] for cell_dim in adataHiVar.obsm['X_diffmap']])\n",
    "    elif pseudotime_DC == \"DC2\":\n",
    "        diffmap_dim = np.asarray([cell_dim[2] for cell_dim in adataHiVar.obsm['X_diffmap']])\n",
    "    elif pseudotime_DC == \"DC3\":\n",
    "        diffmap_dim = np.asarray([cell_dim[3] for cell_dim in adataHiVar.obsm['X_diffmap']])\n",
    "    \n",
    "    # DC1, most neg values or most pos values\n",
    "    if pseudotime_DC_rootNodes == \"low\":\n",
    "        root_nodes = diffmap_dim.argsort()[:numRoots] # lowest values\n",
    "    else:\n",
    "        root_nodes = diffmap_dim.argsort()[-numRoots:] # highest values\n",
    "    \n",
    "    return root_nodes"
   ]
  },
  {
   "cell_type": "markdown",
   "metadata": {},
   "source": [
    "pseudotime_mean (overwrite)"
   ]
  },
  {
   "cell_type": "code",
   "execution_count": null,
   "metadata": {},
   "outputs": [],
   "source": [
    "def pseudotime_mean(adataHiVar, root_nodes):\n",
    "    \n",
    "    # Calculate pseudotime with N best root nodes\n",
    "    df_pseudotime = pd.DataFrame()\n",
    "    for curr_node in root_nodes:\n",
    "        adataHiVar.uns['iroot'] = curr_node # root cell assigned\n",
    "        sc.tl.dpt(adataHiVar) # calculate pseudotime using this root\n",
    "        df_pseudotime[\"Root Node \"+str(curr_node)] = adataHiVar.obs['dpt_pseudotime'].copy()\n",
    "    \n",
    "    # Calculate mean per cell\n",
    "    df_pseudotime[\"Mean\"] = df_pseudotime.mean(axis=1)\n",
    "    df_pseudotime[\"Cluster\"] = adataHiVar.obs['leiden_label'].copy()\n",
    "    adataHiVar.obs['dpt_pseudotime_mean'] = df_pseudotime[\"Mean\"].copy()\n",
    "    \n",
    "    # Figures\n",
    "    sc.settings.figdir = figDir\n",
    "    sc.pl.diffmap(adataHiVar, color=['dpt_pseudotime_mean'], save=\" - Pseudotime Mean.png\")\n",
    "    sc.pl.diffmap(adataHiVar, color=['leiden_label'], save=\" - clusters.png\")\n",
    "    sc.pl.diffmap(adataHiVar, color=['leiden_label'], components=['1,2', '1,3', '2,3'], save=\" - clusters, 3 components.png\")\n",
    "    sc.pl.umap(adataHiVar, color=['dpt_pseudotime_mean'], save=\" - Pseudotime Mean.png\")\n",
    "    \n",
    "    \n",
    "    ### COOK UNIQUE ###\n",
    "    sc.pl.diffmap(adataHiVar, color=[\"Timepoint\"], save=\" - Timepoint.png\")\n",
    "    if \"Authors_Pseudotime\" in adataHiVar.obs:\n",
    "        sc.pl.umap(adataHiVar, color=['dpt_pseudotime_mean', 'Authors_Pseudotime'], save=\" - Pseudotime Mean vs Authors Pseudotime.png\")\n",
    "    ### /COOK UNIQUE ###\n",
    "    \n",
    "    \n",
    "    return adataHiVar, df_pseudotime"
   ]
  },
  {
   "cell_type": "code",
   "execution_count": null,
   "metadata": {},
   "outputs": [],
   "source": []
  }
 ],
 "metadata": {
  "kernelspec": {
   "display_name": "Python 3 (ipykernel)",
   "language": "python",
   "name": "python3"
  },
  "language_info": {
   "codemirror_mode": {
    "name": "ipython",
    "version": 3
   },
   "file_extension": ".py",
   "mimetype": "text/x-python",
   "name": "python",
   "nbconvert_exporter": "python",
   "pygments_lexer": "ipython3",
   "version": "3.9.13"
  }
 },
 "nbformat": 4,
 "nbformat_minor": 4
}
