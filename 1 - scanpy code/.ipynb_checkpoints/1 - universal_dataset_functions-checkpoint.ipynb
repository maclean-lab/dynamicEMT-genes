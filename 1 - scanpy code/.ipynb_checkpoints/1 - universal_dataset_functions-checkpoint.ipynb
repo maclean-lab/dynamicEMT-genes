{
 "cells": [
  {
   "cell_type": "markdown",
   "metadata": {},
   "source": [
    "universal functions that apply to all datasets"
   ]
  },
  {
   "cell_type": "code",
   "execution_count": null,
   "metadata": {},
   "outputs": [],
   "source": [
    "import os\n",
    "import csv\n",
    "import numpy as np\n",
    "import pandas as pd\n",
    "import scipy as sp\n",
    "import seaborn as sb\n",
    "from shutil import rmtree\n",
    "\n",
    "import matplotlib.pyplot as plt\n",
    "from matplotlib import rcParams\n",
    "from matplotlib import colors\n",
    "import scanpy as sc\n",
    "\n",
    "# Scanpy params\n",
    "sc.settings.verbosity = 0\n",
    "sc.settings.set_figure_params(dpi=150, figsize=[5,5])\n",
    "plt.rcParams['figure.figsize']=(5,5)\n",
    "plt.ioff()"
   ]
  },
  {
   "cell_type": "markdown",
   "metadata": {},
   "source": [
    "directory paths & file names"
   ]
  },
  {
   "cell_type": "code",
   "execution_count": null,
   "metadata": {},
   "outputs": [],
   "source": [
    "### DIRECTORY PATHS ###\n",
    "# Start in \"EMT-in-cancer/0-MultipleConditions\" folder\n",
    "\n",
    "# Main dataset directory\n",
    "mainDir = os.path.dirname(os.getcwd())\n",
    "# Data directory -- should be reset (Part 1: Filtering & Normalization)\n",
    "dataDir = os.path.dirname(mainDir)+\"/EMT-in-cancer-datafiles/\" # note: don't change this\n",
    "# Sample settings directory\n",
    "runSettingsDir = mainDir+\"/0-MultipleRuns/\"\n",
    "# Figure directory -- should be reset (each Part)\n",
    "figDir = mainDir+\"/Figures - fix_directory/\"\n",
    "sc.settings.figdir = figDir\n",
    "# Data summaries directory -- should be reset (Part 2: Clustering)\n",
    "dataSumDir = mainDir+\"/DataSummaries - fix_directory/\"\n",
    "# EMT Marker directory\n",
    "emtMarkerDir = mainDir+\"/Cross-Dataset Comparisons/Markers/\"\n",
    "# Cluster DE gene directory\n",
    "epiStateDir = mainDir+\"/Cross-Dataset Comparisons/Epithelial State Genes/Data - Log2FC from Conditions & Genes/\"\n",
    "intStateDir = mainDir+\"/Cross-Dataset Comparisons/Intermediate State Genes/Data - Log2FC from Conditions & Genes/\"\n",
    "mesStateDir = mainDir+\"/Cross-Dataset Comparisons/Mesenchymal State Genes/Data - Log2FC from Conditions & Genes/\"\n",
    "nCellsDir = mainDir+\"/Cross-Dataset Comparisons/nCells/\"\n",
    "# ODE data directory -- should be reset (Part 3: Trajectory Inference)\n",
    "odeDir = mainDir+\"/ODE Model/Data/\""
   ]
  },
  {
   "cell_type": "code",
   "execution_count": null,
   "metadata": {},
   "outputs": [],
   "source": [
    "### FILE PATHS ###\n",
    "\n",
    "# File: import run settings\n",
    "runSettingsCsv = \"all_run_settings.xlsx\"\n",
    "\n",
    "# Files: cell cycle markers\n",
    "cellCycle_g1S_csv = \"Cell Cycle Markers - G1,S Genes.csv\"\n",
    "cellCycle_g2M_csv = \"Cell Cycle Markers - G2,M Genes.csv\"\n",
    "\n",
    "\n",
    "# Files: export cluster state gene markers from this run\n",
    "epiStateCsv = \"_Epithelial State Marker Genes, All Conditions.csv\"\n",
    "intStateCsv = \"_Intermediate State Marker Genes, All Conditions.csv\"\n",
    "mesStateCsv = \"_Mesenchymal State Marker Genes, All Conditions.csv\"\n",
    "nCellsCsv = \"_\"+dataset_name+\"_\"+run_name+\" - percent of cells with gene expression.csv\"\n",
    "\n",
    "# Specific markers\n",
    "msigdbMarkersCsv = \"Markers - MSigDB.csv\"\n",
    "panglaoMarkersCsv = \"Markers - PanglaoDB, Epithelial.csv\"\n",
    "empCookMarkersCsv = \"Markers - EMP Cook 2021.csv\""
   ]
  },
  {
   "cell_type": "markdown",
   "metadata": {},
   "source": [
    "### Part 1: IMPORT DATA, FILTERING, AND NORMALIZATION"
   ]
  },
  {
   "cell_type": "markdown",
   "metadata": {},
   "source": [
    "setDirectories"
   ]
  },
  {
   "cell_type": "code",
   "execution_count": null,
   "metadata": {},
   "outputs": [],
   "source": [
    "def setDirectories(dataset_name, run_name):\n",
    "    global dataDir\n",
    "    global figDir\n",
    "    \n",
    "    # Set directories\n",
    "    dataDir = dataDir+dataset_name+\"/\"\n",
    "    figDir = mainDir+\"/\"+dataset_name+\"/Figures/1-Filtering and Normalization/\"+run_name+\"/\"\n",
    "    sc.settings.figdir = figDir\n",
    "    sc.settings.set_figure_params(dpi=150, figsize=[5,5])"
   ]
  },
  {
   "cell_type": "markdown",
   "metadata": {},
   "source": [
    "importSettings"
   ]
  },
  {
   "cell_type": "code",
   "execution_count": null,
   "metadata": {},
   "outputs": [],
   "source": [
    "def importSettings(run_name):\n",
    "    df = pd.read_excel(runSettingsDir+runSettingsCsv, engine='openpyxl')\n",
    "    run_settings = df.loc[df['run_name'] == run_name].squeeze()\n",
    "    return run_settings"
   ]
  },
  {
   "cell_type": "markdown",
   "metadata": {},
   "source": [
    "importData"
   ]
  },
  {
   "cell_type": "code",
   "execution_count": null,
   "metadata": {},
   "outputs": [],
   "source": [
    "def importData(dataset_name, run_name):\n",
    "    # Import data\n",
    "    adata = sc.read_csv(dataDir+\"/_rawData/\"+run_name+\".csv\")\n",
    "    adata.obs_names_make_unique()\n",
    "    adata.var_names = adata.var_names.str.upper()\n",
    "    adata.var_names_make_unique()\n",
    "    return adata"
   ]
  },
  {
   "cell_type": "markdown",
   "metadata": {},
   "source": [
    "filterData"
   ]
  },
  {
   "cell_type": "code",
   "execution_count": null,
   "metadata": {},
   "outputs": [],
   "source": [
    "def filterData(adata):\n",
    "    \n",
    "    # Remove ERCC genes\n",
    "    ercc_genes = adata.var_names.str.startswith('ERCC')\n",
    "    adata = adata[:, ercc_genes==False].copy()\n",
    "    \n",
    "    # Filter for minimum cells and genes\n",
    "    sc.pp.filter_cells(adata, min_genes=200)\n",
    "    sc.pp.filter_genes(adata, min_cells=3)\n",
    "    \n",
    "    return adata"
   ]
  },
  {
   "cell_type": "markdown",
   "metadata": {},
   "source": [
    "find_Mito"
   ]
  },
  {
   "cell_type": "code",
   "execution_count": null,
   "metadata": {},
   "outputs": [],
   "source": [
    "def find_Mito(adata, mt_string=('MT-','MTRNR')):\n",
    "    # Mitochondrial genes\n",
    "    adata.var[\"mito_gene\"] = adata.var_names.str.startswith(mt_string)\n",
    "    return adata"
   ]
  },
  {
   "cell_type": "markdown",
   "metadata": {},
   "source": [
    "filter_MitoRibo"
   ]
  },
  {
   "cell_type": "code",
   "execution_count": null,
   "metadata": {},
   "outputs": [],
   "source": [
    "def filter_MitoRibo(adata, total_counts_cutoff, mito_cutoff, ribo_cutoff, run_name, dataset_name=\"\"):\n",
    "    \n",
    "    ### GENE METRICS ###\n",
    "    \n",
    "    # sc.pp.calculate_qc_metrics generates pct_counts_mito_gene from  0-100 not 0-1\n",
    "    mito_cutoff = mito_cutoff*100\n",
    "    \n",
    "    # Gene metrics\n",
    "    sc.pp.calculate_qc_metrics(adata, qc_vars=[\"mito_gene\"], percent_top=None, t=False, inplace=True)\n",
    "    adata.obs[\"n_genes\"] = adata.obs[\"n_genes_by_counts\"].copy() # Rename \"n_genes_by_counts\" to \"n_genes\"\n",
    "    del adata.obs[\"n_genes_by_counts\"]\n",
    "    sc.pl.violin(adata, ['n_genes', 'total_counts', 'pct_counts_mito_gene'], jitter=0.4, multi_panel=True, save=\" - n_genes, n_counts, perc_mito.png\")\n",
    "    \n",
    "    # Ribosomal genes\n",
    "    ribo_genes = adata.var_names.str.startswith(('RPL','RPS'))\n",
    "    adata.obs[\"pct_counts_ribo_gene\"] = np.sum(adata[:, ribo_genes].X, axis=1) / np.sum(adata.X, axis=1)\n",
    "    sc.pl.scatter(adata, x='total_counts', y='pct_counts_ribo_gene', save=\" - pct_counts_ribo_gene vs n_counts.png\")\n",
    "    \n",
    "    # Gene metric scatterplots\n",
    "    sc.pl.scatter(adata, x='total_counts', y='n_genes', save=\" - n_genes vs total_counts.png\")\n",
    "    sc.pl.scatter(adata, x='total_counts', y='pct_counts_mito_gene', save=\" - pct_counts_mito_gene vs total_counts.png\")\n",
    "    sc.pl.scatter(adata, x='pct_counts_ribo_gene', y='pct_counts_mito_gene', save=\" - pct_counts_mito_gene vs pct_counts_ribo_gene.png\")\n",
    "    sc.pl.scatter(adata, x='total_counts', y='n_genes', color='pct_counts_ribo_gene', save=\" - n_genes vs total_counts, colored by ribo.png\")\n",
    "    \n",
    "    \n",
    "    ### FILTERING ###\n",
    "    \n",
    "    # Remove total_count outliers\n",
    "    adata = adata[adata.obs[\"total_counts\"] < total_counts_cutoff,:].copy()\n",
    "    \n",
    "    # Remove mito genes, remove high mito cells\n",
    "    adata = adata[:, adata.var.mito_gene==False].copy() # Mt genes\n",
    "    del adata.var[\"mito_gene\"]\n",
    "    adata = adata[adata.obs.pct_counts_mito_gene < mito_cutoff, :].copy() # MT cells\n",
    "    \n",
    "    # Remove ribo genes, remove high ribo cells (if desired)\n",
    "    ribo_genes = adata.var_names.str.startswith(('RPL','RPS'))\n",
    "    adata = adata[:, ribo_genes==False].copy()\n",
    "    adata = adata[adata.obs.pct_counts_ribo_gene < ribo_cutoff, :].copy()\n",
    "    \n",
    "    ### Figures after filtering\n",
    "    \n",
    "    # Gene metric scatterplot after filtering\n",
    "    sc.pl.scatter(adata, x='total_counts', y='n_genes', color='pct_counts_mito_gene', save=\" - n_genes vs total_counts filtered.png\")\n",
    "    if mito_cutoff < 100:\n",
    "        sc.pl.scatter(adata, x='total_counts', y='pct_counts_mito_gene', save=\" - pct_counts_mito_gene vs total_counts filtered.png\")\n",
    "    if ribo_cutoff < 1:\n",
    "        sc.pl.scatter(adata, x='total_counts', y='pct_counts_ribo_gene', save=\" - pct_counts_ribo_gene vs n_counts filtered.png\")\n",
    "        sc.pl.scatter(adata, x='pct_counts_mito_gene', y='pct_counts_ribo_gene', save=\" - pct_counts_mito_gene vs pct_counts_ribo_gene filtered.png\")\n",
    "    # Genes with largest proportions, after filtering\n",
    "    sc.pl.highest_expr_genes(adata, n_top=20, save=\" - genes w highest expression.png\")\n",
    "    \n",
    "    \n",
    "    # Export percent cells expressed per gene\n",
    "    adata.var[\"perc_cells_expressed\"] = adata.var[\"n_cells\"] / adata.n_obs\n",
    "    adata.var[\"perc_cells_expressed\"].to_csv(nCellsDir + nCellsCsv)\n",
    "\n",
    "    return adata"
   ]
  },
  {
   "cell_type": "markdown",
   "metadata": {},
   "source": [
    "saveFilteredData"
   ]
  },
  {
   "cell_type": "code",
   "execution_count": null,
   "metadata": {},
   "outputs": [],
   "source": [
    "def saveFilteredData(adata, run_name):\n",
    "    adata.write(dataDir+\"_h5ad/\"+run_name+\"/1-Filtered_allGenes.h5ad\")"
   ]
  },
  {
   "cell_type": "markdown",
   "metadata": {},
   "source": [
    "normalize_and_hiVar_Data"
   ]
  },
  {
   "cell_type": "code",
   "execution_count": null,
   "metadata": {},
   "outputs": [],
   "source": [
    "def normalize_and_hiVar_Data(adata, run_name):\n",
    "    \n",
    "    # Total-count normalize to 10,000 counts per cell, natural log\n",
    "    sc.pp.normalize_total(adata, target_sum=1e4)\n",
    "    # Set raw\n",
    "    adata.raw = adata\n",
    "    adata.write(dataDir+\"_h5ad/\"+run_name+\"/1-Filtered_and_Normalized_allGenes.h5ad\")\n",
    "    \n",
    "    # Log and scale data\n",
    "    sc.pp.log1p(adata)\n",
    "    adata.raw = adata\n",
    "    \n",
    "    # Add cell cycle score\n",
    "    cellCycle_g1S_genes, cellCycle_g2M_genes = cell_cycle_genes(adata)\n",
    "    adata.X = adata.X.astype('<f8')\n",
    "    sc.tl.score_genes_cell_cycle(adata, s_genes=cellCycle_g1S_genes, g2m_genes=cellCycle_g2M_genes, use_raw=False)\n",
    "    adata.X = adata.X.astype('<f4')\n",
    "    adata.write(dataDir+\"_h5ad/\"+run_name+\"/1-Filtered_and_Normalized_allGenes_cellCycleScore.h5ad\")\n",
    "    \n",
    "    # Highly variable genes (note: expects log data)\n",
    "    sc.pp.highly_variable_genes(adata)\n",
    "    adataHiVar = adata[:, adata.var.highly_variable].copy()\n",
    "    \n",
    "    # Regress out effects of total counts per cell and percent mito AND cell cycle\n",
    "    sc.pp.regress_out(adataHiVar, ['total_counts','pct_counts_mito_gene', 'S_score', 'G2M_score'])\n",
    "    sc.pp.scale(adataHiVar, max_value=10)\n",
    "    adataHiVar.write(dataDir+\"_h5ad/\"+run_name+\"/1-Filtered_and_Normalized_hiVarGenes.h5ad\")\n",
    "    \n",
    "    return adataHiVar"
   ]
  },
  {
   "cell_type": "markdown",
   "metadata": {},
   "source": [
    "cell_cycle_genes \\\n",
    "above scoring information from: https://github.com/theislab/scanpy_usage/blob/master/180209_cell_cycle/cell_cycle.ipynb"
   ]
  },
  {
   "cell_type": "code",
   "execution_count": null,
   "metadata": {},
   "outputs": [],
   "source": [
    "def cell_cycle_genes(adata):\n",
    "    os.chdir(emtMarkerDir)\n",
    "    \n",
    "    # G1/S Genes\n",
    "    cellCycle_g1S_genes = []\n",
    "    with open(cellCycle_g1S_csv) as inputFile:\n",
    "        reader = csv.reader(inputFile)\n",
    "        # no header\n",
    "        for row in reader:\n",
    "            if row[0] in adata.var_names:\n",
    "                cellCycle_g1S_genes.append(row[0])\n",
    "\n",
    "    # G2/M Genes\n",
    "    cellCycle_g2M_genes = []\n",
    "    with open(cellCycle_g2M_csv) as inputFile:\n",
    "        reader = csv.reader(inputFile)\n",
    "        # no header\n",
    "        for row in reader:\n",
    "            if row[0] in adata.var_names:\n",
    "                cellCycle_g2M_genes.append(row[0])\n",
    "    \n",
    "    return cellCycle_g1S_genes, cellCycle_g2M_genes"
   ]
  },
  {
   "cell_type": "markdown",
   "metadata": {},
   "source": [
    "check_cell_cycle"
   ]
  },
  {
   "cell_type": "code",
   "execution_count": null,
   "metadata": {},
   "outputs": [],
   "source": [
    "def check_cell_cycle(run_name):\n",
    "    # Basically do the entire workflow but without regressing out S_score, G2M_score\n",
    "    \n",
    "    # Set directories\n",
    "    global figDir\n",
    "    figDir = mainDir+\"/\"+dataset_name+\"/Figures/2-EMTscore and Clustering/\"+run_name+\"/\"\n",
    "    sc.settings.figdir = figDir\n",
    "    sc.settings.set_figure_params(dpi=80, figsize=[5,5])    \n",
    "    \n",
    "    # Import data and regress\n",
    "    adata_cellCycle = sc.read_h5ad(dataDir+\"_h5ad/\"+run_name+\"/1-Filtered_and_Normalized_allGenes_cellCycleScore.h5ad\")\n",
    "    adata_cellCycle.uns['log1p']['base'] = None # 22.07 This is included because of a bug; it should already be None\n",
    "    sc.pp.highly_variable_genes(adata_cellCycle)\n",
    "    adata_cellCycle_hiVar = adata_cellCycle[:, adata_cellCycle.var.highly_variable].copy()\n",
    "    sc.pp.regress_out(adata_cellCycle_hiVar, ['total_counts','pct_counts_mito_gene'])\n",
    "    sc.pp.scale(adata_cellCycle_hiVar, max_value=10)\n",
    "    \n",
    "    # Clustering\n",
    "    sc.pp.neighbors(adata_cellCycle_hiVar)\n",
    "    sc.tl.umap(adata_cellCycle_hiVar)\n",
    "    sc.tl.leiden(adata_cellCycle_hiVar, resolution=0.35, key_added='leiden')\n",
    "    sc.pl.umap(adata_cellCycle_hiVar, color=[\"phase\", \"leiden\"], save=\" - cell cycle, unregressed, clusters.png\")\n",
    "    sc.pl.umap(adata_cellCycle_hiVar, color=[\"phase\"], save=\" - cell cycle, unregressed.png\")"
   ]
  },
  {
   "cell_type": "markdown",
   "metadata": {},
   "source": [
    "### Part 2: EMTSCORE AND CLUSTERING"
   ]
  },
  {
   "cell_type": "markdown",
   "metadata": {},
   "source": [
    "importProcessedData"
   ]
  },
  {
   "cell_type": "code",
   "execution_count": null,
   "metadata": {},
   "outputs": [],
   "source": [
    "def importProcessedData(dataset_name, run_name):\n",
    "    global dataSumDir\n",
    "    global figDir\n",
    "\n",
    "    # Set directories\n",
    "    dataSumDir = mainDir+\"/\"+dataset_name+\"/DataSummaries/2-EMTscore and Clustering/\"\n",
    "    figDir = mainDir+\"/\"+dataset_name+\"/Figures/2-EMTscore and Clustering/\"+run_name+\"/\"\n",
    "    sc.settings.figdir = figDir\n",
    "    sc.settings.set_figure_params(dpi=150, figsize=[5,5])\n",
    "    \n",
    "    # Import data\n",
    "    adata_normalized = sc.read_h5ad(dataDir+\"_h5ad/\"+run_name+\"/1-Filtered_and_Normalized_allGenes.h5ad\")\n",
    "    adataHiVar = sc.read_h5ad(dataDir+\"_h5ad/\"+run_name+\"/1-Filtered_and_Normalized_hiVarGenes.h5ad\")\n",
    "    adataHiVar.uns['log1p']['base'] = None # 22.07 This is included because of a bug; it should already be None\n",
    "    # pandas df with uppercase genes\n",
    "    df_normalized = adata_normalized.to_df()\n",
    "    df_normalized.columns = map(str.upper, df_normalized.columns)\n",
    "    \n",
    "    return adataHiVar, df_normalized"
   ]
  },
  {
   "cell_type": "markdown",
   "metadata": {},
   "source": [
    "PCA"
   ]
  },
  {
   "cell_type": "code",
   "execution_count": null,
   "metadata": {},
   "outputs": [],
   "source": [
    "def PCA(adataHiVar):\n",
    "    sc.tl.pca(adataHiVar, svd_solver='arpack')\n",
    "#     sc.pl.pca_variance_ratio(adataHiVar, log=True, save=\".png\")\n",
    "    return adataHiVar"
   ]
  },
  {
   "cell_type": "markdown",
   "metadata": {},
   "source": [
    "UMAP"
   ]
  },
  {
   "cell_type": "code",
   "execution_count": null,
   "metadata": {},
   "outputs": [],
   "source": [
    "def UMAP(adataHiVar):\n",
    "    sc.pp.neighbors(adataHiVar)\n",
    "    sc.tl.umap(adataHiVar)\n",
    "    sc.pl.umap(adataHiVar, color=[\"pct_counts_mito_gene\",\"pct_counts_ribo_gene\",\"phase\"], save=\" - perc_mito, perc_ribo, cell cycle.png\")\n",
    "    sc.pl.umap(adataHiVar, color=[\"phase\"], save=\" - cell cycle.png\")\n",
    "    \n",
    "    if run_E_markers:\n",
    "        sc.pl.umap(adataHiVar, color=run_E_markers, save=\" - selected E markers.png\")\n",
    "        sc.pl.umap(adataHiVar, color=run_E_markers[0], save=\" - selected E marker.png\")\n",
    "    if run_M_markers:\n",
    "        sc.pl.umap(adataHiVar, color=run_M_markers, save=\" - selected M markers.png\")\n",
    "        sc.pl.umap(adataHiVar, color=run_M_markers[0], save=\" - selected M marker.png\")\n",
    "\n",
    "    return adataHiVar"
   ]
  },
  {
   "cell_type": "markdown",
   "metadata": {},
   "source": [
    "leiden"
   ]
  },
  {
   "cell_type": "code",
   "execution_count": null,
   "metadata": {},
   "outputs": [],
   "source": [
    "def leiden(adataHiVar, leiden_resolution, EMT_clusters_in_order):\n",
    "    sc.tl.leiden(adataHiVar, resolution=leiden_resolution, key_added='leiden')\n",
    "    sc.pl.umap(adataHiVar, color=[\"leiden\"]) # initializes uns['leiden_colors']\n",
    "    \n",
    "    # Annotate the labels of the clusters\n",
    "    if len(adataHiVar.obs['leiden'].unique()) <= len(EMT_clusters_in_order):\n",
    "        \n",
    "        # 4 clusters\n",
    "        if len(EMT_clusters_in_order) == 4:\n",
    "            leiden_labels = {str(EMT_clusters_in_order[0]): 'E',\n",
    "                             str(EMT_clusters_in_order[1]): 'I1',\n",
    "                             str(EMT_clusters_in_order[2]): 'I2',\n",
    "                             str(EMT_clusters_in_order[3]): 'M'}\n",
    "            adataHiVar.obs['leiden_label'] = adataHiVar.obs['leiden'].replace(to_replace=leiden_labels)\n",
    "            # category reordering from https://scanpy.discourse.group/t/how-to-order-legend-in-sc-pl-umap/411\n",
    "            adataHiVar.obs['leiden'].cat.reorder_categories(['0','1','2','3'], inplace=True)\n",
    "            adataHiVar.obs['leiden_label'].cat.reorder_categories(['E','I1','I2','M'], inplace=True)\n",
    "            # Colors of clusters\n",
    "            colors_EMT = ['#d62728', '#ff7f0e', '#279e68', '#1f77b4']\n",
    "            adataHiVar.uns['leiden_colors'] = colors_EMT\n",
    "            adataHiVar.uns['leiden_label_colors'] = colors_EMT\n",
    "        \n",
    "        # 3 clusters\n",
    "        elif len(EMT_clusters_in_order) == 3:\n",
    "            leiden_labels = {str(EMT_clusters_in_order[0]): 'E',\n",
    "                             str(EMT_clusters_in_order[1]): 'I',\n",
    "                             str(EMT_clusters_in_order[2]): 'M'}\n",
    "            adataHiVar.obs['leiden_label'] = adataHiVar.obs['leiden'].replace(to_replace=leiden_labels)\n",
    "            # category reordering from https://scanpy.discourse.group/t/how-to-order-legend-in-sc-pl-umap/411\n",
    "            adataHiVar.obs['leiden'].cat.reorder_categories(['0','1','2'], inplace=True)\n",
    "            adataHiVar.obs['leiden_label'].cat.reorder_categories(['E','I','M'], inplace=True)\n",
    "            # Colors of clusters\n",
    "            colors_EMT = ['#d62728', '#ff7f0e', '#1f77b4']\n",
    "            adataHiVar.uns['leiden_colors'] = colors_EMT\n",
    "            adataHiVar.uns['leiden_label_colors'] = colors_EMT\n",
    "        \n",
    "    sc.pl.umap(adataHiVar, color=[\"leiden_label\"], save=\" - clusters.png\")\n",
    "    return adataHiVar"
   ]
  },
  {
   "cell_type": "markdown",
   "metadata": {},
   "source": [
    "PAGA"
   ]
  },
  {
   "cell_type": "code",
   "execution_count": null,
   "metadata": {},
   "outputs": [],
   "source": [
    "# def PAGA(adataHiVar, paga_cutoff=0.1):\n",
    "#     sc.tl.paga(adataHiVar, groups='leiden_label')\n",
    "#     sc.pl.paga(adataHiVar, color=['leiden_label'], threshold=paga_cutoff, save=\" - clusters.png\")\n",
    "#     return adataHiVar"
   ]
  },
  {
   "cell_type": "markdown",
   "metadata": {},
   "source": [
    "leiden_marker_genes"
   ]
  },
  {
   "cell_type": "code",
   "execution_count": null,
   "metadata": {},
   "outputs": [],
   "source": [
    "def leiden_marker_genes(adataHiVar, dataset_name, run_name):\n",
    "    sc.tl.rank_genes_groups(adataHiVar, 'leiden_label', method='wilcoxon')\n",
    "    sc.pl.rank_genes_groups(adataHiVar, n_genes=25, sharey=False, save=\" - cluster markers.png\")\n",
    "    \n",
    "    # Heatmap of top marker genes\n",
    "    sc.tl.dendrogram(adataHiVar, groupby='leiden_label')\n",
    "    sc.pl.rank_genes_groups_heatmap(adataHiVar, n_genes=5, save=\" - leiden marker genes, top 5.png\")\n",
    "    sc.pl.rank_genes_groups_heatmap(adataHiVar, n_genes=20, save=\" - leiden marker genes, top 20.png\")\n",
    "    sc.pl.rank_genes_groups_heatmap(adataHiVar, n_genes=100, save=\" - leiden marker genes, top 100.png\")\n",
    "\n",
    "    # Output to CSV\n",
    "    pd.DataFrame(adataHiVar.uns['rank_genes_groups']['names']).head(10)\n",
    "    os.chdir(dataSumDir)\n",
    "    pd.DataFrame(adataHiVar.uns['rank_genes_groups']['names']).head(200).to_csv(\"Cluster Marker Genes - \"+run_name+\".csv\")\n",
    "\n",
    "    return adataHiVar"
   ]
  },
  {
   "cell_type": "markdown",
   "metadata": {},
   "source": [
    "leiden_marker_genes_highlight - highlighting just for visualization purposes"
   ]
  },
  {
   "cell_type": "code",
   "execution_count": null,
   "metadata": {},
   "outputs": [],
   "source": [
    "def leiden_marker_genes_highlight(run_name, df_normalized):\n",
    "    \n",
    "    # Import MSigDB genes, EMP Cook genes, and PanglaoDB E genes\n",
    "    os.chdir(emtMarkerDir)\n",
    "    df_normalized_genes = df_normalized.columns\n",
    "    \n",
    "    msigdbGenes = []\n",
    "    with open(msigdbMarkersCsv) as inputFile:\n",
    "        reader = csv.reader(inputFile)\n",
    "        # no header\n",
    "        for row in reader:\n",
    "            if row[0] in df_normalized_genes:\n",
    "                msigdbGenes.append(row[0])\n",
    "                \n",
    "    empCookGenes = []\n",
    "    with open(empCookMarkersCsv) as inputFile:\n",
    "        reader = csv.reader(inputFile)\n",
    "        # no header\n",
    "        for row in reader:\n",
    "            if row[0] in df_normalized_genes:\n",
    "                empCookGenes.append(row[0])\n",
    "                \n",
    "    panglaoGenes = []\n",
    "    with open(panglaoMarkersCsv) as inputFile:\n",
    "        reader = csv.reader(inputFile)\n",
    "        # no header\n",
    "        for row in reader:\n",
    "            if row[0] in df_normalized_genes:\n",
    "                panglaoGenes.append(row[0])\n",
    "                \n",
    "    \n",
    "    # Import leiden_marker_genes notebook\n",
    "    os.chdir(dataSumDir)\n",
    "    import openpyxl\n",
    "    wb = openpyxl.Workbook()\n",
    "    ws = wb.active\n",
    "    with open(\"Cluster Marker Genes - \"+run_name+\".csv\") as f:\n",
    "        reader = csv.reader(f)\n",
    "        for row in reader:\n",
    "            ws.append(row)\n",
    "\n",
    "    # Highlight E genes (red) and M genes (blue / purple)\n",
    "    for row in ws.iter_rows(min_col=2, min_row=2):\n",
    "        for cell in row:\n",
    "            if cell.value in panglaoGenes: # PanglaoDB = light red\n",
    "                cell.fill = openpyxl.styles.PatternFill(\"solid\", fgColor=\"D98686\")\n",
    "            elif cell.value in msigdbGenes: # MSigDB = light blue\n",
    "                cell.fill = openpyxl.styles.PatternFill(\"solid\", fgColor=\"ABC9DE\")\n",
    "            elif cell.value in empCookGenes: # EMP Cook = light purple\n",
    "                cell.fill = openpyxl.styles.PatternFill(\"solid\", fgColor=\"DABEED\")\n",
    "\n",
    "    wb.save(\"Cluster Marker Genes - \"+run_name+\", colored.xlsx\")\n",
    "    wb.close()\n",
    "\n",
    "    os.chdir(mainDir)"
   ]
  },
  {
   "cell_type": "markdown",
   "metadata": {},
   "source": [
    "cluster_DE_genes_export"
   ]
  },
  {
   "cell_type": "code",
   "execution_count": null,
   "metadata": {},
   "outputs": [],
   "source": [
    "def cluster_DE_genes_export(adataHiVar, dataset_name, run_name, EMT_clusters_in_order, currCluster=\"E\"):\n",
    "    \n",
    "    # Per cluster:\n",
    "    # -Find genes with adj-p-val <.01\n",
    "    # -Add p<.01 genes to summary csv \"_X State Marker Genes, All Conditions\"\n",
    "    # -Add all genes with log2FC to separate csv\n",
    "    \n",
    "    # Output\n",
    "    if currCluster == \"E\":\n",
    "        currClusterDir = epiStateDir\n",
    "        currClusterCsv = epiStateCsv\n",
    "        currClusterLabel = \"Epithelial\"\n",
    "    elif currCluster in [\"I\", \"I1\", \"I2\"]:\n",
    "        currClusterDir = intStateDir\n",
    "        currClusterCsv = intStateCsv\n",
    "        currClusterLabel = \"Intermediate\"\n",
    "    elif currCluster == \"M\":\n",
    "        currClusterDir = mesStateDir\n",
    "        currClusterCsv = mesStateCsv\n",
    "        currClusterLabel = \"Mesenchymal\"\n",
    "\n",
    "    # Find genes with adj-p-val<.01 in I cluster\n",
    "    num_DE_genes = len(adataHiVar.uns['rank_genes_groups'][\"pvals_adj\"][currCluster][adataHiVar.uns['rank_genes_groups'][\"pvals_adj\"][currCluster] < 0.01])\n",
    "    # Max value I genes = 500\n",
    "    if num_DE_genes > 500:\n",
    "        num_DE_genes = 500\n",
    "    DE_genes = adataHiVar.uns['rank_genes_groups'][\"names\"][currCluster][0:num_DE_genes]\n",
    "    \n",
    "    # Add DE genes to summary csv \"_Intermediate State Marker Genes, All Conditions\"\n",
    "    os.chdir(currClusterDir)\n",
    "    currStateDf = pd.read_csv(currClusterCsv)\n",
    "    currStateDf[dataset_name+\"_\"+run_name+\", \"+currCluster] = pd.Series(DE_genes)\n",
    "    DE_genes_allConditions = list(set(currStateDf.to_numpy().flatten().tolist()))\n",
    "    DE_genes_allConditions_minusCurr = list(set(DE_genes_allConditions).difference(set(DE_genes)))\n",
    "    currStateDf.to_csv(currClusterCsv, index=False)\n",
    "    \n",
    "    # logFC of gene in I vs all other clusters\n",
    "    print(os.getcwd())\n",
    "    all_genes_log2FC = pd.Series(data=adataHiVar.uns['rank_genes_groups']['logfoldchanges'][currCluster],\n",
    "                                 index=adataHiVar.uns['rank_genes_groups']['names'][currCluster])\n",
    "    all_genes_log2FC.to_csv(currClusterLabel+\" State Marker Genes - \"+dataset_name+\"_\"+run_name+\", \"+currCluster+\".csv\", header=False)"
   ]
  },
  {
   "cell_type": "markdown",
   "metadata": {},
   "source": [
    "UCell_export_import"
   ]
  },
  {
   "cell_type": "code",
   "execution_count": null,
   "metadata": {},
   "outputs": [],
   "source": [
    "def UCell_export_import(adataHiVar, run_name):\n",
    "    \n",
    "    # Export cell names with cluster labels\n",
    "    # UCell imports this and counts matrix\n",
    "    adataHiVar.obs[\"leiden_label\"].to_csv(dataSumDir+\"Cells with Cluster Labels - \"+run_name+\".csv\", header=False)\n",
    "    \n",
    "    # UCell is run in R\n",
    "    \n",
    "    # Import UCell scores\n",
    "    df_UCell = pd.read_csv(dataSumDir+\"Cells with Cluster Labels - \"+run_name+\", UCellScore.csv\", index_col=1).drop(labels=\"Unnamed: 0\", axis=1)\n",
    "    df_UCell = df_UCell.reindex(adataHiVar.obs.index)\n",
    "    adataHiVar.obs[\"UCell_EMTscore\"] = df_UCell[\"M_MSigDB_UCell\"]\n",
    "    sc.pl.umap(adataHiVar, color=[\"UCell_EMTscore\", \"leiden_label\"], save=\" - EMTscore UCell and leiden_label.png\")\n",
    "    sc.pl.umap(adataHiVar, color=[\"UCell_EMTscore\"], show=False, save=\" - EMTscore UCell.png\")\n",
    "\n",
    "    return adataHiVar"
   ]
  },
  {
   "cell_type": "markdown",
   "metadata": {},
   "source": [
    "saveClusteredData"
   ]
  },
  {
   "cell_type": "code",
   "execution_count": null,
   "metadata": {},
   "outputs": [],
   "source": [
    "def saveClusteredData(adataHiVar, run_name):\n",
    "    adataHiVar.write(dataDir+\"_h5ad/\"+run_name+\"/2-EMTscore_and_Clustered.h5ad\")"
   ]
  },
  {
   "cell_type": "markdown",
   "metadata": {},
   "source": [
    "### Part 3: PSEUDOTIME"
   ]
  },
  {
   "cell_type": "markdown",
   "metadata": {},
   "source": [
    "importClusteredData"
   ]
  },
  {
   "cell_type": "code",
   "execution_count": null,
   "metadata": {},
   "outputs": [],
   "source": [
    "def importClusteredData(dataset_name, run_name):\n",
    "    global pseudotimeRootDir\n",
    "    global figDir\n",
    "    global odeDir\n",
    "    \n",
    "    # Set directories\n",
    "    pseudotimeRootDir = mainDir+\"/\"+dataset_name+\"/Figures/3-Pseudotime/\"+run_name+\"/Root Node/\"\n",
    "    odeDir = mainDir+\"/ODE Model/Data/\"+dataset_name+\"/\"\n",
    "    figDir = mainDir+\"/\"+dataset_name+\"/Figures/3-Pseudotime/\"+run_name+\"/\"\n",
    "    sc.settings.figdir = figDir\n",
    "    \n",
    "    # Import data\n",
    "    adataHiVar = sc.read_h5ad(dataDir+\"_h5ad/\"+run_name+\"/2-EMTscore_and_Clustered.h5ad\")\n",
    "    return adataHiVar"
   ]
  },
  {
   "cell_type": "markdown",
   "metadata": {},
   "source": [
    "diffmap"
   ]
  },
  {
   "cell_type": "code",
   "execution_count": null,
   "metadata": {},
   "outputs": [],
   "source": [
    "def diffmap(adataHiVar, numNeighbors=10):\n",
    "    sc.tl.diffmap(adataHiVar)\n",
    "    sc.pp.neighbors(adataHiVar, numNeighbors, use_rep='X_diffmap')\n",
    "    return adataHiVar"
   ]
  },
  {
   "cell_type": "markdown",
   "metadata": {},
   "source": [
    "pseudotime_rootNodes"
   ]
  },
  {
   "cell_type": "code",
   "execution_count": null,
   "metadata": {},
   "outputs": [],
   "source": [
    "def pseudotime_rootNodes(adataHiVar, pseudotime_DC, pseudotime_DC_rootNodes, numRoots=5):\n",
    "    # Find best root nodes: highest values of diffmap DC\n",
    "    \n",
    "    # THESE INDEXES ARE CURRENTLY BUGGED IN scanpy 1.9.1 (but not 1.8.2) - (usually) indexes should start at 0 (bug) curr start at 1\n",
    "    # DC dimension \n",
    "    if pseudotime_DC == \"DC1\":\n",
    "        diffmap_dim = np.asarray([cell_dim[1] for cell_dim in adataHiVar.obsm['X_diffmap']])\n",
    "    elif pseudotime_DC == \"DC2\":\n",
    "        diffmap_dim = np.asarray([cell_dim[2] for cell_dim in adataHiVar.obsm['X_diffmap']])\n",
    "    elif pseudotime_DC == \"DC3\":\n",
    "        diffmap_dim = np.asarray([cell_dim[3] for cell_dim in adataHiVar.obsm['X_diffmap']])\n",
    "    \n",
    "    # DC1, most neg values or most pos values\n",
    "    if pseudotime_DC_rootNodes == \"low\":\n",
    "        root_nodes = diffmap_dim.argsort()[:numRoots] # lowest values\n",
    "    else:\n",
    "        root_nodes = diffmap_dim.argsort()[-numRoots:] # highest values\n",
    "    return root_nodes"
   ]
  },
  {
   "cell_type": "markdown",
   "metadata": {},
   "source": [
    "pseudotime_mean"
   ]
  },
  {
   "cell_type": "code",
   "execution_count": null,
   "metadata": {},
   "outputs": [],
   "source": [
    "def pseudotime_mean(adataHiVar, root_nodes):\n",
    "    \n",
    "    # Calculate pseudotime with N best root nodes\n",
    "    df_pseudotime = pd.DataFrame()\n",
    "    for curr_node in root_nodes:\n",
    "        adataHiVar.uns['iroot'] = curr_node # root cell assigned\n",
    "        sc.tl.dpt(adataHiVar) # calculate pseudotime using this root\n",
    "        df_pseudotime[\"Root Node \"+str(curr_node)] = adataHiVar.obs['dpt_pseudotime'].copy()\n",
    "    \n",
    "    # Calculate mean per cell\n",
    "    df_pseudotime[\"Mean\"] = df_pseudotime.mean(axis=1)\n",
    "    df_pseudotime[\"Cluster\"] = adataHiVar.obs['leiden_label'].copy()\n",
    "    adataHiVar.obs['dpt_pseudotime_mean'] = df_pseudotime[\"Mean\"].copy()\n",
    "    \n",
    "    # Figures\n",
    "    sc.settings.figdir = figDir\n",
    "    sc.pl.diffmap(adataHiVar, color=['dpt_pseudotime_mean'], save=\" - Pseudotime Mean.png\")\n",
    "    sc.pl.diffmap(adataHiVar, color=['dpt_pseudotime_mean'], components=['2,3'], save=\" - Pseudotime Mean (bug correction 22.08).png\")\n",
    "    sc.pl.diffmap(adataHiVar, color=['leiden_label'], save=\" - clusters.png\")\n",
    "    sc.pl.diffmap(adataHiVar, color=['leiden_label'], components=['1,2', '1,3', '2,3'], save=\" - clusters, 3 components.png\")\n",
    "    sc.pl.umap(adataHiVar, color=['dpt_pseudotime_mean'], save=\" - Pseudotime Mean.png\")\n",
    "    \n",
    "    return adataHiVar, df_pseudotime"
   ]
  },
  {
   "cell_type": "markdown",
   "metadata": {},
   "source": [
    "pseudotime_per_cluster"
   ]
  },
  {
   "cell_type": "code",
   "execution_count": null,
   "metadata": {},
   "outputs": [],
   "source": [
    "def pseudotime_per_cluster(adataHiVar, EMT_clusters_in_order, run_name, df_pseudotime, numBins=15):\n",
    "    \n",
    "    increments = np.linspace(0,1,numBins+1)\n",
    "    \n",
    "    # Clusters with pseudotime cell numbers\n",
    "    root_nodes_list = df_pseudotime.columns[:-2].tolist()\n",
    "    numIntervals_list = list(range(0,numBins))\n",
    "    if len(EMT_clusters_in_order) == 4:\n",
    "        df_pseudotimeClusters_mean = pd.DataFrame(columns=['E','I1','I2','M','Pseudotime Interval'])\n",
    "        df_pseudotimeClusters_E = pd.DataFrame(index=numIntervals_list, columns=root_nodes_list)\n",
    "        df_pseudotimeClusters_I1 = pd.DataFrame(index=numIntervals_list, columns=root_nodes_list)\n",
    "        df_pseudotimeClusters_I2 = pd.DataFrame(index=numIntervals_list, columns=root_nodes_list)\n",
    "        df_pseudotimeClusters_M = pd.DataFrame(index=numIntervals_list, columns=root_nodes_list)\n",
    "    if len(EMT_clusters_in_order) == 3:\n",
    "        df_pseudotimeClusters_mean = pd.DataFrame(columns=['E','I', 'M','Pseudotime Interval'])\n",
    "        df_pseudotimeClusters_E = pd.DataFrame(index=numIntervals_list, columns=root_nodes_list)\n",
    "        df_pseudotimeClusters_I = pd.DataFrame(index=numIntervals_list, columns=root_nodes_list)\n",
    "        df_pseudotimeClusters_M = pd.DataFrame(index=numIntervals_list, columns=root_nodes_list)\n",
    "    \n",
    "    # 4 separate matrices: E, I1, I2, M\n",
    "    # Rows: pseudotime intervals\n",
    "    # Columns: each of 10 root nodes\n",
    "    # Contain cell counts from calculating per each root node\n",
    "    \n",
    "    # 5th matrix: mean matrix\n",
    "    # Rows: pseudotime intervals\n",
    "    # Columns: E, I, M\n",
    "    # Contains cell counts from calculating each cell's mean pseudotime\n",
    "    \n",
    "    # Fill out matrices\n",
    "    if len(EMT_clusters_in_order) == 4:\n",
    "        # Mean matrix\n",
    "        for i in range(1,len(increments)):\n",
    "            df_currInterval = df_pseudotime[(df_pseudotime['Mean'] <= increments[i]) & (df_pseudotime['Mean'] > increments[i-1])]\n",
    "            counts_E = np.sum(df_currInterval[\"Cluster\"] == \"E\")\n",
    "            counts_I1 = np.sum(df_currInterval[\"Cluster\"] == \"I1\")\n",
    "            counts_I2 = np.sum(df_currInterval[\"Cluster\"] == \"I2\")\n",
    "            counts_M = np.sum(df_currInterval[\"Cluster\"] == \"M\")\n",
    "            df_pseudotimeClusters_mean = pd.concat([df_pseudotimeClusters_mean,\n",
    "                                                    pd.DataFrame(data={'E': [counts_E],\n",
    "                                                                       'I1': [counts_I1],\n",
    "                                                                       'I2': [counts_I2],\n",
    "                                                                       'M': [counts_M],\n",
    "                                                                       'Pseudotime Interval': [round(increments[i],3)]})],\n",
    "                                                   ignore_index=True)\n",
    "        # Root node E, I1, I2, M matrices\n",
    "        for idx, currRootNode in enumerate(df_pseudotime.columns[:-2].tolist()):\n",
    "            for i in range(1,len(increments)):\n",
    "                df_currInterval = df_pseudotime[(df_pseudotime[currRootNode] <= increments[i]) & (df_pseudotime[currRootNode] > increments[i-1])]\n",
    "                counts_E = np.sum(df_currInterval[\"Cluster\"] == \"E\")\n",
    "                counts_I1 = np.sum(df_currInterval[\"Cluster\"] == \"I1\")\n",
    "                counts_I2 = np.sum(df_currInterval[\"Cluster\"] == \"I2\")\n",
    "                counts_M = np.sum(df_currInterval[\"Cluster\"] == \"M\")\n",
    "                df_pseudotimeClusters_E.iat[i-1, idx] = counts_E\n",
    "                df_pseudotimeClusters_I1.iat[i-1, idx] = counts_I1\n",
    "                df_pseudotimeClusters_I2.iat[i-1, idx] = counts_I2\n",
    "                df_pseudotimeClusters_M.iat[i-1, idx] = counts_M\n",
    "        # Root node E, I1, I2, M matrices; standard deviation of # cells in each pseudotime interval\n",
    "        df_pseudotimeClusters_stdev = pd.DataFrame()\n",
    "        df_pseudotimeClusters_stdev[\"E\"] = df_pseudotimeClusters_E.std(axis=1)\n",
    "        df_pseudotimeClusters_stdev[\"I1\"] = df_pseudotimeClusters_I1.std(axis=1)\n",
    "        df_pseudotimeClusters_stdev[\"I2\"] = df_pseudotimeClusters_I2.std(axis=1)\n",
    "        df_pseudotimeClusters_stdev[\"M\"] = df_pseudotimeClusters_M.std(axis=1)\n",
    "    \n",
    "    elif len(EMT_clusters_in_order) == 3:\n",
    "        # Mean matrix\n",
    "        for i in range(1,len(increments)):\n",
    "            df_currInterval = df_pseudotime[(df_pseudotime['Mean'] <= increments[i]) & (df_pseudotime['Mean'] > increments[i-1])]\n",
    "            counts_E = np.sum(df_currInterval[\"Cluster\"] == \"E\")\n",
    "            counts_I = np.sum(df_currInterval[\"Cluster\"] == \"I\")\n",
    "            counts_M = np.sum(df_currInterval[\"Cluster\"] == \"M\")\n",
    "            df_pseudotimeClusters_mean = pd.concat([df_pseudotimeClusters_mean,\n",
    "                                                    pd.DataFrame(data={'E': [counts_E],\n",
    "                                                                       'I': [counts_I],\n",
    "                                                                       'M': [counts_M],\n",
    "                                                                       'Pseudotime Interval': [round(increments[i],3)]})],\n",
    "                                                   ignore_index=True)\n",
    "        # Root node E, I, M matrices\n",
    "        for idx, currRootNode in enumerate(df_pseudotime.columns[:-2].tolist()):\n",
    "            for i in range(1,len(increments)):\n",
    "                df_currInterval = df_pseudotime[(df_pseudotime[currRootNode] <= increments[i]) & (df_pseudotime[currRootNode] > increments[i-1])]\n",
    "                counts_E = np.sum(df_currInterval[\"Cluster\"] == \"E\")\n",
    "                counts_I = np.sum(df_currInterval[\"Cluster\"] == \"I\")\n",
    "                counts_M = np.sum(df_currInterval[\"Cluster\"] == \"M\")\n",
    "                df_pseudotimeClusters_E.iat[i-1, idx] = counts_E\n",
    "                df_pseudotimeClusters_I.iat[i-1, idx] = counts_I\n",
    "                df_pseudotimeClusters_M.iat[i-1, idx] = counts_M\n",
    "        # Root node E, I1, I2, M matrices; standard deviation of # cells in each pseudotime interval\n",
    "        df_pseudotimeClusters_stdev = pd.DataFrame()\n",
    "        df_pseudotimeClusters_stdev[\"E\"] = df_pseudotimeClusters_E.std(axis=1)\n",
    "        df_pseudotimeClusters_stdev[\"I\"] = df_pseudotimeClusters_I.std(axis=1)\n",
    "        df_pseudotimeClusters_stdev[\"M\"] = df_pseudotimeClusters_M.std(axis=1)\n",
    "            \n",
    "\n",
    "    # Plot figure with cell numbers\n",
    "    if len(EMT_clusters_in_order) == 4:\n",
    "        colors_EMT_rainbow = ['#d62728', '#ff7f0e', '#279e68', '#1f77b4'] #ROGB\n",
    "        y_plot = [\"E\",\"I1\",\"I2\",\"M\"]\n",
    "    elif len(EMT_clusters_in_order) == 3:\n",
    "        colors_EMT_rainbow = ['#d62728', '#ff7f0e', '#1f77b4'] #ROB\n",
    "        y_plot = [\"E\",\"I\",\"M\"]\n",
    "    \n",
    "    df_pseudotimeClusters_mean.reset_index().plot(x=\"Pseudotime Interval\", y=y_plot,\n",
    "                                                  yerr=[df_pseudotimeClusters_stdev[col] for col in df_pseudotimeClusters_stdev],\n",
    "                                                  kind=\"bar\", width=0.9, figsize=(8,6),\n",
    "                                                  color=colors_EMT_rainbow)\n",
    "    plt.ylim(bottom=0)\n",
    "    plt.title(\"Pseudotime Intervals with Cluster Counts\");\n",
    "    plt.ylabel(\"# Cells\");\n",
    "    plt.savefig(figDir+\"Pseudotime Intervals by Cluster - \"+str(numBins)+\" bins.png\")\n",
    "    plt.show()\n",
    "    \n",
    "    \n",
    "    \n",
    "    # ODE Data - proportions\n",
    "    \n",
    "    # Calculate by proportions per interval instead of numbers\n",
    "    df_pseudotimeClusters_proportions = df_pseudotimeClusters_mean.iloc[:,:-1].copy()\n",
    "    numCells_per_interval = df_pseudotimeClusters_proportions.sum(axis=1)\n",
    "    \n",
    "    df_pseudotimeClusters_proportions = df_pseudotimeClusters_proportions.div(numCells_per_interval.replace(0.0,1.0), axis=0)\n",
    "    df_pseudotimeClusters_proportions[\"Pseudotime Interval\"] = df_pseudotimeClusters_mean[\"Pseudotime Interval\"].copy()\n",
    "    \n",
    "    # Trim, starting from last bin with 100% E cells\n",
    "    model_start_bin = max(0, df_pseudotimeClusters_proportions.iloc[:,0][df_pseudotimeClusters_proportions.iloc[:,0] == 1.0].index[-1])\n",
    "    df_pseudotimeClusters_proportions = df_pseudotimeClusters_proportions[model_start_bin:]\n",
    "    \n",
    "    \n",
    "    # Plot figure with cell proportions\n",
    "    if len(EMT_clusters_in_order) == 4:\n",
    "        # Convert standard deviation # cells into proportions\n",
    "        df_pseudotimeClusters_stdev_proportions = pd.DataFrame()\n",
    "        df_pseudotimeClusters_stdev_proportions[\"E\"] = (df_pseudotimeClusters_stdev[\"E\"] / numCells_per_interval).fillna(0)[model_start_bin:]\n",
    "        df_pseudotimeClusters_stdev_proportions[\"I1\"] = (df_pseudotimeClusters_stdev[\"I1\"] / numCells_per_interval).fillna(0)[model_start_bin:]\n",
    "        df_pseudotimeClusters_stdev_proportions[\"I2\"] = (df_pseudotimeClusters_stdev[\"I2\"] / numCells_per_interval).fillna(0)[model_start_bin:]\n",
    "        df_pseudotimeClusters_stdev_proportions[\"M\"] = (df_pseudotimeClusters_stdev[\"M\"] / numCells_per_interval).fillna(0)[model_start_bin:]\n",
    "    \n",
    "        plt.clf()\n",
    "        plt.figure(figsize=(8, 5), dpi=150)\n",
    "        plt.errorbar(df_pseudotimeClusters_proportions[\"Pseudotime Interval\"], df_pseudotimeClusters_proportions[\"E\"],\n",
    "                     yerr = df_pseudotimeClusters_stdev_proportions[\"E\"], fmt='-o', color=\"C3\", lw=2)\n",
    "        plt.errorbar(df_pseudotimeClusters_proportions[\"Pseudotime Interval\"], df_pseudotimeClusters_proportions[\"I1\"],\n",
    "                     yerr = df_pseudotimeClusters_stdev_proportions[\"I1\"], fmt='-o', color=\"C1\", lw=2)\n",
    "        plt.errorbar(df_pseudotimeClusters_proportions[\"Pseudotime Interval\"], df_pseudotimeClusters_proportions[\"I2\"],\n",
    "                     yerr = df_pseudotimeClusters_stdev_proportions[\"I2\"], fmt='-o', color=\"C2\", lw=2)\n",
    "        plt.errorbar(df_pseudotimeClusters_proportions[\"Pseudotime Interval\"], df_pseudotimeClusters_proportions[\"M\"],\n",
    "                     yerr = df_pseudotimeClusters_stdev_proportions[\"M\"], fmt='-o', color=\"C0\", lw=2)\n",
    "        plt.legend([\"E\", \"I1\", \"I2\", \"M\"], loc=\"center left\")\n",
    "        plt.xlabel(\"Pseudotime\")\n",
    "        plt.ylabel(\"Cell Population Proportion\")\n",
    "        plt.title(\"Cell Population across Pseudotime\")\n",
    "        plt.ylim(0,1);\n",
    "        plt.savefig(figDir+\"Pseudotime Intervals by Cluster - \"+str(numBins)+\" bins, Cell Proportions.png\")\n",
    "        plt.show()\n",
    "        \n",
    "    elif len(EMT_clusters_in_order) == 3:\n",
    "        # Convert standard deviation # cells into proportions\n",
    "        df_pseudotimeClusters_stdev_proportions = pd.DataFrame()\n",
    "        df_pseudotimeClusters_stdev_proportions[\"E\"] = (df_pseudotimeClusters_stdev[\"E\"] / numCells_per_interval).fillna(0)[model_start_bin:]\n",
    "        df_pseudotimeClusters_stdev_proportions[\"I\"] = (df_pseudotimeClusters_stdev[\"I\"] / numCells_per_interval).fillna(0)[model_start_bin:]\n",
    "        df_pseudotimeClusters_stdev_proportions[\"M\"] = (df_pseudotimeClusters_stdev[\"M\"] / numCells_per_interval).fillna(0)[model_start_bin:]\n",
    "        \n",
    "        plt.clf()\n",
    "        plt.figure(figsize=(8, 5), dpi=150)\n",
    "        plt.errorbar(df_pseudotimeClusters_proportions[\"Pseudotime Interval\"], df_pseudotimeClusters_proportions[\"E\"],\n",
    "                     yerr = df_pseudotimeClusters_stdev_proportions[\"E\"], fmt='-o', color=\"C3\", lw=2)\n",
    "        plt.errorbar(df_pseudotimeClusters_proportions[\"Pseudotime Interval\"], df_pseudotimeClusters_proportions[\"I\"],\n",
    "                     yerr = df_pseudotimeClusters_stdev_proportions[\"I\"], fmt='-o', color=\"C1\", lw=2)\n",
    "        plt.errorbar(df_pseudotimeClusters_proportions[\"Pseudotime Interval\"], df_pseudotimeClusters_proportions[\"M\"],\n",
    "                     yerr = df_pseudotimeClusters_stdev_proportions[\"M\"], fmt='-o', color=\"C0\", lw=2)\n",
    "        plt.legend([\"E\", \"I\", \"M\"], loc=\"center left\")\n",
    "        plt.xlabel(\"Pseudotime\")\n",
    "        plt.ylabel(\"Cell Population Proportion\")\n",
    "        plt.title(\"Cell Population across Pseudotime\")\n",
    "        plt.ylim(0,1);\n",
    "        plt.savefig(figDir+\"Pseudotime Intervals by Cluster - \"+str(numBins)+\" bins, Cell Proportions.png\")\n",
    "        plt.show()\n",
    "    \n",
    "    \n",
    "    # Save ODE data\n",
    "    del df_pseudotimeClusters_proportions[\"Pseudotime Interval\"]\n",
    "    os.chdir(odeDir)\n",
    "    df_pseudotimeClusters_proportions.to_csv(run_name+\" - Pseudotime - \"+str(numBins)+\" bins, cropped.csv\")\n",
    "    df_pseudotimeClusters_stdev_proportions.to_csv(run_name+\" - Pseudotime - \"+str(numBins)+\" bins, cropped, stdev.csv\")"
   ]
  },
  {
   "cell_type": "markdown",
   "metadata": {},
   "source": [
    "savePseudotimeData"
   ]
  },
  {
   "cell_type": "code",
   "execution_count": null,
   "metadata": {},
   "outputs": [],
   "source": [
    "def savePseudotimeData(adataHiVar, run_name):\n",
    "    adataHiVar.write(dataDir+\"/_h5ad/\"+run_name+\"/3-Pseudotime.h5ad\")"
   ]
  },
  {
   "cell_type": "code",
   "execution_count": null,
   "metadata": {},
   "outputs": [],
   "source": []
  }
 ],
 "metadata": {
  "kernelspec": {
   "display_name": "Python 3 (ipykernel)",
   "language": "python",
   "name": "python3"
  },
  "language_info": {
   "codemirror_mode": {
    "name": "ipython",
    "version": 3
   },
   "file_extension": ".py",
   "mimetype": "text/x-python",
   "name": "python",
   "nbconvert_exporter": "python",
   "pygments_lexer": "ipython3",
   "version": "3.9.13"
  },
  "toc-autonumbering": false,
  "toc-showcode": false,
  "toc-showmarkdowntxt": true
 },
 "nbformat": 4,
 "nbformat_minor": 4
}
