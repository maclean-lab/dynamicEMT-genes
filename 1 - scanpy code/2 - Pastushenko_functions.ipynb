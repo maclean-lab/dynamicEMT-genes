{
 "cells": [
  {
   "cell_type": "code",
   "execution_count": 1,
   "metadata": {},
   "outputs": [],
   "source": [
    "import os\n",
    "currDir = os.getcwd()"
   ]
  },
  {
   "cell_type": "code",
   "execution_count": 2,
   "metadata": {},
   "outputs": [],
   "source": [
    "# Import universal dataset functions\n",
    "os.chdir(os.path.dirname(os.path.dirname(currDir))+\"/0-MultipleRuns/\")\n",
    "%run universal_dataset_functions.ipynb\n",
    "os.chdir(currDir)"
   ]
  },
  {
   "cell_type": "markdown",
   "metadata": {
    "tags": [],
    "toc-hr-collapsed": true
   },
   "source": [
    "### Part 1: IMPORT DATA, FILTERING, AND NORMALIZATION"
   ]
  },
  {
   "cell_type": "markdown",
   "metadata": {},
   "source": [
    "no functions"
   ]
  },
  {
   "cell_type": "markdown",
   "metadata": {
    "tags": []
   },
   "source": [
    "### Part 2: EMTSCORE AND CLUSTERING"
   ]
  },
  {
   "cell_type": "markdown",
   "metadata": {},
   "source": [
    "no functions"
   ]
  },
  {
   "cell_type": "markdown",
   "metadata": {
    "tags": []
   },
   "source": [
    "### Part 3: PSEUDOTIME"
   ]
  },
  {
   "cell_type": "code",
   "execution_count": 36,
   "metadata": {},
   "outputs": [],
   "source": [
    "def pseudotime_rootNodes(adataHiVar, pseudotime_DC, pseudotime_DC_rootNodes):\n",
    "    # Find best root nodes: highest values of diffmap DC\n",
    "    \n",
    "    # DC dimension \n",
    "    if pseudotime_DC == \"DC1\":\n",
    "        diffmap_dim = np.asarray([cell_dim[1] for cell_dim in adataHiVar.obsm['X_diffmap']])\n",
    "    elif pseudotime_DC == \"DC2\":\n",
    "        diffmap_dim = np.asarray([cell_dim[2] for cell_dim in adataHiVar.obsm['X_diffmap']])\n",
    "    elif pseudotime_DC == \"DC3\":\n",
    "        diffmap_dim = np.asarray([cell_dim[3] for cell_dim in adataHiVar.obsm['X_diffmap']])\n",
    "    \n",
    "    ### PASTUSHENKO\n",
    "    # use 10 cells as root\n",
    "    # DC1, most neg values or most pos values\n",
    "    if pseudotime_DC_rootNodes == \"low\":\n",
    "        root_nodes = diffmap_dim.argsort()[:10] # lowest values\n",
    "    else:\n",
    "        root_nodes = diffmap_dim.argsort()[-10:] # highest values\n",
    "        \n",
    "    return root_nodes"
   ]
  }
 ],
 "metadata": {
  "kernelspec": {
   "display_name": "Python 3 (ipykernel)",
   "language": "python",
   "name": "python3"
  },
  "language_info": {
   "codemirror_mode": {
    "name": "ipython",
    "version": 3
   },
   "file_extension": ".py",
   "mimetype": "text/x-python",
   "name": "python",
   "nbconvert_exporter": "python",
   "pygments_lexer": "ipython3",
   "version": "3.9.13"
  }
 },
 "nbformat": 4,
 "nbformat_minor": 4
}
