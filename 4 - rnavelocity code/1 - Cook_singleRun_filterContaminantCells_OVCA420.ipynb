{
 "cells": [
  {
   "cell_type": "markdown",
   "metadata": {},
   "source": [
    "## scRNAseq: Epithelial-Mesenchymal Transition in Cancer\n",
    "Dataset from: [Cook and Vanderhyden 2020](https://www.nature.com/articles/s41467-020-16066-2)"
   ]
  },
  {
   "cell_type": "markdown",
   "metadata": {},
   "source": [
    "Removing contaminant cells in OVCA420 as noted in Cook et al 2020 github"
   ]
  },
  {
   "cell_type": "code",
   "execution_count": null,
   "metadata": {},
   "outputs": [],
   "source": [
    "import os\n",
    "currDir = os.getcwd()\n",
    "origDir = currDir"
   ]
  },
  {
   "cell_type": "code",
   "execution_count": null,
   "metadata": {},
   "outputs": [],
   "source": [
    "currDir"
   ]
  },
  {
   "cell_type": "code",
   "execution_count": null,
   "metadata": {},
   "outputs": [],
   "source": [
    "all_runs = [\"OVCA420-EGF\", \"OVCA420-TGFB1\", \"OVCA420-TNF\"]\n",
    "\n",
    "run_int = 0\n",
    "run_name = all_runs[run_int]\n",
    "dataset_name = \"3-Cook\""
   ]
  },
  {
   "cell_type": "code",
   "execution_count": null,
   "metadata": {},
   "outputs": [],
   "source": [
    "file_name = run_name\n",
    "run_name"
   ]
  },
  {
   "cell_type": "markdown",
   "metadata": {},
   "source": [
    "## Run Settings"
   ]
  },
  {
   "cell_type": "markdown",
   "metadata": {},
   "source": [
    "Import Cook functions"
   ]
  },
  {
   "cell_type": "code",
   "execution_count": null,
   "metadata": {},
   "outputs": [],
   "source": [
    "cookFunctionDir = os.path.dirname(os.path.dirname(currDir))+\"/3-Cook/Code/\"\n",
    "os.chdir(cookFunctionDir)\n",
    "%run Cook_functions.ipynb\n",
    "setDirectories(dataset_name, run_name)\n",
    "\n",
    "sc.settings.set_figure_params(dpi=150, figsize=[5,5])\n",
    "plt.rcParams['figure.figsize']=(5,5)\n",
    "\n",
    "mainDir = currDir\n",
    "dataDir = os.path.dirname(os.path.dirname(os.path.dirname(mainDir)))+\"/RNAvelocity-datafiles/\""
   ]
  },
  {
   "cell_type": "markdown",
   "metadata": {},
   "source": [
    "Settings for current run"
   ]
  },
  {
   "cell_type": "code",
   "execution_count": null,
   "metadata": {
    "tags": []
   },
   "outputs": [],
   "source": [
    "settings_OVCA420 = [0.004, 0.48, [0,1,2]]\n",
    "settings = [settings_OVCA420, settings_OVCA420, settings_OVCA420]\n",
    "\n",
    "currSetting = settings[run_int]\n",
    "mito_cutoff = currSetting[0]\n",
    "leiden_resolution = currSetting[1]\n",
    "EMT_clusters_in_order = currSetting[2]"
   ]
  },
  {
   "cell_type": "markdown",
   "metadata": {},
   "source": [
    "## Part 1: IMPORT DATA, FILTERING, AND NORMALIZATION"
   ]
  },
  {
   "cell_type": "code",
   "execution_count": null,
   "metadata": {},
   "outputs": [],
   "source": [
    "# Figure directories\n",
    "figDir_base = os.path.dirname(os.path.dirname(currDir))+\"/3-Cook-realigned/Figures/\"\n",
    "figDir = figDir_base + \"1-Filtering and Normalization/\"+run_name+\"/\"\n",
    "sc.settings.figdir = figDir"
   ]
  },
  {
   "cell_type": "markdown",
   "metadata": {},
   "source": [
    "Import raw data; only keep forward timepoints"
   ]
  },
  {
   "cell_type": "code",
   "execution_count": null,
   "metadata": {},
   "outputs": [],
   "source": [
    "adata = sc.read_h5ad(dataDir+\"_h5ad/\"+run_name+\"/0-Demultiplexed.h5ad\")\n",
    "\n",
    "# Only keep forward timepoints\n",
    "adata = adata[[x in ['#0_0d', '#1_8h', '#2_1d', '#3_3d', '#4_7d'] for x in adata.obs[\"Timepoint\"]]].copy()\n",
    "labelDict = {'#0_0d': '0) 0d',\n",
    "             '#1_8h': '1) 8h',\n",
    "             '#2_1d': '2) 1d',\n",
    "             '#3_3d': '3) 3d',\n",
    "             '#4_7d': '4) 7d'}\n",
    "adata.obs[\"Timepoint\"] = adata.obs[\"Timepoint\"].replace(to_replace=labelDict)"
   ]
  },
  {
   "cell_type": "code",
   "execution_count": null,
   "metadata": {},
   "outputs": [],
   "source": [
    "adata"
   ]
  },
  {
   "cell_type": "markdown",
   "metadata": {
    "tags": []
   },
   "source": [
    "### Filtering"
   ]
  },
  {
   "cell_type": "markdown",
   "metadata": {},
   "source": [
    "Note: lots of basic filtering has already been done \\\n",
    "during demultiplexing & categorizing step (MULTIseq)"
   ]
  },
  {
   "cell_type": "code",
   "execution_count": null,
   "metadata": {},
   "outputs": [],
   "source": [
    "# ERCC, filter by cell number and gene count\n",
    "adata = filterData(adata)"
   ]
  },
  {
   "cell_type": "code",
   "execution_count": null,
   "metadata": {
    "scrolled": true,
    "tags": []
   },
   "outputs": [],
   "source": [
    "# Gene metric plots\n",
    "sc.pl.violin(adata, ['n_genes', 'total_counts', 'pct_counts_mito_gene'], jitter=0.4, multi_panel=True, save=\" - n_genes, n_counts, perc_mito.png\")\n",
    "sc.pl.scatter(adata, x='total_counts', y='n_genes', save=\" - n_genes vs total_counts.png\")\n",
    "sc.pl.scatter(adata, x='total_counts', y='pct_counts_mito_gene', save=\" - pct_counts_mito_gene vs total_counts.png\")\n",
    "sc.pl.scatter(adata, x='total_counts', y='pct_counts_ribo_gene', save=\" - pct_counts_ribo_gene vs n_counts.png\")\n",
    "sc.pl.scatter(adata, x='pct_counts_ribo_gene', y='pct_counts_mito_gene', save=\" - pct_counts_mito_gene vs pct_counts_ribo_gene.png\")"
   ]
  },
  {
   "cell_type": "code",
   "execution_count": null,
   "metadata": {},
   "outputs": [],
   "source": [
    "adata.obs[\"Timepoint\"].value_counts()"
   ]
  },
  {
   "cell_type": "markdown",
   "metadata": {},
   "source": [
    "### Normalization and HiVar"
   ]
  },
  {
   "cell_type": "code",
   "execution_count": null,
   "metadata": {},
   "outputs": [],
   "source": [
    "# Total-count normalize to 10,000 counts per cell, natural log\n",
    "sc.pp.normalize_total(adata, target_sum=1e4)\n",
    "# Set raw\n",
    "adata.raw = adata\n",
    "adata.write(dataDir+\"_h5ad/\"+run_name+\"/1-Filtered_and_Normalized_allGenes.h5ad\")\n",
    "\n",
    "# Log and scale data\n",
    "sc.pp.log1p(adata)\n",
    "adata.raw = adata\n",
    "# Add cell cycle score\n",
    "cellCycle_g1S_genes, cellCycle_g2M_genes = cell_cycle_genes(adata)\n",
    "adata.X = adata.X.astype('<f8')\n",
    "sc.tl.score_genes_cell_cycle(adata, s_genes=cellCycle_g1S_genes, g2m_genes=cellCycle_g2M_genes, use_raw=False)\n",
    "adata.X = adata.X.astype('<f4')\n",
    "\n",
    "# Regress out batch effects with Combat\n",
    "sc.pp.combat(adata, key=\"Mix\")\n",
    "\n",
    "# Highly variable genes (note: expects log data)\n",
    "sc.pp.highly_variable_genes(adata)\n",
    "adataHiVar = adata[:, adata.var.highly_variable].copy()\n",
    "\n",
    "# Regress out effects of total counts per cell and percent mito AND cell cycle\n",
    "sc.pp.regress_out(adataHiVar, ['total_counts','pct_counts_mito_gene', 'S_score', 'G2M_score'])\n",
    "sc.pp.scale(adataHiVar, max_value=10)\n",
    "adataHiVar.write(dataDir+\"_h5ad/\"+run_name+\"/1-Filtered_and_Normalized_hiVarGenes.h5ad\")"
   ]
  },
  {
   "cell_type": "markdown",
   "metadata": {
    "tags": []
   },
   "source": [
    "## Part 2: CLUSTERING"
   ]
  },
  {
   "cell_type": "code",
   "execution_count": null,
   "metadata": {},
   "outputs": [],
   "source": [
    "# Figure directories\n",
    "sc.settings.figdir = figDir_base + \"/2-Clustering/\"+run_name\n",
    "dataSumDir = \"/Users/meilumcd/Desktop/EMT-in-cancer/3-Cook-realigned/DataSummaries/2-Clustering/\""
   ]
  },
  {
   "cell_type": "code",
   "execution_count": null,
   "metadata": {},
   "outputs": [],
   "source": [
    "# Normalized genes only (for downstream processing)\n",
    "adata_normalized = sc.read_h5ad(dataDir+\"_h5ad/\"+run_name+\"/1-Filtered_and_Normalized_allGenes.h5ad\")\n",
    "# pandas df with uppercase genes\n",
    "df_normalized = adata_normalized.to_df()\n",
    "df_normalized.columns = map(str.upper, df_normalized.columns)"
   ]
  },
  {
   "cell_type": "code",
   "execution_count": null,
   "metadata": {
    "scrolled": true,
    "tags": []
   },
   "outputs": [],
   "source": [
    "# PCA calculation\n",
    "sc.tl.pca(adataHiVar, svd_solver='arpack')\n",
    "sc.pl.pca(adataHiVar, color=[\"total_counts\",\"n_genes\",\"pct_counts_mito_gene\",\"pct_counts_ribo_gene\"], save=\" - total_counts, n_genes, perc_mito, perc_ribo.png\")\n",
    "sc.pl.pca(adataHiVar, color=[\"Timepoint\"], save=\" - Timepoints.png\")\n",
    "\n",
    "# UMAP calculation\n",
    "sc.pp.neighbors(adataHiVar)\n",
    "sc.tl.umap(adataHiVar)"
   ]
  },
  {
   "cell_type": "code",
   "execution_count": null,
   "metadata": {
    "scrolled": true,
    "tags": []
   },
   "outputs": [],
   "source": [
    "sc.pl.umap(adataHiVar, color=[\"total_counts\",\"n_genes\"], save=\" - total_counts, n_genes.png\")\n",
    "sc.pl.umap(adataHiVar, color=[\"pct_counts_mito_gene\",\"pct_counts_ribo_gene\",\"phase\"], save=\" - perc_mito, perc_ribo, cell cycle.png\")\n",
    "sc.pl.umap(adataHiVar, color=[\"Mix\"], save=\" - batch.png\")\n",
    "sc.pl.umap(adataHiVar, color=[\"Timepoint\"], palette=\"coolwarm_r\", save=\" - Timepoint.png\")"
   ]
  },
  {
   "cell_type": "code",
   "execution_count": null,
   "metadata": {
    "scrolled": true,
    "tags": []
   },
   "outputs": [],
   "source": [
    "# Cluster the two cell lines\n",
    "sc.tl.leiden(adataHiVar, resolution=0.1)\n",
    "sc.pl.umap(adataHiVar, color=\"leiden\")"
   ]
  },
  {
   "cell_type": "code",
   "execution_count": null,
   "metadata": {},
   "outputs": [],
   "source": [
    "# Only keep OVCA420 cells\n",
    "OVCA420_cells = adataHiVar[adataHiVar.obs.leiden == \"0\"].obs.index.to_series()\n",
    "\n",
    "import csv\n",
    "os.chdir(origDir)\n",
    "OVCA420_cells.to_csv(\"_withoutContaminantCellLine_\"+run_name+\".csv\", index=False)"
   ]
  },
  {
   "cell_type": "code",
   "execution_count": null,
   "metadata": {},
   "outputs": [],
   "source": []
  }
 ],
 "metadata": {
  "kernelspec": {
   "display_name": "Python 3 (ipykernel)",
   "language": "python",
   "name": "python3"
  },
  "language_info": {
   "codemirror_mode": {
    "name": "ipython",
    "version": 3
   },
   "file_extension": ".py",
   "mimetype": "text/x-python",
   "name": "python",
   "nbconvert_exporter": "python",
   "pygments_lexer": "ipython3",
   "version": "3.9.13"
  }
 },
 "nbformat": 4,
 "nbformat_minor": 4
}
