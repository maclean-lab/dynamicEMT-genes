{
 "cells": [
  {
   "cell_type": "markdown",
   "metadata": {},
   "source": [
    "## scRNAseq: Epithelial-Mesenchymal Transition in Cancer\n",
    "Dataset from: [Cook and Vanderhyden 2020](https://www.nature.com/articles/s41467-020-16066-2)"
   ]
  },
  {
   "cell_type": "markdown",
   "metadata": {},
   "source": [
    "Re-aligned and de-multiplexed data, with unspliced RNA for RNAvelocity"
   ]
  },
  {
   "cell_type": "code",
   "execution_count": null,
   "metadata": {},
   "outputs": [],
   "source": [
    "import os\n",
    "currDir = os.getcwd()\n",
    "settingsDir = currDir"
   ]
  },
  {
   "cell_type": "code",
   "execution_count": null,
   "metadata": {},
   "outputs": [],
   "source": [
    "all_runs = [\"A549-TGFB1\",\n",
    "            \"DU145-TGFB1\",\n",
    "            \"OVCA420-EGF\", \"OVCA420-TGFB1\", \"OVCA420-TNF\"]\n",
    "\n",
    "run_int = 0\n",
    "run_name = all_runs[run_int]\n",
    "dataset_name = \"3-Cook\""
   ]
  },
  {
   "cell_type": "code",
   "execution_count": null,
   "metadata": {},
   "outputs": [],
   "source": [
    "settingsDir"
   ]
  },
  {
   "cell_type": "code",
   "execution_count": null,
   "metadata": {},
   "outputs": [],
   "source": [
    "file_name = run_name\n",
    "run_name"
   ]
  },
  {
   "cell_type": "markdown",
   "metadata": {
    "tags": []
   },
   "source": [
    "## Run Settings"
   ]
  },
  {
   "cell_type": "markdown",
   "metadata": {},
   "source": [
    "Import Cook functions"
   ]
  },
  {
   "cell_type": "code",
   "execution_count": null,
   "metadata": {},
   "outputs": [],
   "source": [
    "cookFunctionDir = os.path.dirname(os.path.dirname(currDir))+\"/3-Cook/Code/\"\n",
    "os.chdir(cookFunctionDir)\n",
    "%run Cook_functions.ipynb\n",
    "\n",
    "sc.settings.set_figure_params(dpi=150, figsize=[5,5])\n",
    "plt.rcParams['figure.figsize']=(5,5)\n",
    "\n",
    "# Directories\n",
    "dataDir = os.path.dirname(os.path.dirname(os.path.dirname(os.path.dirname(cookFunctionDir))))+\"/RNAvelocity-datafiles/\"\n",
    "dataDir_changeTo = os.path.dirname(os.path.dirname(os.path.dirname(os.path.dirname(cookFunctionDir))))+\"/EMT-in-cancer-datafiles/3-Cook-realigned/\"\n",
    "figDir_base = os.path.dirname(os.path.dirname(settingsDir))+\"/3-Cook-realigned/Figures/\"\n",
    "\n",
    "settingsCsv = \"Cook-realigned_run_settings.xlsx\""
   ]
  },
  {
   "cell_type": "markdown",
   "metadata": {},
   "source": [
    "Settings for current run"
   ]
  },
  {
   "cell_type": "code",
   "execution_count": null,
   "metadata": {
    "tags": []
   },
   "outputs": [],
   "source": [
    "df = pd.read_excel(settingsDir+\"/\"+settingsCsv, engine='openpyxl')\n",
    "run_settings = df.loc[df['run_name'] == run_name].squeeze()\n",
    "\n",
    "total_counts_cutoff = run_settings[\"total_counts_cutoff\"]\n",
    "mito_cutoff = run_settings[\"mito_cutoff\"]\n",
    "ribo_cutoff = run_settings[\"ribo_cutoff\"]\n",
    "leiden_resolution = run_settings[\"leiden_resolution\"]\n",
    "EMT_clusters_in_order = run_settings[\"EMT_clusters_in_order\"].split(\",\")\n",
    "EMT_clusters_in_order = [int(i) for i in EMT_clusters_in_order]\n",
    "pseudotime_DC = run_settings[\"pseudotime_DC\"]\n",
    "pseudotime_DC_rootNodes = run_settings[\"pseudotime_DC_rootNodes\"]\n",
    "run_E_markers = run_settings[\"run_E_markers\"].split(\", \") if str(run_settings[\"run_E_markers\"]) != \"nan\" else \"\"\n",
    "run_M_markers = run_settings[\"run_M_markers\"].split(\", \") if str(run_settings[\"run_M_markers\"]) != \"nan\" else \"\""
   ]
  },
  {
   "cell_type": "markdown",
   "metadata": {},
   "source": [
    "## Part 1: IMPORT DATA, FILTERING, AND NORMALIZATION"
   ]
  },
  {
   "cell_type": "code",
   "execution_count": null,
   "metadata": {},
   "outputs": [],
   "source": [
    "# Figure directories\n",
    "figDir = figDir_base + \"1-Filtering and Normalization/\"+run_name+\"/\"\n",
    "sc.settings.figdir = figDir"
   ]
  },
  {
   "cell_type": "markdown",
   "metadata": {},
   "source": [
    "Import raw data; only keep forward timepoints"
   ]
  },
  {
   "cell_type": "code",
   "execution_count": null,
   "metadata": {},
   "outputs": [],
   "source": [
    "adata = sc.read_h5ad(dataDir+\"_h5ad/\"+run_name+\"/0-Demultiplexed.h5ad\")\n",
    "\n",
    "# Only keep forward timepoints\n",
    "adata = adata[[x in ['#0_0d', '#1_8h', '#2_1d', '#3_3d', '#4_7d'] for x in adata.obs[\"Timepoint\"]]].copy()\n",
    "labelDict = {'#0_0d': '0) 0d',\n",
    "             '#1_8h': '1) 8h',\n",
    "             '#2_1d': '2) 1d',\n",
    "             '#3_3d': '3) 3d',\n",
    "             '#4_7d': '4) 7d'}\n",
    "adata.obs[\"Timepoint\"] = adata.obs[\"Timepoint\"].replace(to_replace=labelDict)"
   ]
  },
  {
   "cell_type": "code",
   "execution_count": null,
   "metadata": {},
   "outputs": [],
   "source": [
    "# Reset datadir to save in EMT-in-cancer-datafiles\n",
    "dataDir = dataDir_changeTo"
   ]
  },
  {
   "cell_type": "code",
   "execution_count": null,
   "metadata": {},
   "outputs": [],
   "source": [
    "# For OVCA420 cell lines specifically, they were contaminated with another cell line\n",
    "# Remove the other cell line - cells already selected\n",
    "\n",
    "if \"OVCA420\" in run_name:\n",
    "    os.chdir(settingsDir)\n",
    "    cells_to_keep = pd.read_csv(\"_withoutContaminantCellLine_\"+run_name+\".csv\")[\"0\"].to_list()\n",
    "    cells_to_keep_bool = [True if currGene in cells_to_keep else False for currGene in adata.obs.index]\n",
    "    adata = adata[cells_to_keep_bool].copy()"
   ]
  },
  {
   "cell_type": "code",
   "execution_count": null,
   "metadata": {},
   "outputs": [],
   "source": [
    "adata"
   ]
  },
  {
   "cell_type": "markdown",
   "metadata": {
    "tags": []
   },
   "source": [
    "### Filtering"
   ]
  },
  {
   "cell_type": "markdown",
   "metadata": {},
   "source": [
    "Note: lots of basic filtering has already been done \\\n",
    "during demultiplexing & categorizing step"
   ]
  },
  {
   "cell_type": "code",
   "execution_count": null,
   "metadata": {},
   "outputs": [],
   "source": [
    "# ERCC, filter by cell number and gene count\n",
    "adata = filterData(adata)"
   ]
  },
  {
   "cell_type": "code",
   "execution_count": null,
   "metadata": {
    "scrolled": true,
    "tags": []
   },
   "outputs": [],
   "source": [
    "# Gene metric plots\n",
    "sc.pl.violin(adata, ['n_genes', 'total_counts', 'pct_counts_mito_gene'], jitter=0.4, multi_panel=True, save=\" - n_genes, n_counts, perc_mito.png\")\n",
    "sc.pl.scatter(adata, x='total_counts', y='pct_counts_mito_gene', save=\" - pct_counts_mito_gene vs total_counts.png\")\n",
    "sc.pl.scatter(adata, x='total_counts', y='pct_counts_ribo_gene', save=\" - pct_counts_ribo_gene vs n_counts.png\")\n",
    "sc.pl.scatter(adata, x='pct_counts_ribo_gene', y='pct_counts_mito_gene', save=\" - pct_counts_mito_gene vs pct_counts_ribo_gene.png\")"
   ]
  },
  {
   "cell_type": "code",
   "execution_count": null,
   "metadata": {},
   "outputs": [],
   "source": [
    "adata.obs[\"Timepoint\"].value_counts()"
   ]
  },
  {
   "cell_type": "code",
   "execution_count": null,
   "metadata": {},
   "outputs": [],
   "source": [
    "saveFilteredData(adata, run_name)"
   ]
  },
  {
   "cell_type": "markdown",
   "metadata": {},
   "source": [
    "### Normalization and HiVar"
   ]
  },
  {
   "cell_type": "code",
   "execution_count": null,
   "metadata": {},
   "outputs": [],
   "source": [
    "# Total-count normalize to 10,000 counts per cell, natural log\n",
    "sc.pp.normalize_total(adata, target_sum=1e4)\n",
    "# Set raw\n",
    "adata.raw = adata\n",
    "adata.write(dataDir+\"_h5ad/\"+run_name+\"/1-Filtered_and_Normalized_allGenes.h5ad\")\n",
    "\n",
    "# Log and scale data\n",
    "sc.pp.log1p(adata)\n",
    "adata.raw = adata\n",
    "# Add cell cycle score\n",
    "cellCycle_g1S_genes, cellCycle_g2M_genes = cell_cycle_genes(adata)\n",
    "adata.X = adata.X.astype('<f8')\n",
    "sc.tl.score_genes_cell_cycle(adata, s_genes=cellCycle_g1S_genes, g2m_genes=cellCycle_g2M_genes, use_raw=False)\n",
    "adata.X = adata.X.astype('<f4')\n",
    "\n",
    "# COOK UNIQUE\n",
    "# Regress out batch effects with Combat\n",
    "sc.pp.combat(adata, key=\"Mix\")\n",
    "\n",
    "# Highly variable genes (note: expects log data)\n",
    "sc.pp.highly_variable_genes(adata)\n",
    "adataHiVar = adata[:, adata.var.highly_variable].copy()\n",
    "\n",
    "# Regress out effects of total counts per cell and percent mito AND cell cycle\n",
    "sc.pp.regress_out(adataHiVar, ['total_counts','pct_counts_mito_gene', 'S_score', 'G2M_score'])\n",
    "sc.pp.scale(adataHiVar, max_value=10)\n",
    "adataHiVar.write(dataDir+\"_h5ad/\"+run_name+\"/1-Filtered_and_Normalized_hiVarGenes.h5ad\")"
   ]
  },
  {
   "cell_type": "markdown",
   "metadata": {
    "tags": []
   },
   "source": [
    "## Part 2: CLUSTERING"
   ]
  },
  {
   "cell_type": "code",
   "execution_count": null,
   "metadata": {},
   "outputs": [],
   "source": [
    "# Figure directories\n",
    "figDir = figDir_base + \"/2-Clustering/\"+run_name\n",
    "sc.settings.figdir = figDir\n",
    "dataSumDir = \"/Users/meilumcd/Desktop/EMT-in-cancer/3-Cook-realigned/DataSummaries/2-Clustering/\""
   ]
  },
  {
   "cell_type": "code",
   "execution_count": null,
   "metadata": {},
   "outputs": [],
   "source": [
    "# Normalized genes only (for this code, necessary to pass to 1 function later)\n",
    "adata_normalized = sc.read_h5ad(dataDir+\"_h5ad/\"+run_name+\"/1-Filtered_and_Normalized_allGenes.h5ad\")\n",
    "# pandas df with uppercase genes\n",
    "df_normalized = adata_normalized.to_df()\n",
    "df_normalized.columns = map(str.upper, df_normalized.columns)"
   ]
  },
  {
   "cell_type": "code",
   "execution_count": null,
   "metadata": {
    "scrolled": true,
    "tags": []
   },
   "outputs": [],
   "source": [
    "# PCA calculation\n",
    "sc.tl.pca(adataHiVar, svd_solver='arpack')\n",
    "sc.pl.pca(adataHiVar, color=[\"total_counts\",\"n_genes\",\"pct_counts_mito_gene\",\"pct_counts_ribo_gene\"], save=\" - total_counts, n_genes, perc_mito, perc_ribo.png\")\n",
    "sc.pl.pca(adataHiVar, color=[\"Timepoint\"], save=\" - Timepoints.png\")\n",
    "# sc.pl.pca_variance_ratio(adataHiVar, log=True)\n",
    "\n",
    "# UMAP calculation\n",
    "sc.pp.neighbors(adataHiVar)\n",
    "sc.tl.umap(adataHiVar)"
   ]
  },
  {
   "cell_type": "code",
   "execution_count": null,
   "metadata": {
    "scrolled": true,
    "tags": []
   },
   "outputs": [],
   "source": [
    "sc.pl.umap(adataHiVar, color=[\"total_counts\",\"n_genes\"], save=\" - total_counts, n_genes.png\")\n",
    "sc.pl.umap(adataHiVar, color=[\"pct_counts_mito_gene\",\"pct_counts_ribo_gene\",\"phase\"], save=\" - perc_mito, perc_ribo, cell cycle.png\")\n",
    "sc.pl.umap(adataHiVar, color=[\"Mix\"], save=\" - batch.png\")\n",
    "sc.pl.umap(adataHiVar, color=[\"Timepoint\"], palette=\"coolwarm_r\", save=\" - Timepoint.png\")"
   ]
  },
  {
   "cell_type": "code",
   "execution_count": null,
   "metadata": {
    "scrolled": true,
    "tags": []
   },
   "outputs": [],
   "source": [
    "adataHiVar = leiden(adataHiVar, leiden_resolution, EMT_clusters_in_order, run_name)\n",
    "adataHiVar = leiden_marker_genes(adataHiVar, dataset_name, run_name)\n",
    "leiden_marker_genes_highlight(run_name, df_normalized)"
   ]
  },
  {
   "cell_type": "code",
   "execution_count": null,
   "metadata": {},
   "outputs": [],
   "source": [
    "saveClusteredData(adataHiVar, run_name)"
   ]
  },
  {
   "cell_type": "markdown",
   "metadata": {},
   "source": [
    "## Part 3: TRAJECTORY INFERENCE"
   ]
  },
  {
   "cell_type": "code",
   "execution_count": null,
   "metadata": {},
   "outputs": [],
   "source": [
    "# figDir\n",
    "figDir = figDir_base + \"3-Trajectory Inference/\"+run_name+\"/\"\n",
    "sc.settings.figdir = figDir"
   ]
  },
  {
   "cell_type": "markdown",
   "metadata": {},
   "source": [
    "Calculate pseudotime"
   ]
  },
  {
   "cell_type": "code",
   "execution_count": null,
   "metadata": {},
   "outputs": [],
   "source": [
    "adataHiVar = diffmap(adataHiVar)\n",
    "sc.pl.diffmap(adataHiVar, color=[\"leiden_label\",\"TGFBI\"], components=['2,3'])"
   ]
  },
  {
   "cell_type": "code",
   "execution_count": null,
   "metadata": {
    "scrolled": true,
    "tags": []
   },
   "outputs": [],
   "source": [
    "# Find best root nodes: highest values of diffmap DC\n",
    "\n",
    "# THESE INDEXES ARE CURRENTLY BUGGED IN scanpy 1.9.1 (but not 1.8.2)\n",
    "diffmap_dim_DC1 = np.asarray([cell_dim[1] for cell_dim in adataHiVar.obsm['X_diffmap']])\n",
    "diffmap_dim_DC2 = np.asarray([cell_dim[2] for cell_dim in adataHiVar.obsm['X_diffmap']])\n",
    "\n",
    "if run_name == \"A549-TGFB1\":\n",
    "    # Want subset: DC2 low, DC1 low\n",
    "    # All DC2 sorted, low values; remove DC1 high values\n",
    "    DC1_low = diffmap_dim_DC1.argsort()[:1500]\n",
    "    DC2_minus_DC1low = [i for i in diffmap_dim_DC2.argsort() if i not in DC1_low]\n",
    "    root_nodes = DC2_minus_DC1low[:5]\n",
    "    \n",
    "else:\n",
    "    root_nodes = pseudotime_rootNodes(adataHiVar, pseudotime_DC, pseudotime_DC_rootNodes, run_name, numRoots=50)\n",
    "\n",
    "adataHiVar, df_pseudotime = pseudotime_mean(adataHiVar, root_nodes)\n",
    "sc.pl.diffmap(adataHiVar, color=['dpt_pseudotime_mean'], components=['2,3'], save=\" - Pseudotime Mean.png\")"
   ]
  },
  {
   "cell_type": "code",
   "execution_count": null,
   "metadata": {
    "scrolled": true,
    "tags": []
   },
   "outputs": [],
   "source": [
    "pseudotime_per_cluster(adataHiVar, EMT_clusters_in_order, run_name, df_pseudotime)"
   ]
  },
  {
   "cell_type": "code",
   "execution_count": null,
   "metadata": {},
   "outputs": [],
   "source": [
    "# Save h5ad\n",
    "adata.write(dataDir+\"_h5ad/\"+run_name+\"/3-Pseudotime.h5ad\")"
   ]
  },
  {
   "cell_type": "code",
   "execution_count": null,
   "metadata": {},
   "outputs": [],
   "source": [
    "# adata_beforeRNAvelo = adataHiVar.copy()"
   ]
  },
  {
   "cell_type": "markdown",
   "metadata": {},
   "source": [
    "## Part 4: RNA VELOCITY"
   ]
  },
  {
   "cell_type": "code",
   "execution_count": null,
   "metadata": {},
   "outputs": [],
   "source": [
    "import scvelo as scv\n",
    "import shutil\n",
    "scv.settings.figdir = figDir_base + \"/4-RNA Velocity/\"+run_name+\"/\"\n",
    "figDir = figDir_base + \"/4-RNA Velocity/\"+run_name+\"/\""
   ]
  },
  {
   "cell_type": "code",
   "execution_count": null,
   "metadata": {},
   "outputs": [],
   "source": [
    "# Data overview: proportions of spliced to unspliced\n",
    "\n",
    "scv.pl.proportions(adataHiVar, groupby=\"leiden_label\", save=\"- spliced-to-unspliced.png\")"
   ]
  },
  {
   "cell_type": "code",
   "execution_count": null,
   "metadata": {},
   "outputs": [],
   "source": [
    "# Preprocessing\n",
    "scv.pp.filter_and_normalize(adataHiVar) # Unnecessary?\n",
    "scv.pp.moments(adataHiVar)\n",
    "\n",
    "# Calculating velocity - there are different modes: stochastic, deterministic, dynamical\n",
    "scv.tl.recover_dynamics(adataHiVar, n_jobs = 11) # Required for dynamical\n",
    "scv.tl.velocity(adataHiVar, use_highly_variable=False, mode=\"dynamical\")\n",
    "    # actually not sure if highly_variable=False changes since adataHiVar is only for highly variable genes\n",
    "scv.tl.velocity_graph(adataHiVar)\n",
    "scv.tl.velocity_confidence(adataHiVar)\n",
    "# Use dynamical, slower but produces more genes than other methods: https://github.com/theislab/scvelo/issues/158"
   ]
  },
  {
   "cell_type": "code",
   "execution_count": null,
   "metadata": {},
   "outputs": [],
   "source": [
    "# Genes with unspliced counts in min 3 cells:\n",
    "\n",
    "# first: each nonzero element, its row entry\n",
    "    # A rows total\n",
    "# second: each nonzero element, its column entry\n",
    "    # B columns total\n",
    "# unspliced matrix is A x B -- rows x columns\n",
    "\n",
    "# cells are already filtered\n",
    "# therefore, find genes with at least 3 cells of nonzero expression\n",
    "\n",
    "# each number is a gene's index\n",
    "# number listed >=3 times, that gene has unspliced counts\n",
    "unspliced_indices = pd.Series(adataHiVar.layers[\"unspliced\"].nonzero()[1])\n",
    "\n",
    "print(np.sum(unspliced_indices.value_counts() >= 3))\n",
    "\n",
    "unspliced_indices_min3cells = (unspliced_indices.value_counts() >= 3)\n",
    "unspliced_indices_min3cells = unspliced_indices_min3cells[unspliced_indices_min3cells]\n",
    "genes_with_unspliced_counts = [adataHiVar.var_names[i] for i in unspliced_indices_min3cells.index]"
   ]
  },
  {
   "cell_type": "code",
   "execution_count": null,
   "metadata": {},
   "outputs": [],
   "source": [
    "# # Number of genes with velocity information\n",
    "numGeneswVelocityInformation = np.sum(~np.isnan(adataHiVar.var['fit_likelihood']))\n",
    "# numGeneswVelocityInformation\n",
    "\n",
    "# Number of genes actually used in velocity model\n",
    "numVelocityGenes = adataHiVar.var['velocity_genes'].sum()\n",
    "numVelocityGenes"
   ]
  },
  {
   "cell_type": "code",
   "execution_count": null,
   "metadata": {
    "scrolled": true,
    "tags": []
   },
   "outputs": [],
   "source": [
    "# Sanity check:\n",
    "\n",
    "# View top ~10 genes that contribute the most to the velocity model\n",
    "genes_topLikelihood = adataHiVar.var['fit_likelihood'].sort_values(ascending=False).index[:20]\n",
    "scv.pl.scatter(adataHiVar, genes_topLikelihood, color=\"leiden_label\", ncols=3, linewidth=2, save=\"- likelihood, top genes.png\")\n",
    "\n",
    "# \"Look at the phase portraits of genes with the highest likelihood. These contribute the most to the overall fit.\"\n",
    "# https://github.com/theislab/scvelo/discussions/657"
   ]
  },
  {
   "cell_type": "code",
   "execution_count": null,
   "metadata": {},
   "outputs": [],
   "source": [
    "# Velocity model overview\n",
    "scv.pl.velocity_embedding_stream(adataHiVar, color=[\"leiden_label\"], arrow_size=1.2, legend_loc=\"right margin\", save=\"- umap - HQ velocity stream embedding.png\")"
   ]
  },
  {
   "cell_type": "code",
   "execution_count": null,
   "metadata": {},
   "outputs": [],
   "source": [
    "# RNAvelocity model overview\n",
    "# Note: dpt_pseudotime was determined previously, unrelated to RNAvelocity\n",
    "scv.pl.velocity_embedding_stream(adataHiVar, color=[\"leiden_label\", \"Timepoint\", \"dpt_pseudotime_mean\"], save=\"- umap - velocity with clusters, timepoints, pseudotime.png\")\n",
    "scv.pl.scatter(adataHiVar, c=['leiden_label', 'Timepoint', 'velocity_length'], perc=[5, 95], save=\"- scatter - velocity vector length.png\")\n",
    "scv.pl.scatter(adataHiVar, c=['velocity_confidence'], perc=[5, 95])\n"
   ]
  },
  {
   "cell_type": "markdown",
   "metadata": {},
   "source": [
    "### Differential RNAvelocity"
   ]
  },
  {
   "cell_type": "code",
   "execution_count": null,
   "metadata": {},
   "outputs": [],
   "source": [
    "scv.tl.rank_velocity_genes(adataHiVar, groupby='leiden_label', n_genes=numGeneswVelocityInformation)"
   ]
  },
  {
   "cell_type": "code",
   "execution_count": null,
   "metadata": {
    "scrolled": true,
    "tags": []
   },
   "outputs": [],
   "source": [
    "# Differential velocity genes\n",
    "\n",
    "scv.tl.rank_dynamical_genes(adataHiVar, groupby='leiden_label', n_genes=numGeneswVelocityInformation)\n",
    "df_DiffVel_genes = pd.DataFrame(adataHiVar.uns['rank_dynamical_genes']['names'])\n",
    "df_DiffVel_scores = pd.DataFrame.from_records(adataHiVar.uns['rank_dynamical_genes']['scores'])\n",
    "\n",
    "DV_genes_overview = scv.get_df(adataHiVar, 'rank_dynamical_genes/names')\n",
    "DV_genes_overview.head(10)"
   ]
  },
  {
   "cell_type": "code",
   "execution_count": null,
   "metadata": {},
   "outputs": [],
   "source": [
    "# Differential velocity genes by cluster\n",
    "\n",
    "diffVel_E_genes = pd.Series(data=df_DiffVel_scores[\"E\"].values, index=df_DiffVel_genes[\"E\"])\n",
    "diffVel_I_genes = pd.Series(data=df_DiffVel_scores[\"I\"].values, index=df_DiffVel_genes[\"I\"])\n",
    "diffVel_M_genes = pd.Series(data=df_DiffVel_scores[\"M\"].values, index=df_DiffVel_genes[\"M\"])\n",
    "\n",
    "# Select top genes\n",
    "diffVel_E_genes = diffVel_E_genes[diffVel_E_genes > .25]\n",
    "diffVel_I_genes = diffVel_I_genes[diffVel_I_genes > .25]\n",
    "diffVel_M_genes = diffVel_M_genes[diffVel_M_genes > .25]"
   ]
  },
  {
   "cell_type": "code",
   "execution_count": null,
   "metadata": {},
   "outputs": [],
   "source": [
    "# Spearman's\n",
    "scv.tl.rank_velocity_genes(adataHiVar, groupby='leiden_label', n_genes=numGeneswVelocityInformation)\n",
    "velocityGenes_spearmans = adataHiVar.var[~np.isnan(adataHiVar.var['spearmans_score'])]['spearmans_score']"
   ]
  },
  {
   "cell_type": "code",
   "execution_count": null,
   "metadata": {},
   "outputs": [],
   "source": [
    "# Only keep genes above Spearman's correlation cutoff\n",
    "velocityGenes_spearmans_aboveCutoff = velocityGenes_spearmans[velocityGenes_spearmans > 0.5]\n",
    "\n",
    "diffVel_E_genes = diffVel_E_genes.loc[set(diffVel_E_genes.index).intersection(set(velocityGenes_spearmans_aboveCutoff.index))]\n",
    "diffVel_I_genes = diffVel_I_genes.loc[set(diffVel_I_genes.index).intersection(set(velocityGenes_spearmans_aboveCutoff.index))]\n",
    "diffVel_M_genes = diffVel_M_genes.loc[set(diffVel_M_genes.index).intersection(set(velocityGenes_spearmans_aboveCutoff.index))]\n",
    "\n",
    "diffVel_E_genes = diffVel_E_genes.sort_values(ascending = False)\n",
    "diffVel_I_genes = diffVel_I_genes.sort_values(ascending = False)\n",
    "diffVel_M_genes = diffVel_M_genes.sort_values(ascending = False)"
   ]
  },
  {
   "cell_type": "markdown",
   "metadata": {
    "tags": []
   },
   "source": [
    "<!-- # Testing ranges and outputs\n",
    "19 elements -- 0, 19\n",
    "20 elements -- 0, 20\n",
    "21 elements -- 0, 20, 21\n",
    "\n",
    "39 elements -- 0, 20, 39\n",
    "40 elements -- 0, 20, 40\n",
    "41 elements -- 0, 20, 40, 41 -->"
   ]
  },
  {
   "cell_type": "code",
   "execution_count": null,
   "metadata": {
    "scrolled": true,
    "tags": []
   },
   "outputs": [],
   "source": [
    "# Visually inspect differential velocity gene graphs - can exclude any with seemingly poor model fit\n",
    "scv.settings.figdir = figDir_base + \"4-RNA Velocity/\" + run_name + \"/DVel genes, all unfiltered\"\n",
    "shutil.rmtree(scv.settings.figdir)\n",
    "os.mkdir(scv.settings.figdir)\n",
    "\n",
    "gene_sets = [diffVel_E_genes, diffVel_I_genes, diffVel_M_genes]\n",
    "cluster_names = [\"E\", \"I\", \"M\"] \n",
    "\n",
    "for currCluster, currSet in enumerate(gene_sets):\n",
    "    # 20 genes fits per png\n",
    "    currRange = np.arange(0, len(currSet), 20).tolist()\n",
    "    currRange.append(len(currSet))\n",
    "\n",
    "    for i in range(0, len(currRange)-1):\n",
    "        scv.pl.scatter(adataHiVar, list(currSet.index[currRange[i] : currRange[i+1]]), color=\"leiden_label\", ncols=3, linewidth=2, show=False, save=\" - \"+cluster_names[currCluster]+\" DiffVel Genes \"+str(i*20)+\"-\"+str((i+1)*20)+\", unfiltered.png\")"
   ]
  },
  {
   "cell_type": "markdown",
   "metadata": {},
   "source": [
    "### Export DiffVel genes"
   ]
  },
  {
   "cell_type": "code",
   "execution_count": null,
   "metadata": {},
   "outputs": [],
   "source": [
    "scv.settings.figdir = figDir_base + \"4-RNA Velocity/\" + run_name\n",
    "\n",
    "# Export list of DV genes\n",
    "os.chdir(dataSumDir)\n",
    "diffVel_E_genes.to_csv(\"Cluster DiffVel Genes - \"+run_name+\", E.csv\", header=[\"cluster fit_likelihood\"])\n",
    "diffVel_I_genes.to_csv(\"Cluster DiffVel Genes - \"+run_name+\", I.csv\", header=[\"cluster fit_likelihood\"])\n",
    "diffVel_M_genes.to_csv(\"Cluster DiffVel Genes - \"+run_name+\", M.csv\", header=[\"cluster fit_likelihood\"])"
   ]
  },
  {
   "cell_type": "code",
   "execution_count": null,
   "metadata": {},
   "outputs": [],
   "source": [
    "# https://github.com/scverse/anndata/issues/628\n",
    "# for some reason there is an error when saving the h5ad as-is; this person's solution works\n",
    "adataHiVar.obs.to_csv(\"temporary.csv\")\n",
    "metadata = pd.read_csv(\"temporary.csv\")\n",
    "os.remove(\"temporary.csv\")\n",
    "metadata.set_index(\"Unnamed: 0\", inplace=True)\n",
    "adataHiVar.obs = metadata\n",
    "\n",
    "# Save h5ad w rnavelocity\n",
    "adataHiVar.write(dataDir+\"_h5ad/\"+run_name+\"/4-RNA_velocity.h5ad\")"
   ]
  },
  {
   "cell_type": "code",
   "execution_count": null,
   "metadata": {},
   "outputs": [],
   "source": []
  }
 ],
 "metadata": {
  "kernelspec": {
   "display_name": "Python 3 (ipykernel)",
   "language": "python",
   "name": "python3"
  },
  "language_info": {
   "codemirror_mode": {
    "name": "ipython",
    "version": 3
   },
   "file_extension": ".py",
   "mimetype": "text/x-python",
   "name": "python",
   "nbconvert_exporter": "python",
   "pygments_lexer": "ipython3",
   "version": "3.9.13"
  }
 },
 "nbformat": 4,
 "nbformat_minor": 4
}
