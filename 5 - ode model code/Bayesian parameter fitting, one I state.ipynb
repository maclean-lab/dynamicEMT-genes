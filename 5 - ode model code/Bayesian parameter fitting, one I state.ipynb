{
 "cells": [
  {
   "cell_type": "markdown",
   "metadata": {},
   "source": [
    "using Julia Turing.jl"
   ]
  },
  {
   "cell_type": "code",
   "execution_count": null,
   "metadata": {},
   "outputs": [],
   "source": [
    "using Turing, Distributions, DifferentialEquations, DiffEqBayes, DelimitedFiles\n",
    "using MCMCChains, Plots, StatsPlots\n",
    "using DataFrames, CSV\n",
    "\n",
    "# Seed\n",
    "using Random\n",
    "Random.seed!(96)\n",
    "\n",
    "# Logs\n",
    "using Logging\n",
    "Logging.disable_logging(Logging.Warn)\n",
    "LogLevel(1001);"
   ]
  },
  {
   "cell_type": "markdown",
   "metadata": {
    "tags": []
   },
   "source": [
    "#### Run settings"
   ]
  },
  {
   "cell_type": "code",
   "execution_count": null,
   "metadata": {},
   "outputs": [],
   "source": [
    "# Folders for these runs\n",
    "figSaveFolder = \"Figures\"\n",
    "paramSaveFolder = \"Param Fits\"\n",
    "\n",
    "# Create the folders if they don't exist\n",
    "mkpath(\"ODE Model/\"*figSaveFolder)\n",
    "mkpath(\"ODE Model/\"*paramSaveFolder);"
   ]
  },
  {
   "cell_type": "code",
   "execution_count": null,
   "metadata": {},
   "outputs": [],
   "source": [
    "# Dataset strings\n",
    "dataset_strings = [\"1-Pastushenko\", \"2-vanDijk\", \"3-Cook\"]\n",
    "\n",
    "# Condition strings\n",
    "pastushenko_conditions = [\"Pastushenko\"]\n",
    "\n",
    "# File strings\n",
    "pseudotime_str = \" - Pseudotime - 15 bins, cropped.csv\"\n",
    "stdev_str = \" - Pseudotime - 15 bins, cropped, stdev.csv\"\n",
    "\n",
    "vanDijk_files = []\n",
    "vanDijk_files_stdev = []\n",
    "for currFile in vanDijk_conditions\n",
    "    push!(vanDijk_files, currFile*pseudotime_str)\n",
    "    push!(vanDijk_files_stdev, currFile*stdev_str)\n",
    "end\n",
    "\n",
    "cook_files_pseudotime = []\n",
    "cook_files_stdev = []\n",
    "for currFile in cook_conditions\n",
    "    push!(cook_files_pseudotime, currFile*pseudotime_str)\n",
    "    push!(cook_files_stdev, currFile*stdev_str)\n",
    "end"
   ]
  },
  {
   "cell_type": "markdown",
   "metadata": {
    "tags": []
   },
   "source": [
    "## Signaling_Model_Functions"
   ]
  },
  {
   "cell_type": "markdown",
   "metadata": {
    "tags": []
   },
   "source": [
    "### ODE Model"
   ]
  },
  {
   "cell_type": "code",
   "execution_count": null,
   "metadata": {},
   "outputs": [],
   "source": [
    "function model_equations(dCell_types, cell_types, model_params, model_time)\n",
    "    E, I, M = cell_types\n",
    "    k1, k2  = model_params\n",
    "    dCell_types[1] = dE = -k1*E*I\n",
    "    dCell_types[2] = dI = k1*E*I - k2*I*M\n",
    "    dCell_types[3] = dM = k2*I*M\n",
    "end;"
   ]
  },
  {
   "cell_type": "markdown",
   "metadata": {},
   "source": [
    "unfitted_model \\\n",
    "calculate and graph model with unfitted, arbitrary parameters"
   ]
  },
  {
   "cell_type": "code",
   "execution_count": null,
   "metadata": {
    "tags": []
   },
   "outputs": [],
   "source": [
    "init_cell_proportions = [0.998, 0.001, 0.001]\n",
    "legend_labels = [\"E\" \"I\" \"M\"]\n",
    "line_colors = [\"#D95319\" \"#EDB120\" \"#0072BD\"]\n",
    "\n",
    "function unfitted_model()\n",
    "    \n",
    "    # Solve ODE with unfitted parameters\n",
    "    \n",
    "    unfitted_kinetic_param = 1.0\n",
    "    unfitted_params = [unfitted_kinetic_param, unfitted_kinetic_param]\n",
    "\n",
    "    global init_cell_proportions = [0.998, 0.001, 0.001]\n",
    "    time = (0.0, 25.0)\n",
    "\n",
    "    ode_prob_unfitted = ODEProblem(model_equations, init_cell_proportions, time, unfitted_params)\n",
    "    ode_sol_unfitted = solve(ode_prob_unfitted, Tsit5())\n",
    "    \n",
    "    # Graph unfitted solution\n",
    "    \n",
    "    legend_labels = [\"E\" \"I\" \"M\"]\n",
    "    line_colors = [\"#D95319\" \"#EDB120\" \"#0072BD\"]\n",
    "\n",
    "    plot(ode_sol_unfitted, lw=3, lc=line_colors, legend=:right, labels=legend_labels, dpi=250)\n",
    "    title!(\"Signaling Model\\nUnfitted Parameters\")\n",
    "    xlabel!(\"Pseudotime\")\n",
    "    ylabel!(\"Proportion of Cells in Population\")\n",
    "    ylims!(0.0,1.0)\n",
    "    \n",
    "    # Save figure\n",
    "    \n",
    "    cd(\"ODE Model/\")\n",
    "    savefig(\"Signaling Model w Unfitted Parameters.png\")\n",
    "    \n",
    "    return # return nothing\n",
    "    println(init_cell_proportions)\n",
    "end;"
   ]
  },
  {
   "cell_type": "markdown",
   "metadata": {
    "tags": []
   },
   "source": [
    "### Data Fitting"
   ]
  },
  {
   "cell_type": "code",
   "execution_count": null,
   "metadata": {},
   "outputs": [],
   "source": [
    "# code inspiration: https://turing.ml/dev/tutorials/10-bayesian-differential-equations/\n",
    "\n",
    "@model function fit_model(data, data_timepoints)\n",
    "    \n",
    "    # Noise param distribution\n",
    "    σ ~ InverseGamma(3, 1)\n",
    "\n",
    "    # Kinetic param distributions\n",
    "    # General note: pretty uninformative priors\n",
    "    # Truncate values <= 0 because kinetic parameters can't be negative\n",
    "    k1_mean = 4.0\n",
    "    k2_mean = 4.0\n",
    "    k_stdev = 1.0\n",
    "    truncated_lower = 0.001\n",
    "    truncated_upper = 10.0\n",
    "    k1 ~ truncated(Normal(k1_mean,k_stdev), truncated_lower,truncated_upper)\n",
    "    k2 ~ truncated(Normal(k2_mean,k_stdev), truncated_lower,truncated_upper)\n",
    "    model_params = [k1,k2]\n",
    "    \n",
    "    # Solve ODE using priors\n",
    "    ode_prob_priors = ODEProblem(model_equations, init_cell_proportions, (0.0,10.0), model_params)\n",
    "    ode_sol_priors = solve(ode_prob_priors,Tsit5(),saveat=data_timepoints[2]) # Save at increments that match data_timepoint increments\n",
    "    \n",
    "    # Using predicted solve values, set priors for data per timepoint\n",
    "    for i = 1:size(data,2) # Each column (timepoint)\n",
    "        data[:,i] ~ MvNormal(ode_sol_priors[i], σ)\n",
    "    end\n",
    "    \n",
    "end;"
   ]
  },
  {
   "cell_type": "code",
   "execution_count": null,
   "metadata": {},
   "outputs": [],
   "source": [
    "function create_data_model(datasetStr, fileStr)\n",
    "    \n",
    "    # Import data\n",
    "    \n",
    "    cd(\"ODE Model/Data/\"*datasetStr)\n",
    "    raw_data = permutedims(readdlm(fileStr, ',', Float64, '\\n', header=true)[1])\n",
    "    \n",
    "    data_length = size(raw_data)[2]\n",
    "    # Timepoints, normalized to 0.0 - 10.0\n",
    "    data_timepoints = round.(collect(LinRange(0.0,10.0, data_length)), digits=2)\n",
    "    \n",
    "    data = raw_data[1:end .!= 1, 1:end] # Remove the timepoints from the matrix\n",
    "    # Result: matrix with ROWS = cell states, COLUMN = timepoints\n",
    "    \n",
    "    # Fit to model\n",
    "    Turing.setadbackend(:forwarddiff)\n",
    "    data_model = fit_model(data, data_timepoints)\n",
    "    \n",
    "    return data_model, data, data_timepoints\n",
    "end;"
   ]
  },
  {
   "cell_type": "code",
   "execution_count": null,
   "metadata": {},
   "outputs": [],
   "source": [
    "function run_chains(data_model, figSaveFolder, paramSaveFolder, datasetStr, repStr)\n",
    "    \n",
    "    # Run chain\n",
    "    chain = mapreduce(c -> sample(data_model, NUTS(.65), 1250), chainscat, 1:3)\n",
    "    plot(chain, dpi=250)\n",
    "    \n",
    "    # Save chain parameter distribution figures\n",
    "    cd(\"ODE Model/\"*figSaveFolder)\n",
    "    savefig(datasetStr*\" - \"*repStr*\", chains result.png\")\n",
    "    \n",
    "    # Save parameter results from chain iterations\n",
    "    cd(\"ODE Model/\"*paramSaveFolder)\n",
    "    CSV.write(datasetStr*\" - \"*repStr*\", param results.csv\", DataFrame(chain));\n",
    "    \n",
    "    return chain\n",
    "end;"
   ]
  },
  {
   "cell_type": "markdown",
   "metadata": {
    "tags": []
   },
   "source": [
    "## ODE Model"
   ]
  },
  {
   "cell_type": "code",
   "execution_count": null,
   "metadata": {},
   "outputs": [],
   "source": [
    "# vanDijk runs\n",
    "\n",
    "datasetStr = dataset_strings[2]\n",
    "unfitted_model()\n",
    "\n",
    "for i in 1:size(vanDijk_conditions)[1]\n",
    "    repStr = vanDijk_conditions[i]\n",
    "    fileStr = vanDijk_files[i]\n",
    "    stdevStr = vanDijk_files_stdev[i]\n",
    "    \n",
    "    data_model, data, data_timepoints = create_data_model(datasetStr, fileStr)\n",
    "    chain = run_chains(data_model, figSaveFolder, paramSaveFolder, datasetStr, repStr)\n",
    "end"
   ]
  },
  {
   "cell_type": "code",
   "execution_count": null,
   "metadata": {},
   "outputs": [],
   "source": [
    "# Cook runs\n",
    "# cook_conditions = [\"A549-TGFB1\"] - to just test one\n",
    "\n",
    "datasetStr = dataset_strings[3]\n",
    "unfitted_model()\n",
    "\n",
    "for i in 1:size(cook_conditions)[1]\n",
    "# i = 1\n",
    "    repStr = cook_conditions[i]\n",
    "    fileStr = cook_files_pseudotime[i]\n",
    "    stdevStr = cook_files_stdev[i]\n",
    "\n",
    "    data_model, data, data_timepoints = create_data_model(datasetStr, fileStr)\n",
    "    chain = run_chains(data_model, figSaveFolder, paramSaveFolder, datasetStr, repStr)\n",
    "end"
   ]
  },
  {
   "cell_type": "code",
   "execution_count": null,
   "metadata": {},
   "outputs": [],
   "source": [
    "# Panchy data\n",
    "\n",
    "datasetStr = \"6-Panchy\"\n",
    "repStr = \"Panchy\"\n",
    "fileStr = repStr*\" - Pseudotime - 15 bins, cropped.csv\"\n",
    "stdevStr = repStr*\" - Pseudotime - 15 bins, cropped, stdev.csv\"\n",
    "\n",
    "unfitted_model()\n",
    "data_model, data, data_timepoints = create_data_model(datasetStr, fileStr)\n",
    "chain = run_chains(data_model, figSaveFolder, paramSaveFolder, datasetStr, repStr)"
   ]
  },
  {
   "cell_type": "code",
   "execution_count": null,
   "metadata": {},
   "outputs": [],
   "source": []
  }
 ],
 "metadata": {
  "kernelspec": {
   "display_name": "JuliaPro_v1.5.3-1 1.5.3",
   "language": "julia",
   "name": "juliapro_v1.5.3-1-1.5"
  },
  "language_info": {
   "file_extension": ".jl",
   "mimetype": "application/julia",
   "name": "julia",
   "version": "1.5.3"
  },
  "toc-showmarkdowntxt": false
 },
 "nbformat": 4,
 "nbformat_minor": 4
}
