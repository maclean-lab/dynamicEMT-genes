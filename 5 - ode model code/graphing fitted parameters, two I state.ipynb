{
 "cells": [
  {
   "cell_type": "code",
   "execution_count": 1,
   "id": "73085369-3ca4-4478-8fb1-b88f330ca611",
   "metadata": {},
   "outputs": [],
   "source": [
    "import os\n",
    "import glob\n",
    "import pandas as pd\n",
    "import numpy as np\n",
    "import matplotlib.pyplot as plt\n",
    "\n",
    "from scipy.integrate import solve_ivp"
   ]
  },
  {
   "cell_type": "markdown",
   "id": "9a211516-6001-46f6-ae11-7e555b1003a2",
   "metadata": {},
   "source": [
    "Import data points from pseudotime"
   ]
  },
  {
   "cell_type": "code",
   "execution_count": 3,
   "id": "7d79ad9f-8d48-4a5b-b847-2e7910995bb4",
   "metadata": {},
   "outputs": [],
   "source": [
    "# Dataset strings\n",
    "dataset_strings = [\"1-Pastushenko\"]\n",
    "\n",
    "# Condition strings\n",
    "pastushenko_condition = [\"Pastushenko\"]\n",
    "condition_strings = pastushenko_condition"
   ]
  },
  {
   "cell_type": "code",
   "execution_count": 4,
   "id": "2c29538f-8f71-435c-8312-3e2ee08cd489",
   "metadata": {},
   "outputs": [],
   "source": [
    "# File strings\n",
    "pseudotime_str = \" - Pseudotime - 12 bins, cropped.csv\"\n",
    "stdev_str = \" - Pseudotime - 12 bins, cropped, stdev.csv\"\n",
    "\n",
    "pastushenko_files_pseudotime = [pastushenko_condition[0]+pseudotime_str]\n",
    "pastushenko_files_stdev = [pastushenko_condition[0]+stdev_str]\n",
    "\n",
    "pseudotimeFiles = pastushenko_files_pseudotime\n",
    "stdevFiles = pastushenko_files_stdev\n",
    "dataset_strings_pseudotime = dataset_strings\n",
    "\n",
    "# Import data\n",
    "\n",
    "pseudotime_dfs = []\n",
    "stdev_dfs = []\n",
    "\n",
    "for idx, currDatasetStr in enumerate(dataset_strings_pseudotime):\n",
    "    os.chdir(\"ODE Model/Data/\"+currDatasetStr+\"/\")\n",
    "    \n",
    "    currDf = pd.read_csv(pseudotimeFiles[idx], index_col=0)\n",
    "    new_index = np.linspace(0, 10, len(currDf.index)).round(2)\n",
    "    currDf = currDf.set_index(new_index)\n",
    "    pseudotime_dfs.append(currDf)\n",
    "    \n",
    "    currDf = pd.read_csv(stdevFiles[idx], index_col=0)\n",
    "    new_index = np.linspace(0, 10, len(currDf.index)).round(2)\n",
    "    currDf = currDf.set_index(new_index)\n",
    "    stdev_dfs.append(currDf)"
   ]
  },
  {
   "cell_type": "markdown",
   "id": "cac5d946-968c-47ca-9c32-2f60f93c6bc3",
   "metadata": {},
   "source": [
    "Import kparam sets from Turing.jl fits"
   ]
  },
  {
   "cell_type": "code",
   "execution_count": 5,
   "id": "e8f637eb-37be-4d96-939b-2596335e8c6f",
   "metadata": {},
   "outputs": [],
   "source": [
    "# File strings\n",
    "param_str = \", param results.csv\"\n",
    "\n",
    "pastushenko_files = [dataset_strings[0]+\" - \"+pastushenko_condition[0]+param_str]\n",
    "\n",
    "allFiles = pastushenko_files\n",
    "\n",
    "# Import kparams\n",
    "\n",
    "fittedParam_array = []\n",
    "os.chdir(\"ODE Model/Param Fits/\")\n",
    "for inputFile in allFiles:\n",
    "    currFile = pd.read_csv(inputFile).iloc[250:] # Remove 250 warmup\n",
    "    fittedParam_array.append(currFile[[\"k1\", \"k2\", \"k3\", \"σ\"]])\n",
    "    # sigma_array.append(currFile[\"σ\"])"
   ]
  },
  {
   "cell_type": "code",
   "execution_count": 12,
   "id": "08df5cf5-0015-44cd-a540-6763e31d8544",
   "metadata": {},
   "outputs": [],
   "source": [
    "def ode_model(t, initConditions, k1, k2, k3):\n",
    "    E, I1, I2, M = initConditions\n",
    "    dE_dt = -k1 * E * I1\n",
    "    dI1_dt = k1 * E * I1 - k2 * I1 * I2\n",
    "    dI2_dt = k2 * I1 * I2 - k3 * I2 * M\n",
    "    dM_dt = k3 * I2 * M\n",
    "    return [dE_dt, dI1_dt, dI2_dt, dM_dt]\n",
    "\n",
    "def model_trajectory(kparam_random_sample):\n",
    "\n",
    "    # Define the time span and initial conditions\n",
    "    t_span = (0, 10)  # Time span\n",
    "    t_eval = np.linspace(t_span[0], t_span[1], 10000)  # Time points where the solution is evaluated\n",
    "    initial_conditions = [0.998, 0.001, 0.001, 0.001]  # Initial population of E, I, and M\n",
    "\n",
    "    # Define a list of parameter sets (k1, k2) for the ODE model\n",
    "    parameter_sets = kparam_random_sample\n",
    "\n",
    "    # Initialize an array to store the results\n",
    "    trajectories = np.zeros((len(parameter_sets), len(t_eval), 4))  # 3 for E, I, M\n",
    "    noisy_trajectories = np.zeros((len(parameter_sets), len(t_eval), 4))  # 3 for E, I, M\n",
    "\n",
    "    # Solve the ODE for each parameter set and store the trajectories\n",
    "    for i, (k1, k2, k3) in enumerate(parameter_sets):\n",
    "        sol = solve_ivp(ode_model, t_span, initial_conditions, args=(k1, k2, k3), t_eval=t_eval)\n",
    "        trajectories[i] = sol.y.T  # Store the result, transposing to align with time steps\n",
    "    \n",
    "    # Calculate the mean and standard deviation of the trajectories across all parameter sets\n",
    "    mean_trajectory = np.mean(trajectories, axis=0)\n",
    "    std_trajectory = np.std(trajectories, axis=0)\n",
    "    \n",
    "    return mean_trajectory, std_trajectory, t_eval\n",
    "\n",
    "def graph_trajectory(mean_trajectory, std_trajectory, t_eval, data_pseudotime, data_stdev, name_dataset, name_run):\n",
    "    plt.clf()\n",
    "    \n",
    "    # Plot the mean trajectory\n",
    "    plt.plot(t_eval, mean_trajectory[:, 0], color=red, linewidth=2, alpha=0.7)\n",
    "    plt.plot(t_eval, mean_trajectory[:, 1], color=yellow, linewidth=2, alpha=.7)\n",
    "    plt.plot(t_eval, mean_trajectory[:, 2], color=green, linewidth=2, alpha=.7)\n",
    "    plt.plot(t_eval, mean_trajectory[:, 3], color=blue, linewidth=2, alpha=0.7)\n",
    "\n",
    "    # Plot the standard deviation as ribbons (shaded areas)\n",
    "    plt.fill_between(t_eval, mean_trajectory[:, 0] - std_trajectory[:, 0],\n",
    "                     mean_trajectory[:, 0] + std_trajectory[:, 0], facecolor=red, alpha=0.2)\n",
    "    plt.fill_between(t_eval, mean_trajectory[:, 1] - std_trajectory[:, 1], \n",
    "                     mean_trajectory[:, 1] + std_trajectory[:, 1], facecolor=yellow, alpha=0.2)\n",
    "    plt.fill_between(t_eval, mean_trajectory[:, 2] - std_trajectory[:, 2], \n",
    "                     mean_trajectory[:, 2] + std_trajectory[:, 2], facecolor=green, alpha=0.2)\n",
    "    plt.fill_between(t_eval, mean_trajectory[:, 3] - std_trajectory[:, 3], \n",
    "                     mean_trajectory[:, 3] + std_trajectory[:, 3], facecolor=blue, alpha=0.2)\n",
    "\n",
    "    plt.errorbar(data_pseudotime.index, data_pseudotime['E'], yerr=data_stdev['E'], fmt='o', capsize=5, elinewidth=2, capthick=2, color=red)\n",
    "    plt.errorbar(data_pseudotime.index, data_pseudotime['I1'], yerr=data_stdev['I1'], fmt='o', capsize=5, elinewidth=2, capthick=2, color=yellow)\n",
    "    plt.errorbar(data_pseudotime.index, data_pseudotime['I2'], yerr=data_stdev['I2'], fmt='o', capsize=5, elinewidth=2, capthick=2, color=green)\n",
    "    plt.errorbar(data_pseudotime.index, data_pseudotime['M'], yerr=data_stdev['M'], fmt='o', capsize=5, elinewidth=2, capthick=2, color=blue)\n",
    "\n",
    "    plt.ylim([0,1])\n",
    "    plt.yticks([0,1], fontsize=20)\n",
    "\n",
    "    plt.xlim([0, 10])\n",
    "    plt.xticks(fontsize=20)\n",
    "\n",
    "    plt.savefig(name_dataset+\", \"+name_run+\" data and model fit.svg\", dpi=300)\n",
    "    # plt.show()"
   ]
  },
  {
   "cell_type": "code",
   "execution_count": 13,
   "id": "5352c394-4423-4a5e-937b-c991d4829582",
   "metadata": {},
   "outputs": [],
   "source": [
    "plt.rcParams['figure.figsize']=(6,4)\n",
    "plt.rcParams['svg.fonttype'] = 'path'\n",
    "\n",
    "red = \"#DB3A34\"\n",
    "yellow = \"#FFC857\"\n",
    "green = \"#279E68\"\n",
    "blue = \"#3482DB\""
   ]
  },
  {
   "cell_type": "code",
   "execution_count": 14,
   "id": "50b0a373-c9cd-4c78-a15c-4f8710844c94",
   "metadata": {},
   "outputs": [
    {
     "data": {
      "image/png": "[encoded data removed]",
      "text/plain": [
       "<Figure size 432x288 with 1 Axes>"
      ]
     },
     "metadata": {
      "needs_background": "light"
     },
     "output_type": "display_data"
    }
   ],
   "source": [
    "os.chdir(\"Paper Figures/Illustrator base svgs/supp-figure-5/\")\n",
    "np.random.seed(96)\n",
    "\n",
    "for idx, currDatasetStr in enumerate(dataset_strings_pseudotime):\n",
    "\n",
    "    # Randomly select a subset of kparam results\n",
    "    fittedParam_random_sample = fittedParam_array[idx].sample(n=100, random_state=96)\n",
    "    # Convert to list of tuples\n",
    "    kparam_random_sample = fittedParam_random_sample.drop(\"σ\", axis=1)\n",
    "    kparam_random_sample = list(kparam_random_sample.itertuples(index=False, name=None))\n",
    "    # Obtain the mean and std of the set of trajectories\n",
    "    mean_trajectory, std_trajectory, t_eval = model_trajectory(kparam_random_sample)\n",
    "    # Graph\n",
    "    graph_trajectory(mean_trajectory, std_trajectory, t_eval, pseudotime_dfs[idx], stdev_dfs[idx], currDatasetStr[2:], condition_strings[idx])"
   ]
  },
  {
   "cell_type": "code",
   "execution_count": null,
   "id": "e74af829-5482-4251-8374-4ec90c1265a4",
   "metadata": {},
   "outputs": [],
   "source": []
  }
 ],
 "metadata": {
  "kernelspec": {
   "display_name": "Python 3 (ipykernel)",
   "language": "python",
   "name": "python3"
  },
  "language_info": {
   "codemirror_mode": {
    "name": "ipython",
    "version": 3
   },
   "file_extension": ".py",
   "mimetype": "text/x-python",
   "name": "python",
   "nbconvert_exporter": "python",
   "pygments_lexer": "ipython3",
   "version": "3.9.13"
  }
 },
 "nbformat": 4,
 "nbformat_minor": 5
}
