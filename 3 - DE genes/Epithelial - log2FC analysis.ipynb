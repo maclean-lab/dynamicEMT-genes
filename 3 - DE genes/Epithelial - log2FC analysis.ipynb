{
 "cells": [
  {
   "cell_type": "markdown",
   "id": "5f784b61-0976-4a7c-ae32-a3db54bbcd7a",
   "metadata": {
    "tags": []
   },
   "source": [
    "###### Epithelial State DE Genes, Overlap Between Samples"
   ]
  },
  {
   "cell_type": "markdown",
   "id": "135a84eb-1f26-411b-8df2-3c4d2b209d3e",
   "metadata": {},
   "source": [
    "Output: Epithelial State Log2FC Analysis, Genes output"
   ]
  },
  {
   "cell_type": "code",
   "execution_count": 1,
   "id": "f2b19402-b654-4374-b8a2-014c24ebf9c4",
   "metadata": {},
   "outputs": [],
   "source": [
    "import os\n",
    "import csv\n",
    "import glob\n",
    "import numpy as np\n",
    "import pandas as pd\n",
    "import matplotlib.pyplot as plt\n",
    "import openpyxl\n",
    "import shutil\n",
    "import subprocess\n",
    "import seaborn as sns"
   ]
  },
  {
   "cell_type": "code",
   "execution_count": 2,
   "id": "1a99187a-6107-4153-994c-2b8a82c1704c",
   "metadata": {},
   "outputs": [],
   "source": [
    "currStateDir = os.getcwd()"
   ]
  },
  {
   "cell_type": "code",
   "execution_count": null,
   "id": "ec9feeb6-be9b-4df3-8487-ae8e943593dd",
   "metadata": {},
   "outputs": [],
   "source": [
    "currStateDir"
   ]
  },
  {
   "cell_type": "code",
   "execution_count": 4,
   "id": "1746257a-9ab5-4c19-a5dd-9599ab56aaf8",
   "metadata": {},
   "outputs": [],
   "source": [
    "# File & folder names\n",
    "\n",
    "currState = \"Epithelial\"\n",
    "\n",
    "dataFolder = currStateDir+\"/Data - Log2FC from Conditions & Genes\"\n",
    "outputFolder = currStateDir+\"/\"+currState+\" State Log2FC Analysis, Genes output\"\n",
    "outputHistogramFolder = outputFolder+\"/_Log2FC Gene Histograms Across All Conditions, Upregulated\"\n",
    "outputGeneExpressionFolder = outputFolder+\"/Output - Upregulated \"+currState+\" State Genes, Log Gene Expression\"\n",
    "\n",
    "# EMT Marker directory\n",
    "emtMarkerDir = os.path.dirname(currStateDir)+\"/Markers\"\n",
    "\n",
    "# Percent of cells with gene expression directory\n",
    "nCellsFolder = os.path.dirname(currStateDir)+\"/nCells\"\n",
    "\n",
    "allConditions_fileName = \"_\"+currState+\" State Marker Genes, All Conditions.csv\""
   ]
  },
  {
   "cell_type": "markdown",
   "id": "7a307e84-67bd-49d0-8a24-77ececc21103",
   "metadata": {},
   "source": [
    "## Import DE Gene Names"
   ]
  },
  {
   "cell_type": "code",
   "execution_count": 5,
   "id": "e809a87f-0751-4b6e-affa-94340cd927d4",
   "metadata": {},
   "outputs": [],
   "source": [
    "# Import data\n",
    "\n",
    "os.chdir(dataFolder)\n",
    "DE_genes = pd.read_csv(open(allConditions_fileName,'r'))"
   ]
  },
  {
   "cell_type": "code",
   "execution_count": null,
   "id": "820a3776-60fa-42d4-90c0-11332ee05016",
   "metadata": {},
   "outputs": [],
   "source": [
    "# Each expt/condition with its list of DE genes\n",
    "\n",
    "DE_genes.head(5)\n",
    "# NaNs here are because there are not the same number of DE genes in each condition\n",
    "# (using an adj-p-val cutoff, from DE genes calculation, cutting off at maximum # genes)"
   ]
  },
  {
   "cell_type": "code",
   "execution_count": 7,
   "id": "00d7efe8-0309-486b-9cc7-d552058fc404",
   "metadata": {},
   "outputs": [
    {
     "data": {
      "text/plain": [
       "PERP       9\n",
       "KRT17      8\n",
       "KRT6A      8\n",
       "KRT14      8\n",
       "CSTB       8\n",
       "JUP        7\n",
       "KRT5       7\n",
       "FTH1       7\n",
       "TACSTD2    7\n",
       "FTL        7\n",
       "dtype: int64"
      ]
     },
     "execution_count": 7,
     "metadata": {},
     "output_type": "execute_result"
    }
   ],
   "source": [
    "# Genes most frequently found in state\n",
    "\n",
    "flattened_DE_genes = pd.Series(DE_genes.to_numpy().flatten())\n",
    "DE_genes_union = set(flattened_DE_genes.dropna().unique())\n",
    "\n",
    "DE_genes_frequency_counts = flattened_DE_genes.value_counts()\n",
    "DE_genes_frequency_counts.head(10)"
   ]
  },
  {
   "cell_type": "code",
   "execution_count": 8,
   "id": "d343063f-2e43-479d-a10e-70a58aecf24b",
   "metadata": {},
   "outputs": [],
   "source": [
    "# # For a certain gene, check which conditions it is in\n",
    "# currGene = DE_genes_frequency_counts.index[0]\n",
    "# DE_genes_log2FC.isin([currGene]).any(0)"
   ]
  },
  {
   "cell_type": "markdown",
   "id": "5c01cc01-f895-4c69-8eab-876f1b103fd9",
   "metadata": {},
   "source": [
    "## Import DE Gene Log2FCs"
   ]
  },
  {
   "cell_type": "code",
   "execution_count": 9,
   "id": "99d6b1de-b5b0-4ef4-a8e0-5b732b7db7af",
   "metadata": {
    "tags": []
   },
   "outputs": [],
   "source": [
    "# Import data\n",
    "# For every single gene, have the Log2FC of information from each expt/condition\n",
    "# Using Log2FC(I state / all other states), within same experiment, to compare between experiments\n",
    "\n",
    "os.chdir(dataFolder)\n",
    "all_genes_log2FC = pd.DataFrame([]) # Create df\n",
    "\n",
    "# Fill df with gene Log2FC values from each condition\n",
    "# (These values are already output from processing datasets)\n",
    "inputFiles = sorted(glob.glob(currState+\" State Marker Genes - *.csv\"))\n",
    "for inputFile in inputFiles:\n",
    "    currCondition = pd.read_csv(inputFile, header=None, index_col=0)\n",
    "    currCondition.index = currCondition.index.rename(\"Gene\") # Index must have same name aross all expt conditions\n",
    "    currCondition = currCondition.rename(columns={1: inputFile[32:-4]}) # Column name is expt condition\n",
    "    # Merge the new column with imported conditions\n",
    "    all_genes_log2FC = all_genes_log2FC.join(currCondition, how='outer')"
   ]
  },
  {
   "cell_type": "code",
   "execution_count": 10,
   "id": "ebf9c414-b2f1-4c40-9f0b-dcd0b51487ae",
   "metadata": {},
   "outputs": [],
   "source": [
    "# Change order of dataframe to be same as dataset order\n",
    "all_genes_log2FC = all_genes_log2FC[['1-Pastushenko_Pastushenko, E',\n",
    "                                     '2-vanDijk_TGFb-day8_rep1, E',\n",
    "                                     '2-vanDijk_TGFb-day8_rep2, E',\n",
    "                                     '2-vanDijk_TGFb-day10_rep1, E',\n",
    "                                     '2-vanDijk_TGFb-day10_rep2, E',\n",
    "                                     '2-vanDijk_Zeb1_rep1, E',\n",
    "                                     '2-vanDijk_Zeb1_rep2, E',\n",
    "                                     '3-Cook_A549-TGFB1, E',\n",
    "                                     '3-Cook_DU145-TGFB1, E',\n",
    "                                     '3-Cook_OVCA420-EGF, E',\n",
    "                                     '3-Cook_OVCA420-TGFB1, E',\n",
    "                                     '3-Cook_OVCA420-TNF, E']]"
   ]
  },
  {
   "cell_type": "code",
   "execution_count": 11,
   "id": "10cbda1f-d79b-4014-a245-2586f0d1c82f",
   "metadata": {
    "scrolled": true,
    "tags": []
   },
   "outputs": [],
   "source": [
    "DE_genes_log2FC = all_genes_log2FC.loc[list(DE_genes_union)]"
   ]
  },
  {
   "cell_type": "markdown",
   "id": "624d1cd5-d8df-4b17-92cc-b4bc37520ef8",
   "metadata": {},
   "source": [
    "## Import % of Cells with Gene Expression"
   ]
  },
  {
   "cell_type": "code",
   "execution_count": 12,
   "id": "d805c0b4-1151-4ef3-bb24-593a79c577c2",
   "metadata": {},
   "outputs": [],
   "source": [
    "# Import data\n",
    "# For every single gene, have the %cells information from each expt/condition\n",
    "os.chdir(nCellsFolder)\n",
    "all_genes_nCells = pd.DataFrame([]) # Create df\n",
    "\n",
    "# Fill df with %cells value from each condition\n",
    "# (These values are already output from scanpy code)\n",
    "inputFiles = sorted(glob.glob(\"*- percent of cells with gene expression.csv\"))\n",
    "for inputFile in inputFiles:\n",
    "    currCondition = pd.read_csv(inputFile, header=None, index_col=0)\n",
    "    currCondition.index = currCondition.index.rename(\"Gene\") # Index must have same name aross all expt conditions\n",
    "    currCondition = currCondition.rename(columns={1: inputFile[1:-44]}) # Column name is expt condition\n",
    "    # Merge the new column with imported conditions\n",
    "    all_genes_nCells = all_genes_nCells.join(currCondition, how='outer')\n",
    "all_genes_nCells = all_genes_nCells[all_genes_nCells.index.notnull()]\n",
    "all_genes_nCells = all_genes_nCells.apply(pd.to_numeric)\n",
    "\n",
    "# Change order of dataframe to be same as dataset order\n",
    "all_genes_nCells = all_genes_nCells[['1-Pastushenko_Pastushenko',\n",
    "                                     '2-vanDijk_TGFb-day8_rep1',\n",
    "                                     '2-vanDijk_TGFb-day8_rep2',\n",
    "                                     '2-vanDijk_TGFb-day10_rep1',\n",
    "                                     '2-vanDijk_TGFb-day10_rep2',\n",
    "                                     '2-vanDijk_Zeb1_rep1',\n",
    "                                     '2-vanDijk_Zeb1_rep2',\n",
    "                                     '3-Cook_A549-TGFB1',\n",
    "                                     '3-Cook_DU145-TGFB1',\n",
    "                                     '3-Cook_OVCA420-EGF',\n",
    "                                     '3-Cook_OVCA420-TGFB1',\n",
    "                                     '3-Cook_OVCA420-TNF']]\n",
    "\n",
    "# Same column names as DE_genes_log2FC\n",
    "all_genes_nCells = all_genes_nCells.add_suffix(', E')"
   ]
  },
  {
   "cell_type": "markdown",
   "id": "190dce4d-e7b5-48c9-b7ca-59f21f685c5f",
   "metadata": {},
   "source": [
    "## Filter DE Gene Log2FCs"
   ]
  },
  {
   "cell_type": "code",
   "execution_count": 13,
   "id": "cf8caf48-ae78-4658-a2dc-ff96ae0c19e1",
   "metadata": {},
   "outputs": [],
   "source": [
    "# Pre-filtering\n",
    "# Filter genes to have at least certain # conditions that express a gene\n",
    "min_num_conditions = 5\n",
    "filtered_DE_genes_log2FC = DE_genes_log2FC.dropna(axis='rows', thresh=min_num_conditions)\n",
    "\n",
    "# Filter condition 1\n",
    "# Only keep genes that are *highly* upregulated in multiple epithelial conditions\n",
    "n_upregulated_conditions_1 = 5\n",
    "upregulation_cutoff_1 = 0.58 # log2FC of 1.5\n",
    "gene_filtering_criteria_1 = filtered_DE_genes_log2FC.apply(lambda s, n: s.nlargest(n)[-1] > upregulation_cutoff_1, axis=1, n=n_upregulated_conditions_1).copy()\n",
    "# code inspo: https://stackoverflow.com/questions/34518634/finding-highest-values-in-each-row-in-a-data-frame-for-python\n",
    "filtered_DE_genes_log2FC = filtered_DE_genes_log2FC.loc[gene_filtering_criteria_1].copy()\n",
    "\n",
    "\n",
    "\n",
    "# # Why have multiple filter conditions?\n",
    "# # There are 4 similar TGFb conditions in van Dijk - they are often up-regulated / down-regulated together\n",
    "\n",
    "# Filter condition 2\n",
    "# At least two highly upregulated conditions must not be in vanDijk-TGFb\n",
    "\n",
    "# Only Cook & van Dijk Zeb1 & Pastushenko samples\n",
    "without_vanDijkTGFb_cols = [currColumn for currColumn in filtered_DE_genes_log2FC.columns if \"vanDijk\" not in currColumn]\n",
    "without_vanDijkTGFb = filtered_DE_genes_log2FC[without_vanDijkTGFb_cols]\n",
    "\n",
    "# Filter\n",
    "n_upregulated_conditions_2 = 2\n",
    "upregulation_cutoff_2 = 0.58\n",
    "gene_filtering_criteria_2 = without_vanDijkTGFb.apply(lambda s, n: s.nlargest(n)[-1] > upregulation_cutoff_2, axis=1, n=n_upregulated_conditions_2).copy()\n",
    "without_vanDijkTGFb = without_vanDijkTGFb.loc[gene_filtering_criteria_2].copy()\n",
    "filtered_DE_genes_log2FC = filtered_DE_genes_log2FC.loc[without_vanDijkTGFb.index.to_list()]\n",
    "\n",
    "\n",
    "\n",
    "# Filter condition 3\n",
    "# Only keep genes that have above-mentioned upregulation + expression in more than 5% of cells in those datasets\n",
    "\n",
    "# Perc cell expression for current list of filtered DE genes\n",
    "filtered_DE_genes_nCells = all_genes_nCells.filter(filtered_DE_genes_log2FC.index, axis=0)\n",
    "# Two conditions: log2FC of 0.58 and percent cell gene expression of 5%\n",
    "condition_log2FC = filtered_DE_genes_log2FC.applymap(lambda x: 1 if x > 0.58 else 0)\n",
    "condition_nCells = filtered_DE_genes_nCells.applymap(lambda x: 1 if x > 0.05 else 0)\n",
    "gene_filtering_criteria_3_df = condition_log2FC + condition_nCells\n",
    "gene_filtering_criteria_3 = gene_filtering_criteria_3_df.apply(lambda s, n: s.nlargest(n)[-1] == 2.0, axis=1, n=n_upregulated_conditions_1).copy()\n",
    "# code inspo: https://stackoverflow.com/questions/34518634/finding-highest-values-in-each-row-in-a-data-frame-for-python\n",
    "filtered_DE_genes_log2FC = filtered_DE_genes_log2FC.loc[gene_filtering_criteria_3].copy()\n",
    "\n",
    "\n",
    "\n",
    "# Filter condition 4\n",
    "# Only keep genes that are not highly downregulated in multiple conditions\n",
    "n_downregulated_conditions = 3\n",
    "downregulation_cutoff = -0.58 # log2FC of 1.5\n",
    "gene_filtering_criteria_4 = filtered_DE_genes_log2FC.apply(lambda s, n: s.nsmallest(n)[-1] > downregulation_cutoff, axis=1, n=n_downregulated_conditions).copy()\n",
    "# code inspo: https://stackoverflow.com/questions/34518634/finding-highest-values-in-each-row-in-a-data-frame-for-python\n",
    "filtered_DE_genes_log2FC = filtered_DE_genes_log2FC.loc[gene_filtering_criteria_4].copy()"
   ]
  },
  {
   "cell_type": "code",
   "execution_count": 14,
   "id": "a511caf2-3e65-42f8-bb3c-cc20dc4bb820",
   "metadata": {},
   "outputs": [
    {
     "data": {
      "text/plain": [
       "109"
      ]
     },
     "execution_count": 14,
     "metadata": {},
     "output_type": "execute_result"
    }
   ],
   "source": [
    "# Overall: 5 total samples upregulated, and at least 2 must be non van Dijk TGFb\n",
    "len(filtered_DE_genes_log2FC.index)"
   ]
  },
  {
   "cell_type": "code",
   "execution_count": null,
   "id": "fc132f98-696f-47da-b28f-1fd6b247c751",
   "metadata": {},
   "outputs": [
    {
     "data": {
      "text/plain": [
       "Index(['BAG1', 'NQO2', 'SQSTM1', 'DSC2', 'ADIRF', 'VAMP8', 'MAPK13', 'AGPAT2',\n",
       "       'VPS37B', 'DDIT4',\n",
       "       ...\n",
       "       'ADI1', 'KIF13A', 'TMEM238', 'IGFBP3', 'SERPINB1', 'CLDND1', 'TMEM132A',\n",
       "       'CLTB', 'FTL', 'THEM6'],\n",
       "      dtype='object', name='Gene', length=109)"
      ]
     },
     "execution_count": 15,
     "metadata": {},
     "output_type": "execute_result"
    }
   ],
   "source": [
    "filtered_DE_genes_log2FC.index"
   ]
  },
  {
   "cell_type": "code",
   "execution_count": null,
   "id": "ea2a1bf0-9384-49b6-b19f-6b8da4e6cf05",
   "metadata": {},
   "outputs": [],
   "source": []
  }
 ],
 "metadata": {
  "kernelspec": {
   "display_name": "Python 3 (ipykernel)",
   "language": "python",
   "name": "python3"
  },
  "language_info": {
   "codemirror_mode": {
    "name": "ipython",
    "version": 3
   },
   "file_extension": ".py",
   "mimetype": "text/x-python",
   "name": "python",
   "nbconvert_exporter": "python",
   "pygments_lexer": "ipython3",
   "version": "3.9.13"
  }
 },
 "nbformat": 4,
 "nbformat_minor": 5
}
